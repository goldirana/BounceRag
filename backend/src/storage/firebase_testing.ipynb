{
 "cells": [
  {
   "cell_type": "code",
   "execution_count": 1,
   "metadata": {},
   "outputs": [
    {
     "data": {
      "text/plain": [
       "(None, '/Users/goldyrana/mess/deep_learning/projects/rag')"
      ]
     },
     "execution_count": 1,
     "metadata": {},
     "output_type": "execute_result"
    }
   ],
   "source": [
    "import firebase_admin\n",
    "from firebase_admin import credentials, firestore\n",
    "import os\n",
    "os.chdir(\"../../../\"), os.getcwd()"
   ]
  },
  {
   "cell_type": "code",
   "execution_count": 2,
   "metadata": {},
   "outputs": [],
   "source": [
    "cred = credentials.Certificate(\"credentials/firebase_credentials.json\")\n",
    "firebase_admin.initialize_app(cred)\n",
    "firestore_db = firestore.client()"
   ]
  },
  {
   "cell_type": "code",
   "execution_count": null,
   "metadata": {},
   "outputs": [],
   "source": [
    "def store_user_chat(user_id, chat_id):\n",
    "    user_ref = firestore_db.collection(\"users\").document(user_id)\n",
    "    user_ref.update({\"chat_id\": chat_id})"
   ]
  },
  {
   "cell_type": "code",
   "execution_count": 8,
   "metadata": {},
   "outputs": [
    {
     "data": {
      "text/plain": [
       "<google.cloud.firestore_v1.base_document.DocumentSnapshot at 0x1073745b0>"
      ]
     },
     "execution_count": 8,
     "metadata": {},
     "output_type": "execute_result"
    }
   ],
   "source": [
    "firestore_db.collection(\"user_chats\").document(\"id_1\").get()"
   ]
  },
  {
   "cell_type": "code",
   "execution_count": 12,
   "metadata": {},
   "outputs": [
    {
     "data": {
      "text/plain": [
       "[]"
      ]
     },
     "execution_count": 12,
     "metadata": {},
     "output_type": "execute_result"
    }
   ],
   "source": [
    "get_user_chat_history(\"user_chats\")"
   ]
  },
  {
   "cell_type": "code",
   "execution_count": 5,
   "metadata": {},
   "outputs": [],
   "source": [
    "def get_user_chat_history(user_id, limit=5):\n",
    "    \"\"\"Retrieves the last few chat messages of a user from Firestore\"\"\"\n",
    "\n",
    "    chat_ref = firestore_db.collection(\"user_chats\").document(user_id).collection(\"history\")\n",
    "\n",
    "    # Fetch the last `limit` messages sorted by timestamp (latest first)\n",
    "    chat_docs = chat_ref.order_by(\"timestamp\", direction=firestore.Query.DESCENDING).limit(limit).stream()\n",
    "\n",
    "    history = []\n",
    "    for doc in chat_docs:\n",
    "        history.append(doc.to_dict())\n",
    "\n",
    "    return history"
   ]
  },
  {
   "cell_type": "code",
   "execution_count": 6,
   "metadata": {},
   "outputs": [
    {
     "data": {
      "text/plain": [
       "[]"
      ]
     },
     "execution_count": 6,
     "metadata": {},
     "output_type": "execute_result"
    }
   ],
   "source": [
    "get_user_chat_history(\"default_user_1\")"
   ]
  },
  {
   "cell_type": "code",
   "execution_count": 9,
   "metadata": {},
   "outputs": [],
   "source": [
    "x = firestore_db.collection(\"user_chats\").document(\"default_user_1\").collection(\"history\")\n"
   ]
  },
  {
   "cell_type": "code",
   "execution_count": 18,
   "metadata": {},
   "outputs": [
    {
     "name": "stdout",
     "output_type": "stream",
     "text": [
      "wCHxgsTvT7Ifx7MYp8Gs\n"
     ]
    }
   ],
   "source": [
    "for i in x.list_documents():\n",
    "    print(i.id)"
   ]
  },
  {
   "cell_type": "code",
   "execution_count": 20,
   "metadata": {},
   "outputs": [
    {
     "data": {
      "text/plain": [
       "{'query': \"user's input question\", 'response': 'llm response'}"
      ]
     },
     "execution_count": 20,
     "metadata": {},
     "output_type": "execute_result"
    }
   ],
   "source": [
    "x.document(\"wCHxgsTvT7Ifx7MYp8Gs\").get().to_dict()"
   ]
  },
  {
   "cell_type": "code",
   "execution_count": null,
   "metadata": {},
   "outputs": [],
   "source": [
    "# Setup Firebase Firestore\n",
    "PROJECT_ID = \"langchain-a5989\"\n",
    "SESSION_ID = \"user_session_new\"  # This could be a username or a unique ID\n",
    "COLLECTION_NAME = \"chat_history\"\n",
    "\n",
    "# Initialize Firestore Client\n",
    "print(\"Initializing Firestore Client...\")\n",
    "client = firestore.Client(project=PROJECT_ID)\n",
    "\n",
    "# Initialize Firestore Chat Message History\n",
    "print(\"Initializing Firestore Chat Message History...\")\n",
    "chat_history = FirestoreChatMessageHistory(\n",
    "    session_id=SESSION_ID,\n",
    "    collection=COLLECTION_NAME,\n",
    "    client=client,\n",
    ")\n",
    "print(\"Chat History Initialized.\")\n",
    "print(\"Current Chat History:\", chat_history.messages)\n",
    "\n",
    "# Initialize Chat Model\n",
    "model = ChatOpenAI()"
   ]
  },
  {
   "cell_type": "code",
   "execution_count": 1,
   "metadata": {},
   "outputs": [
    {
     "data": {
      "text/plain": [
       "(None, '/Users/goldyrana/mess/deep_learning/projects/rag')"
      ]
     },
     "execution_count": 1,
     "metadata": {},
     "output_type": "execute_result"
    }
   ],
   "source": [
    "import firebase_admin\n",
    "from firebase_admin import credentials, firestore\n",
    "import os\n",
    "os.chdir(\"../../../\"), os.getcwd()"
   ]
  },
  {
   "cell_type": "code",
   "execution_count": 2,
   "metadata": {},
   "outputs": [],
   "source": [
    "cred = credentials.Certificate(\"credentials/firebase_credentials.json\")\n",
    "firebase_admin.initialize_app(cred)\n",
    "client = firestore.client()"
   ]
  },
  {
   "cell_type": "code",
   "execution_count": 3,
   "metadata": {},
   "outputs": [],
   "source": [
    "from langchain_google_firestore import FirestoreChatMessageHistory\n",
    "chat_history = FirestoreChatMessageHistory(\n",
    "    session_id=\"user_session_new\",\n",
    "    collection=\"chat_history\",\n",
    "    client=client,\n",
    ")"
   ]
  },
  {
   "cell_type": "code",
   "execution_count": 6,
   "metadata": {},
   "outputs": [],
   "source": [
    "chat_history._load_messages()"
   ]
  },
  {
   "cell_type": "code",
   "execution_count": 8,
   "metadata": {},
   "outputs": [],
   "source": [
    "from datetime import datetime\n"
   ]
  },
  {
   "cell_type": "code",
   "execution_count": null,
   "metadata": {},
   "outputs": [],
   "source": []
  },
  {
   "cell_type": "code",
   "execution_count": 9,
   "metadata": {},
   "outputs": [],
   "source": [
    "timestamp = datetime.utcnow().isoformat()"
   ]
  },
  {
   "cell_type": "code",
   "execution_count": 14,
   "metadata": {},
   "outputs": [],
   "source": [
    "chat_history.add_user_message(\"hello my name is rana\")\n",
    "chat_history.add_ai_message(\"hello goldy, how can I help you today?\")"
   ]
  },
  {
   "cell_type": "code",
   "execution_count": 16,
   "metadata": {},
   "outputs": [
    {
     "data": {
      "text/plain": [
       "[AIMessage(content='hello goldy, how can I help you today?', additional_kwargs={}, response_metadata={}),\n",
       " HumanMessage(content='hello my name is goldy', additional_kwargs={}, response_metadata={}),\n",
       " AIMessage(content='hello goldy, how can I help you today?', additional_kwargs={}, response_metadata={}),\n",
       " HumanMessage(content='hello my name is rana', additional_kwargs={}, response_metadata={}),\n",
       " AIMessage(content='hello goldy, how can I help you today?', additional_kwargs={}, response_metadata={})]"
      ]
     },
     "execution_count": 16,
     "metadata": {},
     "output_type": "execute_result"
    }
   ],
   "source": [
    "chat_history.messages[-5:]"
   ]
  },
  {
   "cell_type": "code",
   "execution_count": null,
   "metadata": {},
   "outputs": [],
   "source": [
    "# Initialize Firestore Client\n",
    "print(\"Initializing Firestore Client...\")\n",
    "client = firestore.Client(project=PROJECT_ID)\n"
   ]
  },
  {
   "cell_type": "code",
   "execution_count": null,
   "metadata": {},
   "outputs": [],
   "source": [
    "from dataclasses import dataclass\n",
    "from backend.src.constants import FIREBASE_CREDENTIALS_PATH # This can be hidden using google.cloud secretmanager \n",
    "\n",
    "\n",
    "@dataclass\n",
    "class FireStoreConfig:\n",
    "    firebase_credentials_path:str\n",
    "    session_id: str\n",
    "\n",
    "class ConfigurationManager:\n",
    "    def __init__(self, config: FireStoreConfig, chat_history: str=None):\n",
    "        self.config = config\n",
    "        if chat_history is None:\n",
    "            self.collection = \"chat_history\"\n",
    "        self.chat_history = chat_history\n",
    "\n",
    "    def get_firebase_params(self):\n",
    "        cred = FireStoreConfig(\n",
    "            firebase_credentials_path=self.config.firebase.firebase_credentials_path,\n",
    "            session_id=self.config.firebase.session_id\n",
    "        )\n",
    "        return cred\n",
    "    \n",
    "class FireStore:\n",
    "    def __init__(self, config: FireStoreConfig):\n",
    "        self.config = config\n",
    "      \n",
    "    def get_firestore_client(self):\n",
    "        cred = credentials.Certificate(self.config.firebase_credentials_path)\n",
    "        firebase_admin.initialize_app(cred)\n",
    "        return firestore.client()\n",
    "    \n",
    "    def get_chat_history(self, user_id, limit=5):\n",
    "        chat_history=FirestoreChatMessageHistory(\n",
    "            session_id=self.config.session_id,\n",
    "            collection=\"chat_history\",\n",
    "            client=self.get_firestore_client()\n",
    "        )\n",
    "        return chat_history\n",
    "        \n",
    "    def load_messages(self, chat_history, limit=5):\n",
    "        return chat_history.messages[-limit:]\n",
    "    \n",
    "    def add_user_message(self, human_message, ai_message) -> None:\n",
    "        chat_history.add_user_message(human_message)\n",
    "        chat_history.add_ai_message(ai_message)"
   ]
  }
 ],
 "metadata": {
  "kernelspec": {
   "display_name": "bounce",
   "language": "python",
   "name": "python3"
  },
  "language_info": {
   "codemirror_mode": {
    "name": "ipython",
    "version": 3
   },
   "file_extension": ".py",
   "mimetype": "text/x-python",
   "name": "python",
   "nbconvert_exporter": "python",
   "pygments_lexer": "ipython3",
   "version": "3.9.21"
  }
 },
 "nbformat": 4,
 "nbformat_minor": 2
}
