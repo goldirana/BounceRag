{
 "cells": [
  {
   "cell_type": "code",
   "execution_count": 1,
   "metadata": {},
   "outputs": [
    {
     "name": "stderr",
     "output_type": "stream",
     "text": [
      "/Users/goldyrana/miniconda3/envs/bounce/lib/python3.9/site-packages/tqdm/auto.py:21: TqdmWarning: IProgress not found. Please update jupyter and ipywidgets. See https://ipywidgets.readthedocs.io/en/stable/user_install.html\n",
      "  from .autonotebook import tqdm as notebook_tqdm\n"
     ]
    },
    {
     "data": {
      "text/plain": [
       "True"
      ]
     },
     "execution_count": 1,
     "metadata": {},
     "output_type": "execute_result"
    }
   ],
   "source": [
    "import os\n",
    "from typing import Any\n",
    "\n",
    "from pydantic import BaseModel\n",
    "from unstructured.partition.pdf import partition_pdf\n",
    "import json\n",
    "# import tesseract\n",
    "import pytesseract\n",
    "from typing import *\n",
    "from box import ConfigBox\n",
    "from pathlib import Path\n",
    "import re, sys, os\n",
    "from functools import partial\n",
    "\n",
    "\n",
    "\n",
    "import io\n",
    "import os\n",
    "import base64\n",
    "import numpy as np\n",
    "from PIL import Image\n",
    "from langchain.chat_models import ChatOpenAI\n",
    "from langchain.schema.messages import HumanMessage, SystemMessage, AIMessage\n",
    "\n",
    "\n",
    "import uuid\n",
    "from langchain.vectorstores import Chroma\n",
    "from langchain.storage import InMemoryStore\n",
    "from langchain.schema.document import Document\n",
    "from langchain.embeddings import OpenAIEmbeddings\n",
    "from langchain.retrievers.multi_vector import MultiVectorRetriever\n",
    "\n",
    "\n",
    "from langchain.chat_models import ChatOpenAI\n",
    "from langchain.prompts import ChatPromptTemplate\n",
    "from langchain.schema.output_parser import StrOutputParser\n",
    "\n",
    "from dotenv import load_dotenv\n",
    "\n",
    "from dataclasses import dataclass\n",
    "from zipfile import ZipFile\n",
    "load_dotenv()"
   ]
  },
  {
   "cell_type": "code",
   "execution_count": 2,
   "metadata": {},
   "outputs": [],
   "source": [
    "os.getcwd()\n",
    "os.chdir(\"../../\")"
   ]
  },
  {
   "cell_type": "code",
   "execution_count": 3,
   "metadata": {},
   "outputs": [],
   "source": [
    "from unstructured.documents.elements import CompositeElement, Table, Image, ListItem  # Import ListItem\n",
    "\n",
    "from backend.src.utils.common import *\n",
    "from backend.logger import logger\n",
    "from backend.src.constants import *"
   ]
  },
  {
   "cell_type": "code",
   "execution_count": 4,
   "metadata": {},
   "outputs": [],
   "source": [
    "\n",
    "\n",
    "\n",
    "class Extractor:\n",
    "    def __init__(self):\n",
    "        pass\n",
    "    \n",
    "    def get_metadata(raw_pdf_element: List) -> List:\n",
    "        \"\"\"To get the metadata of elements\n",
    "\n",
    "        Args:\n",
    "            raw_pdf_element (List): list of elements in pdf\n",
    "\n",
    "        Returns:\n",
    "            List: containing meta data\n",
    "        \"\"\"\n",
    "        metadata = []\n",
    "        for element in raw_pdf_element:\n",
    "            metadata.append(element.metadata.to_dict())\n",
    "        \n",
    "        return metadata\n",
    "    \n",
    "    def add_metadata(self, element, **kwargs):\n",
    "        metadata = kwargs\n",
    "        return Document(element, metadata)\n",
    " \n",
    "    def get_year(self, file: str) -> str:\n",
    "        \"\"\"To get the year from file name\n",
    "        Args:\n",
    "            file: name of with extension\"\"\"\n",
    "        \n",
    "        year = re.search(r\"\\d{4}\", file).group()    \n",
    "        if year:\n",
    "            return str(year)\n",
    "        else:\n",
    "            try:\n",
    "                file_name = os.path.split(file)[-1].split(\".\")[0]\n",
    "                return file_name\n",
    "            except Exception as e:\n",
    "                logger.error(f\"Error in getting year from file: {file} with error: {e}\")\n",
    "                return \"1.0\"\n",
    "        \n",
    "    def extract_data(self, pdf_file, **kwargs):\n",
    "        raw_pdf_elements = partition_pdf(filename=pdf_file, **kwargs)\n",
    "        return raw_pdf_elements\n",
    "    \n",
    "    def generate_unique_id(self, data: Iterator)-> List[str]:\n",
    "        \"\"\"To generate unique id for each element\"\"\"\n",
    "        \n",
    "        unique_id = []\n",
    "        for _ in data:\n",
    "            unique_id.append(str(uuid.uuid4()))\n",
    "        \n",
    "        return unique_id\n",
    "    \n",
    "    def generate_document(self, content: List, id_key: str):\n",
    "        \"\"\"To generate document from content\"\"\"\n",
    "                \n",
    "        ids = self.generate_unique_id(content)\n",
    "        summaries = [Document(page_content=summary, metadata={id_key: ids[index]})\n",
    "                         for index, summary in enumerate(content)]\n",
    "        \n",
    "        return summaries\n",
    "    \n",
    "    @staticmethod\n",
    "    def seprate_data_metadata_for_text(data: List[CompositeElement]) -> Tuple[List, List]:\n",
    "        \"\"\"To seprate data and metadata from dict\n",
    "\n",
    "        Args:\n",
    "            data (List[dict]): List containing raw_pdf_elements\n",
    "            text_name (str): key to get text from dict. Defaults to \"text\"\n",
    "            metadata_name (str): key to get metadata from dict. Defaults to \"metadata\"\n",
    "\n",
    "        Returns:\n",
    "            Tuple: containing text, metadata\n",
    "        \"\"\"\n",
    "        text, metadata = [], []\n",
    "        for i in data:\n",
    "            text.append(str(i))\n",
    "            metadata.append(i.metadata.to_dict())\n",
    "        return text, metadata\n",
    "        \n",
    "\n",
    "@dataclass\n",
    "class VectorDatabaseConfig:\n",
    "    vectorstore_name: str\n",
    "    persist_directory: str\n",
    "        \n",
    "class ConfigurationManager:\n",
    "    def __init__(self, CONFIG_FILE_PATH, PARAMS_FILE_PATH):\n",
    "        self.config = read_yaml(CONFIG_FILE_PATH)\n",
    "        self.params = read_yaml(PARAMS_FILE_PATH)\n",
    "        \n",
    "    def get_vectordatabase_config(self) -> VectorDatabaseConfig:\n",
    "        params = VectorDatabaseConfig(\n",
    "            vectorstore_name=self.config.vector_database.vectorstore_name,\n",
    "            persist_directory=self.config.vector_database.persist_directory)\n",
    "        return params\n",
    "    \n",
    "    \n",
    "class VectorDatabase(Extractor):\n",
    "    def __init__(self, config):\n",
    "        super(VectorDatabase, self).__init__()\n",
    "        self.config = config\n",
    "    \n",
    "    def init_chromadb(self, embeddings):\n",
    "        return Chroma(self.config.vectorstore_name, \n",
    "                      embeddings, \n",
    "                      persist_directory=self.config.persist_directory)\n",
    "        \n",
    "    def get_retriever(self, vectorstore, id_key: str=\"doc_id\") -> MultiVectorRetriever:\n",
    "        store = InMemoryStore()\n",
    "        return MultiVectorRetriever(\n",
    "            vectorstore=vectorstore,\n",
    "            docstore=store,\n",
    "            id_key=id_key\n",
    "        )\n",
    "          \n",
    "    def generate_document(self, data, metadata=None) -> Document:\n",
    "        if metadata == None:\n",
    "            metadata = self.generate_unique_id(data)\n",
    "        \n",
    "        documents = [Document(page_content=data_, metadata=metadata_)\n",
    "                        for data_, metadata_ in zip(data, metadata)]\n",
    "        return documents\n",
    "    \n",
    "    def store_to_vb(self, data: List[Tuple], summaries: List[Document], retriever)->None:\n",
    "        try:\n",
    "            retriever.docstore.mset(data)\n",
    "            retriever.vectorstore.add_documents(summaries)\n",
    "        except Exception as e:\n",
    "            print(\"Error in storing data to vectorbase: \", e)\n",
    "            raise e\n",
    "\n",
    "    def zip_vector_database(self) -> None:\n",
    "        \"\"\"To zip the vector database; using persist_directory\n",
    "        \"\"\"\n",
    "        with ZipFile(self.config.persist_directory + \".zip\", 'w') as zipf:\n",
    "            for root, dirs, files in os.walk(self.config.persist_directory):\n",
    "                for file in files:\n",
    "                    zipf.write(os.path.join(root, file))\n",
    "\n",
    "    def unzip_vectorbase(self, extract_to) -> None:\n",
    "        \"\"\"To unzip vectorbase; using persist_directory\n",
    "        Args:\n",
    "            extract_to: path to extract the vectorbase\n",
    "        \"\"\"\n",
    "        with ZipFile(self.config.persist_directory + \".zip\", 'r') as zip_ref:\n",
    "            zip_ref.extractall(extract_to)\n"
   ]
  },
  {
   "cell_type": "code",
   "execution_count": 5,
   "metadata": {},
   "outputs": [
    {
     "name": "stderr",
     "output_type": "stream",
     "text": [
      "2025-02-10 11:20:00,701 - root - INFO - Yaml read successfully from config.yaml\n",
      "2025-02-10 11:20:00,702 - root - ERROR - FileNotFoundError: params.yaml\n",
      "/var/folders/rt/_sv9t5px3yv5bth97z8py2mr0000gn/T/ipykernel_95853/3471854416.py:5: LangChainDeprecationWarning: The class `OpenAIEmbeddings` was deprecated in LangChain 0.0.9 and will be removed in 1.0. An updated version of the class exists in the :class:`~langchain-openai package and should be used instead. To use it run `pip install -U :class:`~langchain-openai` and import as `from :class:`~langchain_openai import OpenAIEmbeddings``.\n",
      "  vectorstore = vb.init_chromadb(OpenAIEmbeddings())\n"
     ]
    },
    {
     "name": "stdout",
     "output_type": "stream",
     "text": [
      "VectorDatabaseConfig(vectorstore_name='test3', persist_directory='test_directory')\n"
     ]
    },
    {
     "name": "stderr",
     "output_type": "stream",
     "text": [
      "/var/folders/rt/_sv9t5px3yv5bth97z8py2mr0000gn/T/ipykernel_95853/1953380339.py:106: LangChainDeprecationWarning: The class `Chroma` was deprecated in LangChain 0.2.9 and will be removed in 1.0. An updated version of the class exists in the :class:`~langchain-chroma package and should be used instead. To use it run `pip install -U :class:`~langchain-chroma` and import as `from :class:`~langchain_chroma import Chroma``.\n",
      "  return Chroma(self.config.vectorstore_name,\n",
      "2025-02-10 11:20:01,513 - chromadb.telemetry.product.posthog - INFO - Anonymized telemetry enabled. See                     https://docs.trychroma.com/telemetry for more information.\n",
      "2025-02-10 11:20:01,618 - chromadb.config - DEBUG - Starting component System\n",
      "2025-02-10 11:20:01,618 - chromadb.config - DEBUG - Starting component Posthog\n",
      "2025-02-10 11:20:01,619 - chromadb.config - DEBUG - Starting component OpenTelemetryClient\n",
      "2025-02-10 11:20:01,619 - chromadb.config - DEBUG - Starting component SqliteDB\n",
      "2025-02-10 11:20:01,624 - chromadb.config - DEBUG - Starting component SimpleQuotaEnforcer\n",
      "2025-02-10 11:20:01,624 - chromadb.config - DEBUG - Starting component SimpleRateLimitEnforcer\n",
      "2025-02-10 11:20:01,625 - chromadb.config - DEBUG - Starting component LocalSegmentManager\n",
      "2025-02-10 11:20:01,625 - chromadb.config - DEBUG - Starting component LocalExecutor\n",
      "2025-02-10 11:20:01,625 - chromadb.config - DEBUG - Starting component SegmentAPI\n",
      "2025-02-10 11:20:01,630 - chromadb.api.segment - DEBUG - Collection test3 already exists, returning existing collection.\n"
     ]
    },
    {
     "name": "stderr",
     "output_type": "stream",
     "text": [
      "2025-02-10 11:20:02,134 - urllib3.connectionpool - DEBUG - Starting new HTTPS connection (1): us.i.posthog.com:443\n",
      "2025-02-10 11:20:03,170 - urllib3.connectionpool - DEBUG - https://us.i.posthog.com:443 \"POST /batch/ HTTP/1.1\" 200 15\n"
     ]
    }
   ],
   "source": [
    "config_manager = ConfigurationManager(CONFIG_FILE_PATH, PARAMS_FILE_PATH)\n",
    "vb_params = config_manager.get_vectordatabase_config()\n",
    "print(vb_params)\n",
    "vb = VectorDatabase(vb_params)\n",
    "vectorstore = vb.init_chromadb(OpenAIEmbeddings())\n",
    "\n",
    "retriever = vb.get_retriever(vectorstore, id_key=\"doc_id\")\n",
    "# vb.store_to_vb(encoded_images, image_summaries, retriever)"
   ]
  },
  {
   "cell_type": "code",
   "execution_count": 47,
   "metadata": {},
   "outputs": [],
   "source": [
    "\n",
    "from base64 import b64decode\n",
    "from IPython.display import display, HTML\n",
    "\n",
    "class QueryHandler:\n",
    "    def __init__(self, retriever):\n",
    "        self.retriever = retriever\n",
    "        self.docstore = retriever.docstore\n",
    "        self.vectorstore = retriever.vectorstore\n",
    "        \n",
    "    def similarity_search(self, query: str, top_k: int=5):\n",
    "        return self.retriever.vectorstore.similarity_search(query, top_k)\n",
    "    \n",
    "    def relevant_documents(self, query: str, top_k: int=5):\n",
    "        return self.retriever.get_relevant_documents(query, k=top_k, return_metadata=True)\n",
    "    \n",
    "    def query_by_vector(self, vector: np.array, top_k: int=5):\n",
    "        return self.retriever.query_by_vector(vector, top_k)\n",
    "    \n",
    "    def query_by_document(self, document: Document, top_k: int=5):\n",
    "        return self.retriever.query_by_document(document, top_k)\n",
    "        \n",
    "    def map_raw_docs(self, vectorstore_results: List[Document]) -> List:\n",
    "        \"\"\"To map the raw documents from vectorstore results by using doc_id from metadata\n",
    "        Args:\n",
    "            vectorstore_results (List[Document]): results from vectorstore\n",
    "        Returns:\n",
    "            List: containing raw documents\n",
    "        \"\"\"\n",
    "        raw_docs = []\n",
    "        meta_data = []\n",
    "        for i in vectorstore_results:\n",
    "\n",
    "            doc_id = i.metadata[\"doc_id\"]\n",
    "            doc = retriever.docstore.__dict__[\"store\"].get(doc_id, \"None\") # if data is present in InMemoryStore\n",
    "            if doc == \"None\":\n",
    "                raw_docs.append(i.metadata.get(\"raw_text\", \"None\"))\n",
    "            else:\n",
    "                raw_docs.append(doc)\n",
    "            i.metadata.pop(\"raw_text\", None)\n",
    "            meta_data.append(i.metadata)\n",
    "        return raw_docs, meta_data\n",
    "    \n",
    "    def split_image_text_types(self, docs: List[Document]) -> Dict:\n",
    "    #     ''' Split base64-encoded images and texts '''\n",
    "        b64 = []\n",
    "        text = []\n",
    "        for doc in docs:\n",
    "            if doc.metadata[\"type\"] == \"Image\":\n",
    "                b64.append(self.query_by_id(doc.id))\n",
    "            elif doc.metadata[\"type\"] == \"Text\":\n",
    "                text.append(doc)\n",
    "\n",
    "        return {\n",
    "            \"images\": b64,\n",
    "            \"texts\": text\n",
    "        }\n",
    "\n",
    "    @staticmethod\n",
    "    def plt_img_base64(img_base64):\n",
    "\n",
    "        # Create an HTML img tag with the base64 string as the source\n",
    "        image_html = f'<img src=\"data:image/jpeg;base64,{img_base64}\" />'\n",
    "\n",
    "        # Display the image by rendering the HTML\n",
    "        display(HTML(image_html))\n",
    "        \n",
    "    def plot_img_base64(self, img_base64: str):\n",
    "        img = Image.open(io.BytesIO(b64decode(img_base64)))\n",
    "        img.show()\n",
    "        \n",
    "query_handler = QueryHandler(retriever)\n"
   ]
  },
  {
   "cell_type": "code",
   "execution_count": 48,
   "metadata": {},
   "outputs": [
    {
     "name": "stderr",
     "output_type": "stream",
     "text": [
      "2025-02-10 12:05:50,113 - openai._base_client - DEBUG - Request options: {'method': 'post', 'url': '/embeddings', 'files': None, 'post_parser': <function Embeddings.create.<locals>.parser at 0x3357c1700>, 'json_data': {'input': [[12840, 1587, 1934, 10975, 603]], 'model': 'text-embedding-ada-002', 'encoding_format': 'base64'}}\n",
      "2025-02-10 12:05:50,117 - openai._base_client - DEBUG - Sending HTTP Request: POST https://api.openai.com/v1/embeddings\n",
      "2025-02-10 12:05:50,120 - httpcore.connection - DEBUG - close.started\n",
      "2025-02-10 12:05:50,121 - httpcore.connection - DEBUG - close.complete\n",
      "2025-02-10 12:05:50,122 - httpcore.connection - DEBUG - connect_tcp.started host='api.openai.com' port=443 local_address=None timeout=None socket_options=None\n",
      "2025-02-10 12:05:50,206 - httpcore.connection - DEBUG - connect_tcp.complete return_value=<httpcore._backends.sync.SyncStream object at 0x334771a00>\n",
      "2025-02-10 12:05:50,209 - httpcore.connection - DEBUG - start_tls.started ssl_context=<ssl.SSLContext object at 0x32da77240> server_hostname='api.openai.com' timeout=None\n",
      "2025-02-10 12:05:50,232 - httpcore.connection - DEBUG - start_tls.complete return_value=<httpcore._backends.sync.SyncStream object at 0x3357c04c0>\n",
      "2025-02-10 12:05:50,233 - httpcore.http11 - DEBUG - send_request_headers.started request=<Request [b'POST']>\n",
      "2025-02-10 12:05:50,234 - httpcore.http11 - DEBUG - send_request_headers.complete\n",
      "2025-02-10 12:05:50,235 - httpcore.http11 - DEBUG - send_request_body.started request=<Request [b'POST']>\n",
      "2025-02-10 12:05:50,236 - httpcore.http11 - DEBUG - send_request_body.complete\n",
      "2025-02-10 12:05:50,236 - httpcore.http11 - DEBUG - receive_response_headers.started request=<Request [b'POST']>\n",
      "2025-02-10 12:05:57,571 - httpcore.http11 - DEBUG - receive_response_headers.complete return_value=(b'HTTP/1.1', 200, b'OK', [(b'Date', b'Mon, 10 Feb 2025 06:35:51 GMT'), (b'Content-Type', b'application/json'), (b'Transfer-Encoding', b'chunked'), (b'Connection', b'keep-alive'), (b'access-control-allow-origin', b'*'), (b'access-control-expose-headers', b'X-Request-ID'), (b'openai-model', b'text-embedding-ada-002-v2'), (b'openai-organization', b'user-gccgvei9eaw4a1hksddpirf5'), (b'openai-processing-ms', b'61'), (b'openai-version', b'2020-10-01'), (b'strict-transport-security', b'max-age=31536000; includeSubDomains; preload'), (b'via', b'envoy-router-f75cbbb97-8268l'), (b'x-envoy-upstream-service-time', b'43'), (b'x-ratelimit-limit-requests', b'3000'), (b'x-ratelimit-limit-tokens', b'1000000'), (b'x-ratelimit-remaining-requests', b'2999'), (b'x-ratelimit-remaining-tokens', b'999994'), (b'x-ratelimit-reset-requests', b'20ms'), (b'x-ratelimit-reset-tokens', b'0s'), (b'x-request-id', b'req_d73e9e874152c9b5dc516377e975a177'), (b'cf-cache-status', b'DYNAMIC'), (b'X-Content-Type-Options', b'nosniff'), (b'Server', b'cloudflare'), (b'CF-RAY', b'90fa14daaff5598f-DEL'), (b'Content-Encoding', b'gzip'), (b'alt-svc', b'h3=\":443\"; ma=86400')])\n",
      "2025-02-10 12:05:57,647 - httpx - INFO - HTTP Request: POST https://api.openai.com/v1/embeddings \"HTTP/1.1 200 OK\"\n",
      "2025-02-10 12:05:57,654 - httpcore.http11 - DEBUG - receive_response_body.started request=<Request [b'POST']>\n",
      "2025-02-10 12:05:57,660 - httpcore.http11 - DEBUG - receive_response_body.complete\n",
      "2025-02-10 12:05:57,661 - httpcore.http11 - DEBUG - response_closed.started\n",
      "2025-02-10 12:05:57,661 - httpcore.http11 - DEBUG - response_closed.complete\n",
      "2025-02-10 12:05:57,662 - openai._base_client - DEBUG - HTTP Response: POST https://api.openai.com/v1/embeddings \"200 OK\" Headers({'date': 'Mon, 10 Feb 2025 06:35:51 GMT', 'content-type': 'application/json', 'transfer-encoding': 'chunked', 'connection': 'keep-alive', 'access-control-allow-origin': '*', 'access-control-expose-headers': 'X-Request-ID', 'openai-model': 'text-embedding-ada-002-v2', 'openai-organization': 'user-gccgvei9eaw4a1hksddpirf5', 'openai-processing-ms': '61', 'openai-version': '2020-10-01', 'strict-transport-security': 'max-age=31536000; includeSubDomains; preload', 'via': 'envoy-router-f75cbbb97-8268l', 'x-envoy-upstream-service-time': '43', 'x-ratelimit-limit-requests': '3000', 'x-ratelimit-limit-tokens': '1000000', 'x-ratelimit-remaining-requests': '2999', 'x-ratelimit-remaining-tokens': '999994', 'x-ratelimit-reset-requests': '20ms', 'x-ratelimit-reset-tokens': '0s', 'x-request-id': 'req_d73e9e874152c9b5dc516377e975a177', 'cf-cache-status': 'DYNAMIC', 'x-content-type-options': 'nosniff', 'server': 'cloudflare', 'cf-ray': '90fa14daaff5598f-DEL', 'content-encoding': 'gzip', 'alt-svc': 'h3=\":443\"; ma=86400'})\n",
      "2025-02-10 12:05:57,669 - openai._base_client - DEBUG - request_id: req_d73e9e874152c9b5dc516377e975a177\n"
     ]
    }
   ],
   "source": [
    "reterieved_docs = query_handler.similarity_search(\"what does report tells us\", 5)\n",
    "raw_docs, metadata = query_handler.map_raw_docs(reterieved_docs)"
   ]
  },
  {
   "cell_type": "code",
   "execution_count": 49,
   "metadata": {},
   "outputs": [
    {
     "data": {
      "text/plain": [
       "[Document(metadata={'doc_id': '294c2b57-670c-437c-8aee-547771c9df5e', 'file_directory': 'backend/data/raw_pdfs', 'filename': '2023_removed.pdf', 'filetype': 'application/pdf', 'languages': 'eng', 'last_modified': '2025-02-06T12:34:29', 'orig_elements': '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', 'page_number': '1'}, page_content=\"The text outlines the inherent uncertainties and risks associated with forward-looking statements made by a company as of April 12, 2023. These statements are based on management's good faith plans and assumptions, but they are not guarantees of future performance. Actual outcomes may differ significantly due to various factors, including changes in commodity prices, global market conditions, geopolitical conflicts (such as the Russia-Ukraine conflict), security threats, public health crises, and regulatory changes. Other risks include financial liquidity issues, operational challenges, legislative impacts on climate change, and disruptions in transportation or trade. The company also faces uncertainties related to acquisitions, dispositions, and the development of alternative energy sources. These factors could affect the company's ability to repurchase shares, pay dividends, achieve production targets, and execute its low-carbon strategy.\"),\n",
       " Document(metadata={'doc_id': '2c2137b7-c3f6-4c49-9b25-5555920555d1', 'file_directory': 'backend/data/raw_pdfs', 'filename': '2023_removed.pdf', 'filetype': 'application/pdf', 'languages': 'eng', 'last_modified': '2025-02-06T12:34:29', 'orig_elements': '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', 'page_number': '1'}, page_content=\"The Cautionary Statement outlines ConocoPhillips' operational plan for the next decade, based on several assumptions regarding oil and gas prices, cost escalation, and carbon taxes. The plan assumes oil prices of $60/BBL for West Texas Intermediate and $65/BBL for Brent, with gas prices at $3.75/MMBTU for Henry Hub and $8/MMBTU for international markets, all escalating at 2.25% annually. It includes considerations for cost and capital escalation, production growth rates, and carbon taxes where applicable. The statement emphasizes that the presentation contains forward-looking statements, which are subject to change and are identified by specific terminology. These statements relate to future events, plans, and anticipated operational results.\"),\n",
       " Document(metadata={'doc_id': 'a2566fbc-1553-44e1-a905-7b526cca72a2', 'file_directory': 'backend/data/raw_pdfs', 'filename': '2023_removed.pdf', 'filetype': 'application/pdf', 'languages': 'eng', 'last_modified': '2025-02-06T12:34:29', 'orig_elements': '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', 'page_number': '1'}, page_content='The presentation from ConocoPhillips includes non-GAAP financial measures to facilitate comparisons of operating performance across periods and with peers. Historical non-GAAP measures are reconciled to GAAP measures, but forward-looking reconciliations are not provided due to uncertainties and the difficulty of estimating future GAAP measures. The presentation also includes cautionary notes for U.S. investors regarding the use of certain terms not permitted in SEC filings. ConocoPhillips emphasizes its commitment to delivering superior returns and highlights its diverse portfolio. The presentation includes a chart of oil prices, indicating a mid-cycle planning price of over $60 per barrel.'),\n",
       " Document(metadata={'doc_id': '4f1fe58b-a158-4d9f-b015-7a0d5f76534c', 'file_directory': 'backend/data/raw_pdfs', 'filename': '2023_removed.pdf', 'filetype': 'application/pdf', 'is_continuation': 'True', 'languages': 'eng', 'last_modified': '2025-02-06T12:34:29', 'orig_elements': 'eJy1WFFvHDcO/ivCvlwLrH1rJ3Gc+ClIe4c+3DVo0vQhCAyNRrOjs0aaSppdb4r+936kpNlZ29cWxd1DEI9WEsmP5EdSn35ZaasH7dKtaVevxeqZUhslN+rs6lnTnD1/JZuzRsuLs831S3V10XTXF5cvV2uxGnSSrUwSZ35ZKe9Da5xMOvK3lQc/pdtem22fsHLxYrPBmbK8N23qsXp5dfUSq6M3LtG5T5+urs+fr8WL68355vNalM+Li6ur82v6vrzaPDt/9dRKPoKVVTzEpAey5J251/b9KJVe/YofWp20Ssa7W2VljLdj8A22bc5fvbjcXGNDZ6xOh1Hz2Xf/WrHCbjvJLVv1aaXddvWZV2O6HXxrOqMZs8vN5YuzzeXZ5urDxeXrZ89fX76i0yNO3rppaHQgDEiJpO8Jj9VPvQ56LYwT0h1E58NehvbMen9n3FbEBCTJJ2uRei2UH0bapu/HoGPUEYfoA+ZIMkj4IBptje6EjCJ50U1pClpg82RTXIs4qf6/HDBRNDLqVmB1kA4ak9y/RbH1vhWdNKkXI2AgmdjU/Icw3EGFybU6sHoAcxpGujeKqBNZg0Oy8TstvpqchcrC+UQysD3sTdRf822swg7rULkhdWX0TjaWrhS+E2/GYKy4uFwLAPwsY4GQ0/Rb6qE5wQFt2aZz8aHH1xE7aAwMIFjAhUG6pDXfWsAZdYCiMFlpVsa4nbfQWOmQJPwSTLzLRk+urCWj8wpdHCfGgnRXPcKElT4iSMAqjyNuktYeCCTgQM7tpEo+AHZ98ATpFHhj8BZGyYQ7DuQf+o+UBzBqCgFX4pY75/ew9J/wgGM4YILeerqW9KIVBJiGa/BhBi16H8wXcvgTiK0FNIF2UCEhxIptJWjE3lgrrLnTEItI7+DsLvhB7ElH3FSDsSVlSQ2FrKCALmo9HdAIRhLCAZlv1UA3srWwdMC2YKDSPwpIjIjyk22FkhPcW1SuWkI2IoicDT8UNeslUPxE42K7Jl8rO7W6OC6S1gCAMjodsM1Ao3XZxNBizVuPra1otbLG6WIoFMrboZCVlBikB4CG8kYRtKHGW04/3GChsI03Ymt9gx0Z8y38gY+FQhzsGgHVUv6Ooz2sZ9UqcglWMgacWDA83GmCy8EQTkeJfchX2OBNFrWVJ6ZVgRlPDk+CjNgG9nJgDcaaJMOB7u2sUWl5PtNTXocD014jMH+YEOmSxf14FyTBVaOzGA1xI/RjtDgWjndHjXAnP6QehEAudpQypERNP+O6gGALkyJk1wwyay3GqcEtotfSgoIUctjE+WeSb4bRR1M50Joug9NhLwUEoQRftxMXCvHz5JNcACxVhjXnKdU2Clq+E45tDuL7d9++zUTJ+/NVjLOfkOLVANLkiHild090apA1owywvwojLnoEV3bbDX6MU9cZZYhyrPl5MhzDs8aFbEoJoOrQQ1fsjBSKVISMWy+zDMbgCLOSbAj0AwkNepwChBK/9mC/bAblAlEh/T1KoomdaUE+MUvjW/fElHHUhen49PI6QLQNcihpALT0uh5gxyZ4gDIZpWLgBmOWQiIzz1fSmXI47HvNtu8kWICqCQUAeoH2ZplfD/KRYmCRIwS5DlTnfFhExI0YUcg476g22inkHS2y/8DXStWjppFbZwHlqtObqliOTH0Pf1QSL3yxVKalvX4sBHrMvnbikPCoZZLP9/ILaJcYApXT0kouYxA9IVIU2CN2kyXdrMcZH3Kc7Ti5brBp1lp5pnNFVTnTYWe5bBAVMPVX49FW9Y7ZjnjJKArrSqoupyk0WYOeUELxjzMObEUN1GGZAMc0vwE8WxMLpRaKnGxWGDfAAbkLkW0bSl0t1AJ6pgJQi/KcCdrtTPCOMKRdnoq6g6DHlHFK/tAMNGxUFF/VHHr7/cfvvjm7eJW7GD2asoFbA9iRc4ix4bLAaM45vkVfFFgPBJOl1OWdJd0ppWFYyj2EK3k2u5+pCnfpVFCE1rgt46SdDtuDiEg0RRj+UaziLxwLfJPLjUjuNBZly/r9mZKhwQa4ErZsD0t06BDS8sgURVfh9D4HBgrnlj3amhim0iZ6OgXF54UMWa0oEOTAeKF0qx05EYKWKbHMSb7K5eC0iCuna72a6yD56b6EBFkhOkvVQxbMF7xwehk0aXUp7tjZmzGe+hB7qhcf1sVlrely7UYTky94/HuVBJSNmlGCIcgpLoIUPrW1WdLSIjClnUCSU2ZTMLy2X4spcsPDEgtRZIGEaDMhdZA/J90O5ES0xbNjuLjR7aVm0eH/dYNw87DiKG8ttdczyYPVHRHew+j7vTNz2V/kHJT/iET5MsGnhOK7bz6+f/OE+GHENKjZUOmcpyGAW10mqpwbiOjqwZLCqL/zt+MOHOoCrQTX2BtWBSeiqYKoQi6YTY7w6Y7c2xVJf0k0t+5ldkBfrs0uz3eSNUIxxcRn4kKzXGlJmRxJsxrUlgeNqyEyD7wqxw8g4kTVYYh5uChZK4+xS5AGPRTGr6F2M/91wggdfOf3Nf5OzP4TJj+MuJZ4LZZAXwxlPBMxTSemRmIPHmGXBIbSiNELjTRQUFq3JY44Qv6MO0qyQayjntHlUQwtK2TvSXwCXYzI5JPYOJK1NVWdjivIoFtarsjmwXtuGRYTxkmFK2GV+e2pyx+0/NRxnd5HpXhbJsUjvMfVubi1CA9F4ynT+vxFnQkwW4QFIhM19i1qb+/FD7oUKvGdU+c3lRK5+5yLHJ8iCKmVAM+2WXLls0VBgOAJ3HlA64BOkdSS3O5wNsvRpDyNUcMceOjHRzRbxzHNw3WPhl6H3PiQBk8dqibjUmqwFv328ZXgMI9vNFTD2XO5m8tKh5rpFPkjz2ylIlLhJ7XIV+RGDIlU06mzqlfl+Wd5lwY0fig/US1K3Istqh8X/ac7yP87rS8qa2eiyoFJWcjF7X79IGqPs5OV+0hMBAncxJdoOtIId0YLBnk4wipFYwKZq+8Rg/mBEubsMVVyQ7jLvyp0vxbuo9K7XgBYf9/LsCaiCxjp44D9hwbc8mhKJf/xg1Lmx9r6HObea13aYQqR7JOj8jcLw6s/14vqPGdD7ob/zrwwl436orSY9hdI1RjiR6jFA53JLV9naE6IOTXJre+zaXVW/ba2TW/9MJgY+antx/yqhyad7y0lAhMbctsr/66n5BjnRyJ+QooYFs0Qc4yh597OlWQa+VXvd19C43GuexCz1GkuoF/PdJjfheoAQM+O5+Kn8lxJD4PoJjLlF/np0fthrDlRaT6r2UKmyeP1TP/o2ppp7uXoqW1+y3Kl3yvPgcRMO8RE5eFH+6nrx3RMviaram++1w0qDA3gPKg39DxEtSG3K4gskyZWr9rDQXKGoDA1KnOhhpGd2fI48KSF5+LNcaHe9fAk9xgNz+80jlN/YTkb/LTtjy8x7HZPoyJXBiVLj4+qR1F7Ts/k9c393zIEHmQ+0CP5r59/A+9yEB0=', 'page_number': '1'}, page_content=\"The text outlines various potential risks and uncertainties that could impact ConocoPhillips' business operations. These include challenges in realizing net proceeds from asset dispositions, liabilities from environmental regulations and litigation (including those related to Concho Resources Inc.), and the effects of competition and industry consolidation. Other concerns include limited access to capital or insurance, economic and political conditions (such as the Russia-Ukraine conflict), changes in laws, and disruptions from accidents or cybersecurity threats. The company disclaims any obligation to update forward-looking statements unless legally required and notes that any future updates will be made through public disclosures.\"),\n",
       " Document(metadata={'doc_id': '37041870-1f84-4753-854c-69c946c16f24', 'file_directory': 'backend/data/raw_pdfs', 'filename': '2023_removed.pdf', 'filetype': 'application/pdf', 'languages': 'eng', 'last_modified': '2025-02-06T12:34:29', 'orig_elements': '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', 'page_number': '5'}, page_content=\"The text outlines ConocoPhillips' strategic focus on delivering returns through a disciplined capital allocation framework and a diverse portfolio. The company projects a compound annual growth rate (CAGR) of approximately 6% for cash from operations (CFO) and 11% for free cash flow (FCF) from 2024 to 2032, assuming a $60 per barrel WTI mid-cycle planning price. ConocoPhillips emphasizes a rigorous reinvestment strategy, maintaining a balance between short-cycle unconventional and longer-cycle conventional assets. The company is also committed to reducing greenhouse gas intensity and exploring low-carbon options like hydrogen and carbon capture and storage (CCS). The reinvestment rate is a key measure, with historical and projected rates provided for different WTI price scenarios.\")]"
      ]
     },
     "execution_count": 49,
     "metadata": {},
     "output_type": "execute_result"
    }
   ],
   "source": [
    "reterieved_docs"
   ]
  },
  {
   "cell_type": "code",
   "execution_count": 44,
   "metadata": {},
   "outputs": [
    {
     "data": {
      "text/plain": [
       "Document(metadata={'doc_id': '294c2b57-670c-437c-8aee-547771c9df5e', 'file_directory': 'backend/data/raw_pdfs', 'filename': '2023_removed.pdf', 'filetype': 'application/pdf', 'languages': 'eng', 'last_modified': '2025-02-06T12:34:29', 'orig_elements': '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', 'page_number': '1'}, page_content=\"The text outlines the inherent uncertainties and risks associated with forward-looking statements made by a company as of April 12, 2023. These statements are based on management's good faith plans and assumptions, but they are not guarantees of future performance. Actual outcomes may differ significantly due to various factors, including changes in commodity prices, global market conditions, geopolitical conflicts (such as the Russia-Ukraine conflict), security threats, public health crises, and regulatory changes. Other risks include financial liquidity issues, operational challenges, legislative impacts on climate change, and disruptions in transportation or trade. The company also faces uncertainties related to acquisitions, dispositions, and the development of alternative energy sources. These factors could affect the company's ability to repurchase shares, pay dividends, achieve production targets, and execute its low-carbon strategy.\")"
      ]
     },
     "execution_count": 44,
     "metadata": {},
     "output_type": "execute_result"
    }
   ],
   "source": [
    "reterieved_docs[0]"
   ]
  },
  {
   "cell_type": "code",
   "execution_count": 45,
   "metadata": {},
   "outputs": [],
   "source": [
    "raw_docs, meta_data = raw_docs"
   ]
  },
  {
   "cell_type": "code",
   "execution_count": 46,
   "metadata": {},
   "outputs": [
    {
     "data": {
      "text/plain": [
       "[{'doc_id': '294c2b57-670c-437c-8aee-547771c9df5e',\n",
       "  'file_directory': 'backend/data/raw_pdfs',\n",
       "  'filename': '2023_removed.pdf',\n",
       "  'filetype': 'application/pdf',\n",
       "  'languages': 'eng',\n",
       "  'last_modified': '2025-02-06T12:34:29',\n",
       "  'orig_elements': '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',\n",
       "  'page_number': '1'},\n",
       " {'doc_id': '2c2137b7-c3f6-4c49-9b25-5555920555d1',\n",
       "  'file_directory': 'backend/data/raw_pdfs',\n",
       "  'filename': '2023_removed.pdf',\n",
       "  'filetype': 'application/pdf',\n",
       "  'languages': 'eng',\n",
       "  'last_modified': '2025-02-06T12:34:29',\n",
       "  'orig_elements': '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',\n",
       "  'page_number': '1'},\n",
       " {'doc_id': 'a2566fbc-1553-44e1-a905-7b526cca72a2',\n",
       "  'file_directory': 'backend/data/raw_pdfs',\n",
       "  'filename': '2023_removed.pdf',\n",
       "  'filetype': 'application/pdf',\n",
       "  'languages': 'eng',\n",
       "  'last_modified': '2025-02-06T12:34:29',\n",
       "  'orig_elements': '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',\n",
       "  'page_number': '1'},\n",
       " {'doc_id': '4f1fe58b-a158-4d9f-b015-7a0d5f76534c',\n",
       "  'file_directory': 'backend/data/raw_pdfs',\n",
       "  'filename': '2023_removed.pdf',\n",
       "  'filetype': 'application/pdf',\n",
       "  'is_continuation': 'True',\n",
       "  'languages': 'eng',\n",
       "  'last_modified': '2025-02-06T12:34:29',\n",
       "  'orig_elements': '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',\n",
       "  'page_number': '1'},\n",
       " {'doc_id': '37041870-1f84-4753-854c-69c946c16f24',\n",
       "  'file_directory': 'backend/data/raw_pdfs',\n",
       "  'filename': '2023_removed.pdf',\n",
       "  'filetype': 'application/pdf',\n",
       "  'languages': 'eng',\n",
       "  'last_modified': '2025-02-06T12:34:29',\n",
       "  'orig_elements': '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',\n",
       "  'page_number': '5'}]"
      ]
     },
     "execution_count": 46,
     "metadata": {},
     "output_type": "execute_result"
    }
   ],
   "source": [
    "meta_data"
   ]
  },
  {
   "cell_type": "markdown",
   "metadata": {},
   "source": [
    "# content generation"
   ]
  },
  {
   "cell_type": "code",
   "execution_count": null,
   "metadata": {},
   "outputs": [],
   "source": []
  },
  {
   "cell_type": "code",
   "execution_count": null,
   "metadata": {},
   "outputs": [],
   "source": [
    "from operator import itemgetter\n",
    "from langchain.schema.runnable import RunnablePassthrough, RunnableLambda\n",
    "\n",
    "def prompt_func(dict):\n",
    "    format_texts = \"\\n\".join(dict[\"context\"][\"texts\"])\n",
    "    return [\n",
    "        HumanMessage(\n",
    "            content=[\n",
    "                {\"type\": \"text\", \"text\": f\"\"\"Answer the question based only on the following context, which can include text, tables, and the below image:\n",
    "Question: {dict[\"question\"]}\n",
    "\n",
    "Text and tables:\n",
    "{format_texts}\n",
    "\"\"\"},\n",
    "                {\"type\": \"image_url\", \"image_url\": {\"url\": f\"data:image/jpeg;base64,{dict['context']['images'][0]}\"}},\n",
    "            ]\n",
    "        )\n",
    "    ]\n",
    "\n",
    "model = ChatOpenAI(temperature=0, model=\"gpt-4-vision-preview\", max_tokens=1024)\n",
    "\n",
    "# RAG pipeline\n",
    "retriever\n",
    "chain = (\n",
    "    {\"context\": retriever | RunnableLambda(split_image_text_types), \"question\": RunnablePassthrough()}\n",
    "    | RunnableLambda(prompt_func)\n",
    "    | model\n",
    "    | StrOutputParser()\n",
    ")"
   ]
  }
 ],
 "metadata": {
  "kernelspec": {
   "display_name": "bounce",
   "language": "python",
   "name": "python3"
  },
  "language_info": {
   "codemirror_mode": {
    "name": "ipython",
    "version": 3
   },
   "file_extension": ".py",
   "mimetype": "text/x-python",
   "name": "python",
   "nbconvert_exporter": "python",
   "pygments_lexer": "ipython3",
   "version": "3.9.21"
  }
 },
 "nbformat": 4,
 "nbformat_minor": 2
}
