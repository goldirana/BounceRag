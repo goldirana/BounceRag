{
 "cells": [
  {
   "cell_type": "code",
   "execution_count": 7,
   "metadata": {},
   "outputs": [],
   "source": [
    "from backend.src.extractors.data_ingestion import DataIngestion\n",
    "from backend.src.extractors.image_summarizer import ImageSummarizer\n",
    "from backend.src.extractors.text_summarizer import TextSummarizer\n",
    "from backend.src.constants import *\n",
    "from backend.src.config.configuration import ConfigurationManager\n",
    "import os\n",
    "\n",
    "from langchain_openai import ChatOpenAI"
   ]
  },
  {
   "cell_type": "code",
   "execution_count": 4,
   "metadata": {},
   "outputs": [
    {
     "data": {
      "text/plain": [
       "'/Users/goldyrana/mess/deep_learning/projects/rag/backend/notebooks'"
      ]
     },
     "execution_count": 4,
     "metadata": {},
     "output_type": "execute_result"
    }
   ],
   "source": [
    "import os\n",
    "os.getcwd()"
   ]
  },
  {
   "cell_type": "code",
   "execution_count": 8,
   "metadata": {},
   "outputs": [
    {
     "data": {
      "text/plain": [
       "True"
      ]
     },
     "execution_count": 8,
     "metadata": {},
     "output_type": "execute_result"
    }
   ],
   "source": [
    "from dotenv import load_dotenv\n",
    "load_dotenv()"
   ]
  },
  {
   "cell_type": "code",
   "execution_count": 6,
   "metadata": {},
   "outputs": [
    {
     "data": {
      "text/plain": [
       "'/Users/goldyrana/mess/deep_learning/projects/rag'"
      ]
     },
     "execution_count": 6,
     "metadata": {},
     "output_type": "execute_result"
    }
   ],
   "source": [
    "os.chdir('../../') \n",
    "os.getcwd()"
   ]
  },
  {
   "cell_type": "code",
   "execution_count": 11,
   "metadata": {},
   "outputs": [],
   "source": [
    "test_pdf_path = \"data/raw_pdfs/2023_removed.pdf\"\n",
    "model = ChatOpenAI(temperature=0, model=\"gpt-4o\")\n",
    "\n",
    "config_manager = ConfigurationManager(CONFIG_FILE_PATH, PARAMS_FILE_PATH)\n",
    "data_ingestion_config = config_manager.get_data_ingestion_params()\n",
    "image_summarizer_config = config_manager.get_image_summarizer_params()\n",
    "text_summarizer_config = config_manager.get_text_summarizer_params()\n",
    "\n",
    "data_ingestion = DataIngestion(data_ingestion_config)\n",
    "image_summarizer = ImageSummarizer(image_summarizer_config, model)"
   ]
  },
  {
   "cell_type": "code",
   "execution_count": null,
   "metadata": {},
   "outputs": [],
   "source": [
    "test_pdf_path = \"backend/data/raw_pdfs/2023_removed.pdf\"\n",
    "model = ChatOpenAI(temperature=0, model=\"gpt-4o\")\n",
    "\n",
    "config_manager = ConfigurationManager(CONFIG_FILE_PATH, PARAMS_FILE_PATH)\n",
    "data_ingestion_config = config_manager.get_data_ingestion_params()\n",
    "image_summarizer_config = config_manager.get_image_summarizer_params()\n",
    "text_summarizer_config = config_manager.get_text_summarizer_params()\n",
    "\n",
    "data_ingestion = DataIngestion(data_ingestion_config)\n",
    "image_summarizer = ImageSummarizer(image_summarizer_config, model)\n",
    "\n",
    "raw_pdf_elements, report_dir = data_ingestion.process_pdf(test_pdf_path,\n",
    "                                                          save=True,\n",
    "                                    strategy=\"hi_res\", # \n",
    "                                    split_pdf_page=True,  # to process each page seprately\n",
    "                                    split_pdf_allow_failed=True, # continue processing even if some pages fail\n",
    "                                    extract_images_in_pdf=True,\n",
    "                                    infer_table_structure=True,\n",
    "                                    chunking_strategy=\"by_title\",\n",
    "                                    extract_image_block_types = [\"Image\" , \"Table\"],\n",
    "                                    max_characters=4000,\n",
    "                                    new_after_n_chars=3800,\n",
    "                                    combine_text_under_n_chars=2000)\n",
    "\n",
    "\n",
    "image_path = \"backend/data/reports/2023_removed/images\"    \n",
    "images_path = image_summarizer.get_image_path(image_path)\n",
    "print(image_path)\n",
    "encoded_images = []\n",
    "image_summaries = []\n",
    "meta_data = []\n",
    "\n",
    "for image in images_path:\n",
    "    encoded_image, image_source_path = image_summarizer.encode_image(image)\n",
    "    image_summaries.append(image_summarizer.image_summarize(encoded_image))\n",
    "    encoded_images.append(encoded_image)\n",
    "    meta_data.append({\"source\": image_source_path,\n",
    "                      \"type\": \"image\",\n",
    "                      \"title\": image.split(\"/\")[-1]})\n",
    "    \n",
    "image_summaries = image_summarizer.add_metadata(encoded_images, image_summaries, metadata=meta_data, automatic_metadata=False)\n",
    "\n",
    "# # text summaries\n",
    "text_summarizer = TextSummarizer(text_summarizer_config, model)\n",
    "text_data = text_summarizer.get_text_data(raw_pdf_elements)"
   ]
  },
  {
   "cell_type": "code",
   "execution_count": 14,
   "metadata": {},
   "outputs": [
    {
     "data": {
      "text/plain": [
       "'data/reports/2023_removed'"
      ]
     },
     "execution_count": 14,
     "metadata": {},
     "output_type": "execute_result"
    }
   ],
   "source": [
    "report_dir"
   ]
  },
  {
   "cell_type": "code",
   "execution_count": 12,
   "metadata": {},
   "outputs": [
    {
     "data": {
      "text/plain": [
       "(10, 10, 10)"
      ]
     },
     "execution_count": 12,
     "metadata": {},
     "output_type": "execute_result"
    }
   ],
   "source": [
    "len(image_summaries), len(meta_data), len(encoded_images)"
   ]
  },
  {
   "cell_type": "markdown",
   "metadata": {},
   "source": [
    "# vector store testing"
   ]
  },
  {
   "cell_type": "code",
   "execution_count": 7,
   "metadata": {},
   "outputs": [
    {
     "name": "stderr",
     "output_type": "stream",
     "text": [
      "2025-02-11 18:55:03,615 - chromadb.api.segment - DEBUG - Collection test5 already exists, returning existing collection.\n"
     ]
    },
    {
     "name": "stdout",
     "output_type": "stream",
     "text": [
      "vectorstore=<langchain_chroma.vectorstores.Chroma object at 0x324e669a0> docstore=<langchain_core.stores.InMemoryStore object at 0x321f72fa0> search_kwargs={}\n"
     ]
    }
   ],
   "source": [
    "from backend.src.storage.chroma_storage import VectorDatabase\n",
    "from langchain_openai import OpenAIEmbeddings\n",
    "\n",
    "\n",
    "vector_database_config = config_manager.get_vectordatabase_config()\n",
    "vector_database = VectorDatabase(vector_database_config)\n",
    "chroma = vector_database.init_chromadb(embeddings=OpenAIEmbeddings())\n",
    "retriever = vector_database.get_multivector_retriever(chroma)\n",
    "print(retriever)"
   ]
  },
  {
   "cell_type": "markdown",
   "metadata": {},
   "source": [
    "# Store text data\n"
   ]
  },
  {
   "cell_type": "code",
   "execution_count": 15,
   "metadata": {},
   "outputs": [
    {
     "name": "stderr",
     "output_type": "stream",
     "text": [
      "2025-02-11 18:47:21,084 - openai._base_client - DEBUG - Request options: {'method': 'post', 'url': '/chat/completions', 'files': None, 'json_data': {'messages': [{'content': 'Act as an assistant tasked with summarizing the tables and text. Give a concise summary of the table or text. Table or text chunk: Cautionary Statement\\n\\nThis presentation provides management\\'s current operational plan for ConocoPhillips over roughly the next decade, for the assets currently in our portfolio, and is subject to multiple assumptions, including, unless otherwise specifically noted: * anoil price of $60/BBL West Texas Intermediate in 2022 dollars, escalating at 2.25% annually;\\n\\n* anoil price of $65/BBL Brent in 2022 dollars, escalating at 2.25% annually;\\n\\n* agas price of $3.75/MMBTU Henry Hub in 2022 dollars, escalating at 2.25%\\n\\nannually;\\n\\nan international gas price of $8/MMBTU Title Transfer Facility & Japan Korea Marker in 2022 dollars, escalating at 2.25% annually;\\n\\n* cost and capital escalation in line with price escalation; planning case at $60/BBL WTI assumes capital de-escalation from levels\\n\\nobserved in 2022;\\n\\n* all production compound annual growth rates (CAGR) are calculated for the 10-year period 2023 — 2032;\\n\\ninclusion of carbon tax in the cash flow forecasts for assets where a tax is currently assessed. If no carbon tax exists for the asset, it is not included in the cash flow forecasts;\\n\\nCost of Supply displayed in WTI, includes carbon tax where carbon policy exists and a proxy carbon price for assets without existing carbon policies. Please refer to the Cost of Supply definition in the Appendix for additional information on how carbon costs are in the Cost of Supply calculation.\\n\\nAs a result, this presentation contains forward-looking statements as defined under the federal securities laws. Forward-looking statements relate to future events, plans and anticipated results of operations, business strategies, and other aspects of our operations or operating results. Graphics that project into a future date constitute forward-looking statements. Also, words and phrases such as “anticipate,” \"estimate,\" \"believe,\" \"budget,\" \"continue,\" \"could,\" \"intend,\" \"may,\" \"plan,\" “potential,” \"predict,\" \"seek,\" \"should,\" \"will,\" \"would,\" \"expect,\" \"objective,\" \"projection,\" \"forecast,\" \"goal,\" \"guidance,\" \"outlook,\" \"effort,\" \"target\" and other similar words can be used to identify forward-looking statements. However, the absence of these words does not mean that the statements are not forward-looking.', 'role': 'user'}], 'model': 'gpt-4o', 'stream': False, 'temperature': 0.0}}\n",
      "2025-02-11 18:47:21,089 - openai._base_client - DEBUG - Request options: {'method': 'post', 'url': '/chat/completions', 'files': None, 'json_data': {'messages': [{'content': \"Act as an assistant tasked with summarizing the tables and text. Give a concise summary of the table or text. Table or text chunk: Where, in any forward-looking statement, the company expresses an expectation or belief as to future results, such expectation or belief is based on management's good faith plans and objectives under the assumptions set forth above (unless noted otherwise) and believed to be reasonable as of April 12, 2023, the date of this presentation. These statements are not guarantees of future performance and involve certain risks and uncertainties and are subject to change as management is continually assessing factors beyond our control that may or may not be currently known. Given the foregoing and the extended time horizon of this presentation, actual outcomes and results will likely differ from what is expressed or forecast in the forward-looking statements, and such differences may be material Factors that could cause actual results or events to differ materially from what is presented include changes in commodity prices, including a prolonged decline in these prices relative to historical or future expected levels; global and regional changes in the demand, supply, prices, differentials or other market conditions affecting oil and gas, including changes resulting from any ongoing military conflict, including the conflict between Russia and Ukraine and the global response to such conflict, security threats on facilities and infrastructure, or from a public health crisis or from the imposition or lifting of crude oil production quotas or other actions that might be imposed by OPEC and other producing countries and the resulting company or third-party actions in response to such changes; insufficient liquidity or other factors, such as those listed herein, that could impact our ability to repurchase shares and declare and pay dividends such that we suspend our share repurchase program and reduce, suspend, or totally eliminate dividend payments in the future, whether variable or fixed; changes in expected levels of oil and gas reserves or production; potential failures or delays in achieving expected reserve or production levels from existing and future oil and gas developments, including due to operating hazards, drilling risks or unsuccessful exploratory activities; unexpected cost increases, inflationary pressures or technical difficulties in constructing, maintaining or modifying company facilities; legislative and regulatory initiatives addressing global climate change or other environmental concerns; public health crises, including pandemics (such as COVID-19) and epidemics and any impacts or related company or government policies or actions; investment in and development of competing or alternative energy sources; potential failures or delays in delivering on our current or future low-carbon strategy, including our inability to develop new technologies; disruptions or interruptions impacting the transportation for our oil and gas production; international monetary conditions and exchange rate fluctuations; changes in international trade relationships or governmental policies, including the imposition of price caps or the imposition of trade restrictions or tariffs on any materials or products (such as aluminum and steel) used in the operation of our business, including any sanctions imposed as a result of any ongoing military conflict, including the conflict between Russia and Ukraine; our ability to collect payments when due, including our ability to collect payments from the government of Venezuela or PDVSA; our ability to complete any announced or any future dispositions or acquisitions on time, if at all; the possibility that regulatory approvals for any announced or any future dispositions or acquisitions will not be received on a timely basis, if at all, or that such approvals may require modification to the terms of the transactions or our remaining business; business disruptions following any announced or future dispositions or acquisitions, including the diversion of management time and attention; the ability to deploy\", 'role': 'user'}], 'model': 'gpt-4o', 'stream': False, 'temperature': 0.0}}\n",
      "2025-02-11 18:47:21,091 - openai._base_client - DEBUG - Request options: {'method': 'post', 'url': '/chat/completions', 'files': None, 'json_data': {'messages': [{'content': 'Act as an assistant tasked with summarizing the tables and text. Give a concise summary of the table or text. Table or text chunk: net proceeds from our announced or any future dispositions in the manner and timeframe we anticipate, if at all; potential liability for remedial actions under existing or future environmental regulations; potential liability resulting from pending or future litigation, including litigation related directly or indirectly to our transaction with Concho Resources Inc.; the impact of competition and consolidation in the oil and gas industry; limited access to capital or insurance or significantly higher cost of capital or insurance related to illiquidity or uncertainty in the domestic or international financial markets or investor sentiment; general domestic and international economic and political conditions or developments, including as a result of any ongoing military conflict, including the conflict between Russia and Ukraine; changes in fiscal regime or tax, environmental and other laws applicable to our business; and disruptions resulting from accidents, extraordinary weather events, civil unrest, political events, war, terrorism, cybersecurity threats or information technology failures, constraints or disruptions; and other economic, business, competitive and/or regulatory factors affecting our business generally as set forth in our filings with the Securities and Exchange Commission. Unless legally required, ConocoPhillips expressly disclaims any obligation to update any forward-looking statements, whether as a result of new information, future events or otherwise. We assume no duty to update these statements as of any future date and neither future distribution of this material nor the continued availability of this material in archive form on our website should be deemed to constitute an update or re-affirmation of these figures as of any future date. Any future update of these figures will be provided only through a public disclosure indicating that fact.', 'role': 'user'}], 'model': 'gpt-4o', 'stream': False, 'temperature': 0.0}}\n",
      "2025-02-11 18:47:21,094 - openai._base_client - DEBUG - Request options: {'method': 'post', 'url': '/chat/completions', 'files': None, 'json_data': {'messages': [{'content': 'Act as an assistant tasked with summarizing the tables and text. Give a concise summary of the table or text. Table or text chunk: Use of Non-GAAP Financial Information — This presentation includes non-GAAP financial measures, which help facilitate comparison of company operating performance across periods and with peer companies. Any historical non-GAAP measures included herein will be accompanied by a reconciliation to the nearest corresponding GAAP measure both at the end of this presentation and on our website at www.conocophillips.com/nongaap. For forward-looking non-GAAP measures, we are unable to provide a reconciliation to the most comparable GAAP financial measures because the information needed to reconcile these measures is dependent on future events, many of which are outside management\\'s control as described above. Additionally, estimating such GAAP measures and providing a meaningful reconciliation consistent with our accounting policies for future periods is extremely difficult and requires a level of precision that is unavailable for these future periods and cannot be accomplished without unreasonable effort. Forward looking non-GAAP measures are estimated consistent with the relevant definitions and assumptions.\\n\\nCautionary Note to U.S. Investors - The SEC permits oil and gas companies, in their filings with the SEC, to disclose only proved, probable and possible reserves. We use terms and metrics such as \"resource\" or “Estimated Ultimate Recovery (EUR)” in this presentation that we are prohibited from using in filings with the SEC under the SEC’s guidelines. U.S. investors are urged to consider closely the oil and gas disclosures in our Form 10-K and other reports and filings with the SEC. Copies are available from the SEC and from the ConocoPhillips website.\\n\\nincluded\\n\\nConocoPhillips 3\\n\\nConocoPhillios Remains the Must-Own E&P Company\\n\\nThe Macro\\n\\nWhat You\\'ll Hear Today\\n\\nOil Price ($/BBL WTI)\\n\\n120 100 80 60 sland A —_ss—s— FRR —CiCi(C(C(C(C(C#CA HHS ttt teeter eeeeeerecceeeees > $60/BBL WT Mid-Cycle 40 Planning Price 20 2019 2021 2023 2024+\\n\\nWe are committed to delivering superior returns on and of capital through the cycles\\n\\nWe have a deep, durable and diverse portfolio\\n\\nWe are progressing our', 'role': 'user'}], 'model': 'gpt-4o', 'stream': False, 'temperature': 0.0}}\n",
      "2025-02-11 18:47:21,097 - openai._base_client - DEBUG - Sending HTTP Request: POST https://api.openai.com/v1/chat/completions\n",
      "2025-02-11 18:47:21,102 - openai._base_client - DEBUG - Request options: {'method': 'post', 'url': '/chat/completions', 'files': None, 'json_data': {'messages': [{'content': 'Act as an assistant tasked with summarizing the tables and text. Give a concise summary of the table or text. Table or text chunk: 2050 Net-Zero ambition and\\n\\naccelerating our 2030 GHG emissions intensity reduction target\\n\\nConocoPhillips 5\\n\\nWe Are Committed to Our Returns-Focused Value Proposition\\n\\nTriple Mandate Aligned to Business Realities\\n\\nMEET DELIVER TRANSITION COMPETITIVE PATHWAY DEMAND RETURNS ACHIEVE NET-ZERO EMISSIONS AMBITION!\\n\\nFoundational Principles Balance Sheet Strength AN ww \"ned RETURNS On Discipline Peer-Leading Investments Distributions ESG Excellence 009 On Deliver Superior Returns Through Cycles\\n\\nScope 1 and 2 emissions on a gross operated and net equity basis. Cash from operations (CFO) is a non-GAAP measure defined in the Appendix.\\n\\nWw\\n\\nClear and Consistent Priorities\\n\\n1\\n\\nSustain production and pay dividend\\n\\n2 Annual dividend growth\\n\\n3 A-rated balance sheet\\n\\nA\\n\\n>30% of CFO shareholder payout\\n\\n5\\n\\nDisciplined investment to enhance returns\\n\\nConocoPhillips 6\\n\\nWe Are Continuously Improving\\n\\n2016 2019 2022 Foundational $43/BBL WTI $57/BBL WTI $94/BBL WTI Principles Return on Capital Employed “4% 10% 27% JADA] Peer-Leading Ox Distributions Return of Capital! $1.11/share $4.45/share $11.73/share and Returns — Balance Sheet Net Debt $24B $7B $7B S= | Strength Cash From Operations | Ereei@ech low $5B | $0B $12B | $5B $29B | $18B Resource . 7 . iM Disciplined <$40/BBL WTI 10 BBOE 15 BBOE 20 BBOE Investments Production 1.6 MMBOED 1.3 MMBOED 1.7 MMBOED Emissions Intensity? ~39 ~36 ~22 ESG (kg CO,e/BOE) wo) Excellence\\n\\n\\'Defined in the Appendix and presented on a per-share basis using average outstanding diluted shares. *Gross operated GHG emissions (Scope 1 and 2), 2022 is a preliminary estimate. Cash from operations (CFO), free cash flow (FCF), net debt and return on capital employed (ROCE) are non-GAAP measures. Definitions and reconciliations are included in the Appendix.\\n\\nConocoPhillips 7\\n\\nWe Have a Compelling 10-Year Plan that Sets us Apart\\n\\nWw\\n\\n10-Year Plan ($B)\\n\\n2023-2032\\n\\nPeer leading ROCE improving through time\\n\\n$350\\n\\n$300 BL WTI $250 Upside Sensitivity $80/B ae $200 Distributions 30% of CFO $150 CFO at Distribution $60/BBL WTI Commitment Mid-Cycle $100 Planning Price Capital $50 se Sources Uses\\n\\nTop quartile ordinary dividend growth\\n\\n>90% market cap? distributed\\n\\n~$35/BBL WTI FCF Breakeven?', 'role': 'user'}], 'model': 'gpt-4o', 'stream': False, 'temperature': 0.0}}\n",
      "2025-02-11 18:47:21,105 - openai._base_client - DEBUG - Sending HTTP Request: POST https://api.openai.com/v1/chat/completions\n",
      "2025-02-11 18:47:21,107 - openai._base_client - DEBUG - Sending HTTP Request: POST https://api.openai.com/v1/chat/completions\n",
      "2025-02-11 18:47:21,109 - openai._base_client - DEBUG - Sending HTTP Request: POST https://api.openai.com/v1/chat/completions\n",
      "2025-02-11 18:47:21,112 - httpcore.connection - DEBUG - close.started\n",
      "2025-02-11 18:47:21,114 - openai._base_client - DEBUG - Sending HTTP Request: POST https://api.openai.com/v1/chat/completions\n",
      "2025-02-11 18:47:21,116 - httpcore.connection - DEBUG - connect_tcp.started host='api.openai.com' port=443 local_address=None timeout=None socket_options=None\n",
      "2025-02-11 18:47:21,118 - httpcore.connection - DEBUG - connect_tcp.started host='api.openai.com' port=443 local_address=None timeout=None socket_options=None\n",
      "2025-02-11 18:47:21,118 - httpcore.connection - DEBUG - connect_tcp.started host='api.openai.com' port=443 local_address=None timeout=None socket_options=None\n",
      "2025-02-11 18:47:21,123 - httpcore.connection - DEBUG - close.complete\n",
      "2025-02-11 18:47:21,124 - httpcore.connection - DEBUG - connect_tcp.started host='api.openai.com' port=443 local_address=None timeout=None socket_options=None\n",
      "2025-02-11 18:47:21,129 - httpcore.connection - DEBUG - connect_tcp.started host='api.openai.com' port=443 local_address=None timeout=None socket_options=None\n",
      "2025-02-11 18:47:21,202 - httpcore.connection - DEBUG - connect_tcp.complete return_value=<httpcore._backends.sync.SyncStream object at 0x35bd00ac0>\n",
      "2025-02-11 18:47:21,203 - httpcore.connection - DEBUG - start_tls.started ssl_context=<ssl.SSLContext object at 0x340bba6c0> server_hostname='api.openai.com' timeout=None\n",
      "2025-02-11 18:47:21,203 - httpcore.connection - DEBUG - connect_tcp.complete return_value=<httpcore._backends.sync.SyncStream object at 0x35bd02eb0>\n",
      "2025-02-11 18:47:21,204 - httpcore.connection - DEBUG - start_tls.started ssl_context=<ssl.SSLContext object at 0x340bba6c0> server_hostname='api.openai.com' timeout=None\n",
      "2025-02-11 18:47:21,221 - httpcore.connection - DEBUG - start_tls.complete return_value=<httpcore._backends.sync.SyncStream object at 0x35bd020d0>\n",
      "2025-02-11 18:47:21,221 - httpcore.connection - DEBUG - start_tls.complete return_value=<httpcore._backends.sync.SyncStream object at 0x35bd02430>\n",
      "2025-02-11 18:47:21,222 - httpcore.http11 - DEBUG - send_request_headers.started request=<Request [b'POST']>\n",
      "2025-02-11 18:47:21,223 - httpcore.http11 - DEBUG - send_request_headers.started request=<Request [b'POST']>\n",
      "2025-02-11 18:47:21,224 - httpcore.http11 - DEBUG - send_request_headers.complete\n",
      "2025-02-11 18:47:21,224 - httpcore.http11 - DEBUG - send_request_headers.complete\n",
      "2025-02-11 18:47:21,224 - httpcore.http11 - DEBUG - send_request_body.started request=<Request [b'POST']>\n",
      "2025-02-11 18:47:21,225 - httpcore.http11 - DEBUG - send_request_body.started request=<Request [b'POST']>\n",
      "2025-02-11 18:47:21,226 - httpcore.http11 - DEBUG - send_request_body.complete\n",
      "2025-02-11 18:47:21,226 - httpcore.http11 - DEBUG - send_request_body.complete\n",
      "2025-02-11 18:47:21,226 - httpcore.http11 - DEBUG - receive_response_headers.started request=<Request [b'POST']>\n",
      "2025-02-11 18:47:21,227 - httpcore.http11 - DEBUG - receive_response_headers.started request=<Request [b'POST']>\n",
      "2025-02-11 18:47:22,203 - httpcore.connection - DEBUG - connect_tcp.complete return_value=<httpcore._backends.sync.SyncStream object at 0x35bd02940>\n",
      "2025-02-11 18:47:22,205 - httpcore.connection - DEBUG - start_tls.started ssl_context=<ssl.SSLContext object at 0x340bba6c0> server_hostname='api.openai.com' timeout=None\n",
      "2025-02-11 18:47:22,209 - httpcore.connection - DEBUG - connect_tcp.complete return_value=<httpcore._backends.sync.SyncStream object at 0x35bd00340>\n",
      "2025-02-11 18:47:22,210 - httpcore.connection - DEBUG - start_tls.started ssl_context=<ssl.SSLContext object at 0x340bba6c0> server_hostname='api.openai.com' timeout=None\n",
      "2025-02-11 18:47:22,218 - httpcore.connection - DEBUG - connect_tcp.complete return_value=<httpcore._backends.sync.SyncStream object at 0x35bd00be0>\n",
      "2025-02-11 18:47:22,223 - httpcore.connection - DEBUG - start_tls.started ssl_context=<ssl.SSLContext object at 0x340bba6c0> server_hostname='api.openai.com' timeout=None\n",
      "2025-02-11 18:47:22,227 - httpcore.connection - DEBUG - start_tls.complete return_value=<httpcore._backends.sync.SyncStream object at 0x35bd02910>\n",
      "2025-02-11 18:47:22,228 - httpcore.http11 - DEBUG - send_request_headers.started request=<Request [b'POST']>\n",
      "2025-02-11 18:47:22,229 - httpcore.connection - DEBUG - start_tls.complete return_value=<httpcore._backends.sync.SyncStream object at 0x35bace820>\n",
      "2025-02-11 18:47:22,229 - httpcore.http11 - DEBUG - send_request_headers.complete\n",
      "2025-02-11 18:47:22,230 - httpcore.http11 - DEBUG - send_request_headers.started request=<Request [b'POST']>\n",
      "2025-02-11 18:47:22,231 - httpcore.http11 - DEBUG - send_request_body.started request=<Request [b'POST']>\n",
      "2025-02-11 18:47:22,232 - httpcore.http11 - DEBUG - send_request_headers.complete\n",
      "2025-02-11 18:47:22,233 - httpcore.http11 - DEBUG - send_request_body.complete\n",
      "2025-02-11 18:47:22,233 - httpcore.http11 - DEBUG - send_request_body.started request=<Request [b'POST']>\n",
      "2025-02-11 18:47:22,234 - httpcore.http11 - DEBUG - receive_response_headers.started request=<Request [b'POST']>\n",
      "2025-02-11 18:47:22,234 - httpcore.http11 - DEBUG - send_request_body.complete\n",
      "2025-02-11 18:47:22,235 - httpcore.http11 - DEBUG - receive_response_headers.started request=<Request [b'POST']>\n",
      "2025-02-11 18:47:22,242 - httpcore.connection - DEBUG - start_tls.complete return_value=<httpcore._backends.sync.SyncStream object at 0x35bd02d00>\n",
      "2025-02-11 18:47:22,242 - httpcore.http11 - DEBUG - send_request_headers.started request=<Request [b'POST']>\n",
      "2025-02-11 18:47:22,243 - httpcore.http11 - DEBUG - send_request_headers.complete\n",
      "2025-02-11 18:47:22,243 - httpcore.http11 - DEBUG - send_request_body.started request=<Request [b'POST']>\n",
      "2025-02-11 18:47:22,244 - httpcore.http11 - DEBUG - send_request_body.complete\n",
      "2025-02-11 18:47:22,244 - httpcore.http11 - DEBUG - receive_response_headers.started request=<Request [b'POST']>\n",
      "2025-02-11 18:47:26,338 - httpcore.http11 - DEBUG - receive_response_headers.complete return_value=(b'HTTP/1.1', 200, b'OK', [(b'Date', b'Tue, 11 Feb 2025 13:17:26 GMT'), (b'Content-Type', b'application/json'), (b'Transfer-Encoding', b'chunked'), (b'Connection', b'keep-alive'), (b'access-control-expose-headers', b'X-Request-ID'), (b'openai-organization', b'user-gccgvei9eaw4a1hksddpirf5'), (b'openai-processing-ms', b'3712'), (b'openai-version', b'2020-10-01'), (b'x-ratelimit-limit-requests', b'500'), (b'x-ratelimit-limit-tokens', b'30000'), (b'x-ratelimit-remaining-requests', b'499'), (b'x-ratelimit-remaining-tokens', b'28320'), (b'x-ratelimit-reset-requests', b'120ms'), (b'x-ratelimit-reset-tokens', b'3.359s'), (b'x-request-id', b'req_ec744717fa993bb86f7675805dd85225'), (b'strict-transport-security', b'max-age=31536000; includeSubDomains; preload'), (b'cf-cache-status', b'DYNAMIC'), (b'X-Content-Type-Options', b'nosniff'), (b'Server', b'cloudflare'), (b'CF-RAY', b'91049e6a5fcc919e-DEL'), (b'Content-Encoding', b'gzip'), (b'alt-svc', b'h3=\":443\"; ma=86400')])\n",
      "2025-02-11 18:47:26,339 - httpx - INFO - HTTP Request: POST https://api.openai.com/v1/chat/completions \"HTTP/1.1 200 OK\"\n",
      "2025-02-11 18:47:26,340 - httpcore.http11 - DEBUG - receive_response_body.started request=<Request [b'POST']>\n",
      "2025-02-11 18:47:26,341 - httpcore.http11 - DEBUG - receive_response_body.complete\n",
      "2025-02-11 18:47:26,341 - httpcore.http11 - DEBUG - response_closed.started\n",
      "2025-02-11 18:47:26,342 - httpcore.http11 - DEBUG - response_closed.complete\n",
      "2025-02-11 18:47:26,343 - openai._base_client - DEBUG - HTTP Response: POST https://api.openai.com/v1/chat/completions \"200 OK\" Headers({'date': 'Tue, 11 Feb 2025 13:17:26 GMT', 'content-type': 'application/json', 'transfer-encoding': 'chunked', 'connection': 'keep-alive', 'access-control-expose-headers': 'X-Request-ID', 'openai-organization': 'user-gccgvei9eaw4a1hksddpirf5', 'openai-processing-ms': '3712', 'openai-version': '2020-10-01', 'x-ratelimit-limit-requests': '500', 'x-ratelimit-limit-tokens': '30000', 'x-ratelimit-remaining-requests': '499', 'x-ratelimit-remaining-tokens': '28320', 'x-ratelimit-reset-requests': '120ms', 'x-ratelimit-reset-tokens': '3.359s', 'x-request-id': 'req_ec744717fa993bb86f7675805dd85225', 'strict-transport-security': 'max-age=31536000; includeSubDomains; preload', 'cf-cache-status': 'DYNAMIC', 'x-content-type-options': 'nosniff', 'server': 'cloudflare', 'cf-ray': '91049e6a5fcc919e-DEL', 'content-encoding': 'gzip', 'alt-svc': 'h3=\":443\"; ma=86400'})\n",
      "2025-02-11 18:47:26,343 - openai._base_client - DEBUG - request_id: req_ec744717fa993bb86f7675805dd85225\n",
      "2025-02-11 18:47:26,352 - openai._base_client - DEBUG - Request options: {'method': 'post', 'url': '/chat/completions', 'files': None, 'json_data': {'messages': [{'content': 'Act as an assistant tasked with summarizing the tables and text. Give a concise summary of the table or text. Table or text chunk: ~6% CFO CAGR, ~11% FCF CAGR\\n\\nUnhedged for price upside\\n\\n‘Cash includes cash, cash equivalents, restricted cash and short-term investments. *Market cap of ~$121B at March 31, 2023, close. *Average over the next 10 years. CAGRs calculated from FY2024 at $60/BBL WTI. Cash from operations (CFO), free cash flow (FCF) and return on capital employed (ROCE) are non-GAAP measures.\\n\\nDefinitions are included in the Appendix.\\n\\nConocoPhillips 8\\n\\nStrategy Powers Our Returns-Focused Value Proposition\\n\\nTE\\n\\né) Y\\n\\nRigorous Capital Allocation Framework\\n\\nDifferentiated Portfolio Depth, Durability and Diversity\\n\\nCommitment to disciplined reinvestment rate\\n\\n~20 BBOE, <$40/BBL WTI low Cost of Supply resource base\\n\\nCost of Supply analysis informs investment decisions\\n\\nLeading Lower 48 unconventional position, complemented with premium Alaska and International assets\\n\\nBalance of short-cycle, flexible unconventional with select longer-cycle, low-decline conventional\\n\\nStrong track record of active portfolio management\\n\\nReinvestment rate is a non-GAAP measure defined in the Appendix.\\n\\nWw\\n\\nry QO, Oo | ar\\n\\nValued Role in the Energy Transition\\n\\nAccelerating GHG-intensity reduction target through 2030\\n\\nBuilt attractive LNG portfolio\\n\\nEvaluating longer term low-carbon options in hydrogen and CCS\\n\\nConocoPhillips 10\\n\\nCommitment to Disciplined Reinvestment Rate\\n\\nWw\\n\\nIndustry Growth Focus\\n\\nConocoPhillips Strategy Reset\\n\\nDisciplined Reinvestment Rate is the Foundation for Superior Returns on and of Capital, while Driving Durable CFO Growth\\n\\n>100% Reinvestment Rate\\n\\n<60% Reinvestment Rate\\n\\n~50% 10-Year Reinvestment Rate\\n\\n~6% CFO CAGR 2024-2032\\n\\nat $60/BBL WTI Mid-Cycle Planning Price\\n\\n= 100% oO 5 fag ¢ oO £ 8 ao f= oO a E = Cc xt\\n\\n75%\\n\\n50%\\n\\no D oO g xt a = a . 5 UO\\n\\n25%\\n\\n~$75/BBL WTI Average\\n\\n~$63/BBL WTI Average\\n\\nat $80/BBL WTI\\n\\n_, at $80/BBL wTl _, at $80/BBL WTI at $60/BBL at $60/BBL WTI WTI\\n\\n0%\\n\\n2012-2016\\n\\n2017-2022\\n\\n2023E\\n\\n2024-2028\\n\\n2029-2032\\n\\n® Historic Reinvestment Rate\\n\\n@ Reinvestment Rate at $60/BBL WTI', 'role': 'user'}], 'model': 'gpt-4o', 'stream': False, 'temperature': 0.0}}\n",
      "2025-02-11 18:47:26,353 - openai._base_client - DEBUG - Sending HTTP Request: POST https://api.openai.com/v1/chat/completions\n",
      "2025-02-11 18:47:26,355 - httpcore.http11 - DEBUG - send_request_headers.started request=<Request [b'POST']>\n",
      "2025-02-11 18:47:26,356 - httpcore.http11 - DEBUG - send_request_headers.complete\n",
      "2025-02-11 18:47:26,356 - httpcore.http11 - DEBUG - send_request_body.started request=<Request [b'POST']>\n",
      "2025-02-11 18:47:26,357 - httpcore.http11 - DEBUG - send_request_body.complete\n",
      "2025-02-11 18:47:26,357 - httpcore.http11 - DEBUG - receive_response_headers.started request=<Request [b'POST']>\n",
      "2025-02-11 18:47:27,260 - httpcore.http11 - DEBUG - receive_response_headers.complete return_value=(b'HTTP/1.1', 200, b'OK', [(b'Date', b'Tue, 11 Feb 2025 13:17:27 GMT'), (b'Content-Type', b'application/json'), (b'Transfer-Encoding', b'chunked'), (b'Connection', b'keep-alive'), (b'access-control-expose-headers', b'X-Request-ID'), (b'openai-organization', b'user-gccgvei9eaw4a1hksddpirf5'), (b'openai-processing-ms', b'5573'), (b'openai-version', b'2020-10-01'), (b'x-ratelimit-limit-requests', b'500'), (b'x-ratelimit-limit-tokens', b'30000'), (b'x-ratelimit-remaining-requests', b'498'), (b'x-ratelimit-remaining-tokens', b'28344'), (b'x-ratelimit-reset-requests', b'239ms'), (b'x-ratelimit-reset-tokens', b'3.311s'), (b'x-request-id', b'req_102f385432238dd1042e86b08797ab71'), (b'strict-transport-security', b'max-age=31536000; includeSubDomains; preload'), (b'cf-cache-status', b'DYNAMIC'), (b'X-Content-Type-Options', b'nosniff'), (b'Server', b'cloudflare'), (b'CF-RAY', b'91049e641f7e91e2-DEL'), (b'Content-Encoding', b'gzip'), (b'alt-svc', b'h3=\":443\"; ma=86400')])\n",
      "2025-02-11 18:47:27,262 - httpx - INFO - HTTP Request: POST https://api.openai.com/v1/chat/completions \"HTTP/1.1 200 OK\"\n",
      "2025-02-11 18:47:27,263 - httpcore.http11 - DEBUG - receive_response_body.started request=<Request [b'POST']>\n",
      "2025-02-11 18:47:27,264 - httpcore.http11 - DEBUG - receive_response_body.complete\n",
      "2025-02-11 18:47:27,265 - httpcore.http11 - DEBUG - response_closed.started\n",
      "2025-02-11 18:47:27,265 - httpcore.http11 - DEBUG - response_closed.complete\n",
      "2025-02-11 18:47:27,266 - openai._base_client - DEBUG - HTTP Response: POST https://api.openai.com/v1/chat/completions \"200 OK\" Headers({'date': 'Tue, 11 Feb 2025 13:17:27 GMT', 'content-type': 'application/json', 'transfer-encoding': 'chunked', 'connection': 'keep-alive', 'access-control-expose-headers': 'X-Request-ID', 'openai-organization': 'user-gccgvei9eaw4a1hksddpirf5', 'openai-processing-ms': '5573', 'openai-version': '2020-10-01', 'x-ratelimit-limit-requests': '500', 'x-ratelimit-limit-tokens': '30000', 'x-ratelimit-remaining-requests': '498', 'x-ratelimit-remaining-tokens': '28344', 'x-ratelimit-reset-requests': '239ms', 'x-ratelimit-reset-tokens': '3.311s', 'x-request-id': 'req_102f385432238dd1042e86b08797ab71', 'strict-transport-security': 'max-age=31536000; includeSubDomains; preload', 'cf-cache-status': 'DYNAMIC', 'x-content-type-options': 'nosniff', 'server': 'cloudflare', 'cf-ray': '91049e641f7e91e2-DEL', 'content-encoding': 'gzip', 'alt-svc': 'h3=\":443\"; ma=86400'})\n",
      "2025-02-11 18:47:27,267 - openai._base_client - DEBUG - request_id: req_102f385432238dd1042e86b08797ab71\n",
      "2025-02-11 18:47:27,272 - openai._base_client - DEBUG - Request options: {'method': 'post', 'url': '/chat/completions', 'files': None, 'json_data': {'messages': [{'content': \"Act as an assistant tasked with summarizing the tables and text. Give a concise summary of the table or text. Table or text chunk: === Reinvestment Rate at $80/BBL WTI\\n\\nReinvestment rate and cash from operations (CFO) are non-GAAP measures. Definitions and reconciliations are included in the Appendix.\\n\\nConocoPhillips 11\\n\\nCost of Supply Analysis Informs Investment Decisions\\n\\nWw\\n\\nCost of Supply = Our North Star\\n\\n$/BBL WTI Oil Price Required to Achieve a Point-Forward 10% Return\\n\\nWTI Cost of Supply ($/BBL)\\n\\nFully Burdened Metric | With All Components Rigorously Calculated For Each Entity Ss -s40/e8 G&A Transport Lifting Capital OPEX Royalty Taxes Product Mix Differential to WTI WTI CoS Facilities Wells\\n\\nLow Cost of Supply Wins\\n\\nReflecti f ical Permi. I it well. eflective of a typical Permian development we\\n\\nConocoPhillips 12\\n\\nSecondary Investment Criteria Reinforce Resilient, Durable Returns\\n\\nww\\n\\nInvestment Criteria\\n\\nBalanced, Diversified, Disciplined Production Growth\\n\\nProduction Mix'\\n\\na = QZ c £ a\\n\\na 2 O > = zg fe) o ,)\\n\\nDisciplined Reinvestment Rate Returns of capital\\n\\nCost of Supply Returns on capital\\n\\nBalance of short-cycle, flexible unconventional with longer-cycle, low-decline conventional\\n\\n. Product mix and market exposure\\n\\n, , Predictable execution\\n\\nOil ~55% NGL ~15% North American Gas ~15% International Gas ~15%\\n\\nProduction (MBOED)\\n\\n2500 ~4-5% PNG = Surmont Production CAGE ~2% CAGR 2,000 Conventional ~3% CAGR 1,500 + 000 ' . Unconventional (Lower 48 + Montney) an ee 500 0\\n\\n2023E\\n\\n2032\\n\\n‘Average anticipated production mix from 2023-2032; oil includes bitumen. Reinvestment rate is a non-GAAP measure defined in the Appendix.\\n\\nConocoPhillips 13\\n\\nOur Differentiated Portfolio: Deep, Durable and Diverse\\n\\n~20 BBOE of Resource\\n\\nDiverse Production Base\\n\\nUnder $40/BBL Cost of Supply\\n\\n10-Year Plan Cumulative Production (BBOE)\\n\\n$50\\n\\n~ $3 2/BBL Average Cost of Supply\\n\\n$46 a $30 $20 $0 0 5 10 15 20 Resource (BBOE) W Lower 48 Canada B Alaska M@ EMENA BB Asia Pacific\\n\\n= a = Qa vi 8 E\\n\\nLower 48 Alaska GKA GWA GPA WNS EMENA Norway Qatar Libya Eagle Ford Other\\n\\nCosts assume a mid-cycle price environment of $60/BBL WTI.\\n\\nWw\\n\\nConocoPhillips 14\\n\\nStrong Track Record of Active Portfolio Management\\n\\nww\", 'role': 'user'}], 'model': 'gpt-4o', 'stream': False, 'temperature': 0.0}}\n",
      "2025-02-11 18:47:27,273 - openai._base_client - DEBUG - Sending HTTP Request: POST https://api.openai.com/v1/chat/completions\n",
      "2025-02-11 18:47:27,274 - httpcore.http11 - DEBUG - send_request_headers.started request=<Request [b'POST']>\n",
      "2025-02-11 18:47:27,275 - httpcore.http11 - DEBUG - send_request_headers.complete\n",
      "2025-02-11 18:47:27,276 - httpcore.http11 - DEBUG - send_request_body.started request=<Request [b'POST']>\n",
      "2025-02-11 18:47:27,276 - httpcore.http11 - DEBUG - send_request_body.complete\n",
      "2025-02-11 18:47:27,277 - httpcore.http11 - DEBUG - receive_response_headers.started request=<Request [b'POST']>\n",
      "2025-02-11 18:47:27,315 - httpcore.http11 - DEBUG - receive_response_headers.complete return_value=(b'HTTP/1.1', 200, b'OK', [(b'Date', b'Tue, 11 Feb 2025 13:17:28 GMT'), (b'Content-Type', b'application/json'), (b'Transfer-Encoding', b'chunked'), (b'Connection', b'keep-alive'), (b'access-control-expose-headers', b'X-Request-ID'), (b'openai-organization', b'user-gccgvei9eaw4a1hksddpirf5'), (b'openai-processing-ms', b'4742'), (b'openai-version', b'2020-10-01'), (b'x-ratelimit-limit-requests', b'500'), (b'x-ratelimit-limit-tokens', b'30000'), (b'x-ratelimit-remaining-requests', b'498'), (b'x-ratelimit-remaining-tokens', b'27719'), (b'x-ratelimit-reset-requests', b'223ms'), (b'x-ratelimit-reset-tokens', b'4.561s'), (b'x-request-id', b'req_27e67c62c4e9e91ded90d37b77bd52ea'), (b'strict-transport-security', b'max-age=31536000; includeSubDomains; preload'), (b'CF-Cache-Status', b'DYNAMIC'), (b'X-Content-Type-Options', b'nosniff'), (b'Server', b'cloudflare'), (b'CF-RAY', b'91049e6a5e675957-DEL'), (b'Content-Encoding', b'gzip'), (b'alt-svc', b'h3=\":443\"; ma=86400')])\n",
      "2025-02-11 18:47:27,315 - httpx - INFO - HTTP Request: POST https://api.openai.com/v1/chat/completions \"HTTP/1.1 200 OK\"\n",
      "2025-02-11 18:47:27,316 - httpcore.http11 - DEBUG - receive_response_body.started request=<Request [b'POST']>\n",
      "2025-02-11 18:47:27,317 - httpcore.http11 - DEBUG - receive_response_body.complete\n",
      "2025-02-11 18:47:27,317 - httpcore.http11 - DEBUG - response_closed.started\n",
      "2025-02-11 18:47:27,317 - httpcore.http11 - DEBUG - response_closed.complete\n",
      "2025-02-11 18:47:27,318 - openai._base_client - DEBUG - HTTP Response: POST https://api.openai.com/v1/chat/completions \"200 OK\" Headers({'date': 'Tue, 11 Feb 2025 13:17:28 GMT', 'content-type': 'application/json', 'transfer-encoding': 'chunked', 'connection': 'keep-alive', 'access-control-expose-headers': 'X-Request-ID', 'openai-organization': 'user-gccgvei9eaw4a1hksddpirf5', 'openai-processing-ms': '4742', 'openai-version': '2020-10-01', 'x-ratelimit-limit-requests': '500', 'x-ratelimit-limit-tokens': '30000', 'x-ratelimit-remaining-requests': '498', 'x-ratelimit-remaining-tokens': '27719', 'x-ratelimit-reset-requests': '223ms', 'x-ratelimit-reset-tokens': '4.561s', 'x-request-id': 'req_27e67c62c4e9e91ded90d37b77bd52ea', 'strict-transport-security': 'max-age=31536000; includeSubDomains; preload', 'cf-cache-status': 'DYNAMIC', 'x-content-type-options': 'nosniff', 'server': 'cloudflare', 'cf-ray': '91049e6a5e675957-DEL', 'content-encoding': 'gzip', 'alt-svc': 'h3=\":443\"; ma=86400'})\n",
      "2025-02-11 18:47:27,318 - openai._base_client - DEBUG - request_id: req_27e67c62c4e9e91ded90d37b77bd52ea\n",
      "2025-02-11 18:47:27,322 - openai._base_client - DEBUG - Request options: {'method': 'post', 'url': '/chat/completions', 'files': None, 'json_data': {'messages': [{'content': \"Act as an assistant tasked with summarizing the tables and text. Give a concise summary of the table or text. Table or text chunk: 2016\\n\\n2022\\n\\nProduction _ » 1.6 MMBOED WNS and GkA Montney — Concho and » 1.7 MMBOED Working Interest Acreage Shell Permian APLNG Consolidations Acquisition Acquisitions — Acquisition 2018 2020 2022 aoe seaciasly > <$40/BBLWT| 9 ee} ~ $3 2/BBL 2017 2019 2021 Resource Life » >18 years | | » >30 years San Juan Exit U.K. Exit Niobrara and Indonesia Emissions Canada Cenovus Australia-West Exit Intensity) ” ~39 kg CO,e/BOE Transaction Exits » ~22 kg\\n\\nWTI\\n\\nCO,e/BOE\\n\\nCost of Supply Framework Drives Disciplined Transactions\\n\\n~$25B of Both Acquisitions and Divestitures Since 20162\\n\\n'Gross operated GHG emissions (Scope 1 and 2), 2022 is a preliminary estimate. Dispositions include contingent payment proceeds and sale of CVE shares.\\n\\nConocoPhillips 15\\n\\nAccelerating Our GHG-Intensity Reduction Target Through 2030\\n\\nWw\\n\\nEmissions Reduction Opportunities\\n\\nPathway to Net-Zero!\\n\\n50\\n\\nEmissions Intensity (kg CO2e/BOE)\\n\\nMethane Venting and Flaring\\n\\nElectrification\\n\\neg Optimization and Efficiency\\n\\nStrategic Pilots and Studies\\n\\n50% Reduction 60% Reduction {Ep 2016 2022E 2030 2050 @ Gross Operated Net Equity Near-Term (2025) * Zero routine flaring by 20252 * NEW: Reduce GHG intensity 50-60% (from 40-50%)? * Near-zero methane intensity target <1.5 kg CO,e/BOE Medium-Term (2030) Long-Term (2050) * Net-zero emissions ambition’\\n\\n40\\n\\n30\\n\\n50\\n\\n10\\n\\n0\\n\\nProgressing Toward Net-Zero Ambition\\n\\nScope 1 and 2 emissions on a gross operated and net equity basis. In line with the World Bank Zero Routine Flaring initiative, ConocoPhillips premise is five years earlier than World Bank 2030 goal. 3Reduction from a 2016 baseline.\\n\\nConocoPhillips 16\\n\\nLNG: A Crucial Fuel for Energy Transition\\n\\nWw\\n\\nU.S. Electric Power Sector Emissions Drop with Shift from Coal to Natural Gas!\\n\\n95000\\n\\nGlobal Coal Consumption? Has Yet to Definitively Peak\\n\\n: 60% C40 Z > 30% Reduction gn, un In 5 EMISSIONS 2,500 é = 40% Coal ae S e ao — a s Total LL fe) oe vom 17% 8 ae 1,750 3 Gas S = 20% =~ ————————__ 1,000 2001 2021 2001 2021\\n\\n=\\n\\n7,000 5,000\\n\\n3,000\\n\\n2000\\n\\n2010\\n\\n2020\", 'role': 'user'}], 'model': 'gpt-4o', 'stream': False, 'temperature': 0.0}}\n",
      "2025-02-11 18:47:27,323 - openai._base_client - DEBUG - Sending HTTP Request: POST https://api.openai.com/v1/chat/completions\n",
      "2025-02-11 18:47:27,324 - httpcore.http11 - DEBUG - send_request_headers.started request=<Request [b'POST']>\n",
      "2025-02-11 18:47:27,324 - httpcore.http11 - DEBUG - send_request_headers.complete\n",
      "2025-02-11 18:47:27,325 - httpcore.http11 - DEBUG - send_request_body.started request=<Request [b'POST']>\n",
      "2025-02-11 18:47:27,325 - httpcore.http11 - DEBUG - send_request_body.complete\n",
      "2025-02-11 18:47:27,325 - httpcore.http11 - DEBUG - receive_response_headers.started request=<Request [b'POST']>\n",
      "2025-02-11 18:47:27,956 - httpcore.http11 - DEBUG - receive_response_headers.complete return_value=(b'HTTP/1.1', 200, b'OK', [(b'Date', b'Tue, 11 Feb 2025 13:17:28 GMT'), (b'Content-Type', b'application/json'), (b'Transfer-Encoding', b'chunked'), (b'Connection', b'keep-alive'), (b'access-control-expose-headers', b'X-Request-ID'), (b'openai-organization', b'user-gccgvei9eaw4a1hksddpirf5'), (b'openai-processing-ms', b'6407'), (b'openai-version', b'2020-10-01'), (b'x-ratelimit-limit-requests', b'500'), (b'x-ratelimit-limit-tokens', b'30000'), (b'x-ratelimit-remaining-requests', b'499'), (b'x-ratelimit-remaining-tokens', b'29394'), (b'x-ratelimit-reset-requests', b'120ms'), (b'x-ratelimit-reset-tokens', b'1.212s'), (b'x-request-id', b'req_25bfa65cdbd6be6d78f553a02acadefb'), (b'strict-transport-security', b'max-age=31536000; includeSubDomains; preload'), (b'cf-cache-status', b'DYNAMIC'), (b'X-Content-Type-Options', b'nosniff'), (b'Server', b'cloudflare'), (b'CF-RAY', b'91049e641f068993-DEL'), (b'Content-Encoding', b'gzip'), (b'alt-svc', b'h3=\":443\"; ma=86400')])\n",
      "2025-02-11 18:47:27,959 - httpx - INFO - HTTP Request: POST https://api.openai.com/v1/chat/completions \"HTTP/1.1 200 OK\"\n",
      "2025-02-11 18:47:27,960 - httpcore.http11 - DEBUG - receive_response_body.started request=<Request [b'POST']>\n",
      "2025-02-11 18:47:27,965 - httpcore.http11 - DEBUG - receive_response_body.complete\n",
      "2025-02-11 18:47:27,966 - httpcore.http11 - DEBUG - response_closed.started\n",
      "2025-02-11 18:47:27,967 - httpcore.http11 - DEBUG - response_closed.complete\n",
      "2025-02-11 18:47:27,968 - openai._base_client - DEBUG - HTTP Response: POST https://api.openai.com/v1/chat/completions \"200 OK\" Headers({'date': 'Tue, 11 Feb 2025 13:17:28 GMT', 'content-type': 'application/json', 'transfer-encoding': 'chunked', 'connection': 'keep-alive', 'access-control-expose-headers': 'X-Request-ID', 'openai-organization': 'user-gccgvei9eaw4a1hksddpirf5', 'openai-processing-ms': '6407', 'openai-version': '2020-10-01', 'x-ratelimit-limit-requests': '500', 'x-ratelimit-limit-tokens': '30000', 'x-ratelimit-remaining-requests': '499', 'x-ratelimit-remaining-tokens': '29394', 'x-ratelimit-reset-requests': '120ms', 'x-ratelimit-reset-tokens': '1.212s', 'x-request-id': 'req_25bfa65cdbd6be6d78f553a02acadefb', 'strict-transport-security': 'max-age=31536000; includeSubDomains; preload', 'cf-cache-status': 'DYNAMIC', 'x-content-type-options': 'nosniff', 'server': 'cloudflare', 'cf-ray': '91049e641f068993-DEL', 'content-encoding': 'gzip', 'alt-svc': 'h3=\":443\"; ma=86400'})\n",
      "2025-02-11 18:47:27,969 - openai._base_client - DEBUG - request_id: req_25bfa65cdbd6be6d78f553a02acadefb\n",
      "2025-02-11 18:47:27,977 - openai._base_client - DEBUG - Request options: {'method': 'post', 'url': '/chat/completions', 'files': None, 'json_data': {'messages': [{'content': 'Act as an assistant tasked with summarizing the tables and text. Give a concise summary of the table or text. Table or text chunk: U.S. LNG Reduces Carbon Intensity of Electricity?\\n\\nStrong LNG Growth Outlook*\\n\\n1,200 800 o v, 400 0 Germany, Germany, Domestic Coal U.S. Permian LNG\\n\\n= = =\\n\\n—\\n\\nOo 2\\n\\n>40% Reduction a a in lifecycle GHG emissions when switching from domestic coal to imported LNG\\n\\n750\\n\\n>300 MTPA Suppl 500 Gar 080 < p by = S Under Construction 250 Operational 0 2022 2050\\n\\n2050\\n\\n1U.S E.l.A Power Plant Operations Report. 2IEA, Global Coal Consumption, 2000-2025. 3ICF International, Update to the Life-Cycle Analysis of GHG Emissions for US LNG Exports. ‘Source Wood Mackenzie Q4 2022.\\n\\nConocoPhillips 17\\n\\n10-Year Plan Reflects Durable Returns-Focused Value Proposition\\n\\nww\\n\\nCapital ($B)\\n\\nFCF ($B)\\n\\n12\\n\\n~$11B 2023 Capital\\n\\n9 6 3 0 2023E 2024-2028 2029-2032 Average Average\\n\\n; Production (MBOED)\\n\\n~d- 908 43% 2,000 Production CAGR 1,500 1,000 500 ° 20286 TNcrage, vNverage.\\n\\n25 $80/BBL 20 WTI Upside Sensitivity 15 10 $60 /BBL WTI Mid-Cycle 5 Planning Price 0 2023E 2024-2028 2029-2032 Average Average\\n\\n>$115B FCF\\n\\nOver the Next 10 Years at $60/BBL WTI\\n\\n~$35/BBL WTI FCF Breakeven\\n\\nAverage Over the Next 10 Years\\n\\nFree cash flow (FCF) is a non-GAAP measure defined in the Appendix.\\n\\nConocoPhillips 18', 'role': 'user'}], 'model': 'gpt-4o', 'stream': False, 'temperature': 0.0}}\n",
      "2025-02-11 18:47:27,979 - openai._base_client - DEBUG - Sending HTTP Request: POST https://api.openai.com/v1/chat/completions\n",
      "2025-02-11 18:47:27,979 - httpcore.http11 - DEBUG - send_request_headers.started request=<Request [b'POST']>\n",
      "2025-02-11 18:47:27,980 - httpcore.http11 - DEBUG - send_request_headers.complete\n",
      "2025-02-11 18:47:27,981 - httpcore.http11 - DEBUG - send_request_body.started request=<Request [b'POST']>\n",
      "2025-02-11 18:47:27,981 - httpcore.http11 - DEBUG - send_request_body.complete\n",
      "2025-02-11 18:47:27,982 - httpcore.http11 - DEBUG - receive_response_headers.started request=<Request [b'POST']>\n",
      "2025-02-11 18:47:29,187 - httpcore.http11 - DEBUG - receive_response_headers.complete return_value=(b'HTTP/1.1', 200, b'OK', [(b'Date', b'Tue, 11 Feb 2025 13:17:29 GMT'), (b'Content-Type', b'application/json'), (b'Transfer-Encoding', b'chunked'), (b'Connection', b'keep-alive'), (b'access-control-expose-headers', b'X-Request-ID'), (b'openai-organization', b'user-gccgvei9eaw4a1hksddpirf5'), (b'openai-processing-ms', b'6595'), (b'openai-version', b'2020-10-01'), (b'x-ratelimit-limit-requests', b'500'), (b'x-ratelimit-limit-tokens', b'30000'), (b'x-ratelimit-remaining-requests', b'497'), (b'x-ratelimit-remaining-tokens', b'27142'), (b'x-ratelimit-reset-requests', b'329ms'), (b'x-ratelimit-reset-tokens', b'5.714s'), (b'x-request-id', b'req_322eaf89f5ac921b4846ae632e8ed7a1'), (b'strict-transport-security', b'max-age=31536000; includeSubDomains; preload'), (b'cf-cache-status', b'DYNAMIC'), (b'X-Content-Type-Options', b'nosniff'), (b'Server', b'cloudflare'), (b'CF-RAY', b'91049e6a7fe88993-DEL'), (b'Content-Encoding', b'gzip'), (b'alt-svc', b'h3=\":443\"; ma=86400')])\n",
      "2025-02-11 18:47:29,189 - httpx - INFO - HTTP Request: POST https://api.openai.com/v1/chat/completions \"HTTP/1.1 200 OK\"\n",
      "2025-02-11 18:47:29,190 - httpcore.http11 - DEBUG - receive_response_body.started request=<Request [b'POST']>\n",
      "2025-02-11 18:47:29,197 - httpcore.http11 - DEBUG - receive_response_body.complete\n",
      "2025-02-11 18:47:29,198 - httpcore.http11 - DEBUG - response_closed.started\n",
      "2025-02-11 18:47:29,199 - httpcore.http11 - DEBUG - response_closed.complete\n",
      "2025-02-11 18:47:29,199 - openai._base_client - DEBUG - HTTP Response: POST https://api.openai.com/v1/chat/completions \"200 OK\" Headers({'date': 'Tue, 11 Feb 2025 13:17:29 GMT', 'content-type': 'application/json', 'transfer-encoding': 'chunked', 'connection': 'keep-alive', 'access-control-expose-headers': 'X-Request-ID', 'openai-organization': 'user-gccgvei9eaw4a1hksddpirf5', 'openai-processing-ms': '6595', 'openai-version': '2020-10-01', 'x-ratelimit-limit-requests': '500', 'x-ratelimit-limit-tokens': '30000', 'x-ratelimit-remaining-requests': '497', 'x-ratelimit-remaining-tokens': '27142', 'x-ratelimit-reset-requests': '329ms', 'x-ratelimit-reset-tokens': '5.714s', 'x-request-id': 'req_322eaf89f5ac921b4846ae632e8ed7a1', 'strict-transport-security': 'max-age=31536000; includeSubDomains; preload', 'cf-cache-status': 'DYNAMIC', 'x-content-type-options': 'nosniff', 'server': 'cloudflare', 'cf-ray': '91049e6a7fe88993-DEL', 'content-encoding': 'gzip', 'alt-svc': 'h3=\":443\"; ma=86400'})\n",
      "2025-02-11 18:47:29,200 - openai._base_client - DEBUG - request_id: req_322eaf89f5ac921b4846ae632e8ed7a1\n",
      "2025-02-11 18:47:30,928 - httpcore.http11 - DEBUG - receive_response_headers.complete return_value=(b'HTTP/1.1', 200, b'OK', [(b'Date', b'Tue, 11 Feb 2025 13:17:31 GMT'), (b'Content-Type', b'application/json'), (b'Transfer-Encoding', b'chunked'), (b'Connection', b'keep-alive'), (b'access-control-expose-headers', b'X-Request-ID'), (b'openai-organization', b'user-gccgvei9eaw4a1hksddpirf5'), (b'openai-processing-ms', b'3305'), (b'openai-version', b'2020-10-01'), (b'x-ratelimit-limit-requests', b'500'), (b'x-ratelimit-limit-tokens', b'30000'), (b'x-ratelimit-remaining-requests', b'499'), (b'x-ratelimit-remaining-tokens', b'28733'), (b'x-ratelimit-reset-requests', b'120ms'), (b'x-ratelimit-reset-tokens', b'2.532s'), (b'x-request-id', b'req_7decfeb67eaafe45053779adc7216b2e'), (b'strict-transport-security', b'max-age=31536000; includeSubDomains; preload'), (b'cf-cache-status', b'DYNAMIC'), (b'X-Content-Type-Options', b'nosniff'), (b'Server', b'cloudflare'), (b'CF-RAY', b'91049e89e8d791e2-DEL'), (b'Content-Encoding', b'gzip'), (b'alt-svc', b'h3=\":443\"; ma=86400')])\n",
      "2025-02-11 18:47:30,930 - httpx - INFO - HTTP Request: POST https://api.openai.com/v1/chat/completions \"HTTP/1.1 200 OK\"\n",
      "2025-02-11 18:47:30,931 - httpcore.http11 - DEBUG - receive_response_body.started request=<Request [b'POST']>\n",
      "2025-02-11 18:47:30,932 - httpcore.http11 - DEBUG - receive_response_body.complete\n",
      "2025-02-11 18:47:30,933 - httpcore.http11 - DEBUG - response_closed.started\n",
      "2025-02-11 18:47:30,934 - httpcore.http11 - DEBUG - response_closed.complete\n",
      "2025-02-11 18:47:30,934 - openai._base_client - DEBUG - HTTP Response: POST https://api.openai.com/v1/chat/completions \"200 OK\" Headers({'date': 'Tue, 11 Feb 2025 13:17:31 GMT', 'content-type': 'application/json', 'transfer-encoding': 'chunked', 'connection': 'keep-alive', 'access-control-expose-headers': 'X-Request-ID', 'openai-organization': 'user-gccgvei9eaw4a1hksddpirf5', 'openai-processing-ms': '3305', 'openai-version': '2020-10-01', 'x-ratelimit-limit-requests': '500', 'x-ratelimit-limit-tokens': '30000', 'x-ratelimit-remaining-requests': '499', 'x-ratelimit-remaining-tokens': '28733', 'x-ratelimit-reset-requests': '120ms', 'x-ratelimit-reset-tokens': '2.532s', 'x-request-id': 'req_7decfeb67eaafe45053779adc7216b2e', 'strict-transport-security': 'max-age=31536000; includeSubDomains; preload', 'cf-cache-status': 'DYNAMIC', 'x-content-type-options': 'nosniff', 'server': 'cloudflare', 'cf-ray': '91049e89e8d791e2-DEL', 'content-encoding': 'gzip', 'alt-svc': 'h3=\":443\"; ma=86400'})\n",
      "2025-02-11 18:47:30,935 - openai._base_client - DEBUG - request_id: req_7decfeb67eaafe45053779adc7216b2e\n",
      "2025-02-11 18:47:33,177 - httpcore.http11 - DEBUG - receive_response_headers.complete return_value=(b'HTTP/1.1', 200, b'OK', [(b'Date', b'Tue, 11 Feb 2025 13:17:33 GMT'), (b'Content-Type', b'application/json'), (b'Transfer-Encoding', b'chunked'), (b'Connection', b'keep-alive'), (b'access-control-expose-headers', b'X-Request-ID'), (b'openai-organization', b'user-gccgvei9eaw4a1hksddpirf5'), (b'openai-processing-ms', b'6478'), (b'openai-version', b'2020-10-01'), (b'x-ratelimit-limit-requests', b'500'), (b'x-ratelimit-limit-tokens', b'30000'), (b'x-ratelimit-remaining-requests', b'499'), (b'x-ratelimit-remaining-tokens', b'28704'), (b'x-ratelimit-reset-requests', b'120ms'), (b'x-ratelimit-reset-tokens', b'2.59s'), (b'x-request-id', b'req_fcda5ca7abf075c6c588831959e8f4ee'), (b'strict-transport-security', b'max-age=31536000; includeSubDomains; preload'), (b'cf-cache-status', b'DYNAMIC'), (b'X-Content-Type-Options', b'nosniff'), (b'Server', b'cloudflare'), (b'CF-RAY', b'91049e842ff3919e-DEL'), (b'Content-Encoding', b'gzip'), (b'alt-svc', b'h3=\":443\"; ma=86400')])\n",
      "2025-02-11 18:47:33,180 - httpx - INFO - HTTP Request: POST https://api.openai.com/v1/chat/completions \"HTTP/1.1 200 OK\"\n",
      "2025-02-11 18:47:33,181 - httpcore.http11 - DEBUG - receive_response_body.started request=<Request [b'POST']>\n",
      "2025-02-11 18:47:33,182 - httpcore.http11 - DEBUG - receive_response_body.complete\n",
      "2025-02-11 18:47:33,183 - httpcore.http11 - DEBUG - response_closed.started\n",
      "2025-02-11 18:47:33,184 - httpcore.http11 - DEBUG - response_closed.complete\n",
      "2025-02-11 18:47:33,185 - openai._base_client - DEBUG - HTTP Response: POST https://api.openai.com/v1/chat/completions \"200 OK\" Headers({'date': 'Tue, 11 Feb 2025 13:17:33 GMT', 'content-type': 'application/json', 'transfer-encoding': 'chunked', 'connection': 'keep-alive', 'access-control-expose-headers': 'X-Request-ID', 'openai-organization': 'user-gccgvei9eaw4a1hksddpirf5', 'openai-processing-ms': '6478', 'openai-version': '2020-10-01', 'x-ratelimit-limit-requests': '500', 'x-ratelimit-limit-tokens': '30000', 'x-ratelimit-remaining-requests': '499', 'x-ratelimit-remaining-tokens': '28704', 'x-ratelimit-reset-requests': '120ms', 'x-ratelimit-reset-tokens': '2.59s', 'x-request-id': 'req_fcda5ca7abf075c6c588831959e8f4ee', 'strict-transport-security': 'max-age=31536000; includeSubDomains; preload', 'cf-cache-status': 'DYNAMIC', 'x-content-type-options': 'nosniff', 'server': 'cloudflare', 'cf-ray': '91049e842ff3919e-DEL', 'content-encoding': 'gzip', 'alt-svc': 'h3=\":443\"; ma=86400'})\n",
      "2025-02-11 18:47:33,185 - openai._base_client - DEBUG - request_id: req_fcda5ca7abf075c6c588831959e8f4ee\n",
      "2025-02-11 18:47:40,993 - httpcore.http11 - DEBUG - receive_response_headers.complete return_value=(b'HTTP/1.1', 200, b'OK', [(b'Date', b'Tue, 11 Feb 2025 13:17:41 GMT'), (b'Content-Type', b'application/json'), (b'Transfer-Encoding', b'chunked'), (b'Connection', b'keep-alive'), (b'access-control-expose-headers', b'X-Request-ID'), (b'openai-organization', b'user-gccgvei9eaw4a1hksddpirf5'), (b'openai-processing-ms', b'12642'), (b'openai-version', b'2020-10-01'), (b'x-ratelimit-limit-requests', b'500'), (b'x-ratelimit-limit-tokens', b'30000'), (b'x-ratelimit-remaining-requests', b'499'), (b'x-ratelimit-remaining-tokens', b'27868'), (b'x-ratelimit-reset-requests', b'120ms'), (b'x-ratelimit-reset-tokens', b'4.263s'), (b'x-request-id', b'req_b1af7d7d6839713b1142f02fe6e30e07'), (b'strict-transport-security', b'max-age=31536000; includeSubDomains; preload'), (b'CF-Cache-Status', b'DYNAMIC'), (b'X-Content-Type-Options', b'nosniff'), (b'Server', b'cloudflare'), (b'CF-RAY', b'91049e8e492b8993-DEL'), (b'Content-Encoding', b'gzip'), (b'alt-svc', b'h3=\":443\"; ma=86400')])\n",
      "2025-02-11 18:47:40,996 - httpx - INFO - HTTP Request: POST https://api.openai.com/v1/chat/completions \"HTTP/1.1 200 OK\"\n",
      "2025-02-11 18:47:40,996 - httpcore.http11 - DEBUG - receive_response_body.started request=<Request [b'POST']>\n",
      "2025-02-11 18:47:40,998 - httpcore.http11 - DEBUG - receive_response_body.complete\n",
      "2025-02-11 18:47:40,998 - httpcore.http11 - DEBUG - response_closed.started\n",
      "2025-02-11 18:47:40,999 - httpcore.http11 - DEBUG - response_closed.complete\n",
      "2025-02-11 18:47:40,999 - httpcore.connection - DEBUG - close.started\n",
      "2025-02-11 18:47:41,000 - httpcore.connection - DEBUG - close.complete\n",
      "2025-02-11 18:47:41,000 - httpcore.connection - DEBUG - close.started\n",
      "2025-02-11 18:47:41,001 - httpcore.connection - DEBUG - close.complete\n",
      "2025-02-11 18:47:41,001 - httpcore.connection - DEBUG - close.started\n",
      "2025-02-11 18:47:41,002 - httpcore.connection - DEBUG - close.complete\n",
      "2025-02-11 18:47:41,002 - openai._base_client - DEBUG - HTTP Response: POST https://api.openai.com/v1/chat/completions \"200 OK\" Headers({'date': 'Tue, 11 Feb 2025 13:17:41 GMT', 'content-type': 'application/json', 'transfer-encoding': 'chunked', 'connection': 'keep-alive', 'access-control-expose-headers': 'X-Request-ID', 'openai-organization': 'user-gccgvei9eaw4a1hksddpirf5', 'openai-processing-ms': '12642', 'openai-version': '2020-10-01', 'x-ratelimit-limit-requests': '500', 'x-ratelimit-limit-tokens': '30000', 'x-ratelimit-remaining-requests': '499', 'x-ratelimit-remaining-tokens': '27868', 'x-ratelimit-reset-requests': '120ms', 'x-ratelimit-reset-tokens': '4.263s', 'x-request-id': 'req_b1af7d7d6839713b1142f02fe6e30e07', 'strict-transport-security': 'max-age=31536000; includeSubDomains; preload', 'cf-cache-status': 'DYNAMIC', 'x-content-type-options': 'nosniff', 'server': 'cloudflare', 'cf-ray': '91049e8e492b8993-DEL', 'content-encoding': 'gzip', 'alt-svc': 'h3=\":443\"; ma=86400'})\n",
      "2025-02-11 18:47:41,003 - openai._base_client - DEBUG - request_id: req_b1af7d7d6839713b1142f02fe6e30e07\n",
      "2025-02-11 18:47:44,052 - httpcore.http11 - DEBUG - receive_response_headers.complete return_value=(b'HTTP/1.1', 200, b'OK', [(b'Date', b'Tue, 11 Feb 2025 13:17:44 GMT'), (b'Content-Type', b'application/json'), (b'Transfer-Encoding', b'chunked'), (b'Connection', b'keep-alive'), (b'access-control-expose-headers', b'X-Request-ID'), (b'openai-organization', b'user-gccgvei9eaw4a1hksddpirf5'), (b'openai-processing-ms', b'16271'), (b'openai-version', b'2020-10-01'), (b'x-ratelimit-limit-requests', b'500'), (b'x-ratelimit-limit-tokens', b'30000'), (b'x-ratelimit-remaining-requests', b'498'), (b'x-ratelimit-remaining-tokens', b'28193'), (b'x-ratelimit-reset-requests', b'186ms'), (b'x-ratelimit-reset-tokens', b'3.612s'), (b'x-request-id', b'req_15eddc9a8e2ce631ca2d82d1782ccc61'), (b'strict-transport-security', b'max-age=31536000; includeSubDomains; preload'), (b'cf-cache-status', b'DYNAMIC'), (b'X-Content-Type-Options', b'nosniff'), (b'Server', b'cloudflare'), (b'CF-RAY', b'91049e8a3fb65957-DEL'), (b'Content-Encoding', b'gzip'), (b'alt-svc', b'h3=\":443\"; ma=86400')])\n",
      "2025-02-11 18:47:44,054 - httpx - INFO - HTTP Request: POST https://api.openai.com/v1/chat/completions \"HTTP/1.1 200 OK\"\n",
      "2025-02-11 18:47:44,055 - httpcore.http11 - DEBUG - receive_response_body.started request=<Request [b'POST']>\n",
      "2025-02-11 18:47:44,056 - httpcore.http11 - DEBUG - receive_response_body.complete\n",
      "2025-02-11 18:47:44,057 - httpcore.http11 - DEBUG - response_closed.started\n",
      "2025-02-11 18:47:44,057 - httpcore.http11 - DEBUG - response_closed.complete\n",
      "2025-02-11 18:47:44,058 - openai._base_client - DEBUG - HTTP Response: POST https://api.openai.com/v1/chat/completions \"200 OK\" Headers({'date': 'Tue, 11 Feb 2025 13:17:44 GMT', 'content-type': 'application/json', 'transfer-encoding': 'chunked', 'connection': 'keep-alive', 'access-control-expose-headers': 'X-Request-ID', 'openai-organization': 'user-gccgvei9eaw4a1hksddpirf5', 'openai-processing-ms': '16271', 'openai-version': '2020-10-01', 'x-ratelimit-limit-requests': '500', 'x-ratelimit-limit-tokens': '30000', 'x-ratelimit-remaining-requests': '498', 'x-ratelimit-remaining-tokens': '28193', 'x-ratelimit-reset-requests': '186ms', 'x-ratelimit-reset-tokens': '3.612s', 'x-request-id': 'req_15eddc9a8e2ce631ca2d82d1782ccc61', 'strict-transport-security': 'max-age=31536000; includeSubDomains; preload', 'cf-cache-status': 'DYNAMIC', 'x-content-type-options': 'nosniff', 'server': 'cloudflare', 'cf-ray': '91049e8a3fb65957-DEL', 'content-encoding': 'gzip', 'alt-svc': 'h3=\":443\"; ma=86400'})\n",
      "2025-02-11 18:47:44,058 - openai._base_client - DEBUG - request_id: req_15eddc9a8e2ce631ca2d82d1782ccc61\n"
     ]
    }
   ],
   "source": [
    "raw_text, text_summaries, summary_metadata = text_summarizer.generate_summary(text_data)"
   ]
  },
  {
   "cell_type": "code",
   "execution_count": 16,
   "metadata": {},
   "outputs": [],
   "source": [
    "text_summaries = text_summarizer.add_metadata(raw_text, text_summaries, summary_metadata)"
   ]
  },
  {
   "cell_type": "code",
   "execution_count": 17,
   "metadata": {},
   "outputs": [
    {
     "name": "stderr",
     "output_type": "stream",
     "text": [
      "2025-02-11 18:47:54,336 - openai._base_client - DEBUG - Request options: {'method': 'post', 'url': '/embeddings', 'files': None, 'post_parser': <function Embeddings.create.<locals>.parser at 0x3298a4ca0>, 'json_data': {'input': [[791, 14751, 1516, 661, 22504, 50729, 1221, 13441, 92777, 3153, 6, 25605, 3197, 369, 279, 1828, 13515, 11, 3196, 389, 1510, 12032, 323, 3892, 32946, 13, 5422, 32946, 2997, 5707, 323, 6962, 3430, 41579, 11, 449, 5707, 7729, 6041, 520, 400, 1399, 16675, 9574, 369, 4410, 8421, 61748, 323, 400, 2397, 16675, 9574, 369, 47431, 11, 323, 264, 6962, 3430, 315, 400, 18, 13, 2075, 38460, 18066, 52, 369, 18063, 27636, 11, 682, 77157, 520, 220, 17, 13, 914, 4, 30171, 13, 578, 3197, 1101, 32238, 6625, 6962, 7729, 323, 5764, 12782, 13426, 304, 8515, 6530, 51165, 1405, 8581, 13, 578, 5224, 66159, 430, 1521, 527, 4741, 31348, 41579, 3917, 311, 2349, 11, 11054, 555, 3230, 57726, 11, 323, 527, 28160, 555, 5370, 9547, 1778, 439, 2853, 71389, 323, 12782, 10396, 13], [791, 1495, 50729, 279, 38088, 69867, 323, 15635, 5938, 449, 4741, 31348, 12518, 1903, 555, 264, 2883, 9002, 1202, 3938, 5178, 13, 4314, 12518, 527, 3196, 389, 6373, 596, 1695, 10082, 6787, 323, 32946, 439, 315, 5936, 220, 717, 11, 220, 2366, 18, 11, 719, 527, 539, 36755, 315, 3938, 20124, 13, 40741, 9547, 1436, 5353, 5150, 3135, 311, 1782, 90694, 505, 17078, 11, 2737, 65649, 304, 38983, 7729, 11, 87998, 26885, 320, 21470, 439, 279, 8524, 35681, 78836, 12324, 705, 23331, 4442, 11, 586, 2890, 58187, 11, 323, 25605, 11774, 13, 23212, 11, 4819, 1093, 53113, 17413, 11, 4442, 304, 5707, 323, 6962, 30600, 11, 11156, 27129, 11, 323, 6625, 6696, 30295, 1436, 5536, 279, 2883, 596, 5845, 311, 3449, 1202, 26470, 11, 2737, 4430, 2109, 75202, 323, 46980, 14507, 13, 578, 1495, 66159, 430, 6373, 31978, 8720, 288, 1521, 9547, 11, 902, 1253, 3063, 311, 5199, 86365, 505, 28448, 20124, 13], [791, 1495, 50729, 5370, 15635, 323, 69867, 430, 1436, 5536, 1221, 13441, 92777, 3153, 6, 2626, 7677, 323, 6020, 5178, 13, 4314, 2997, 4754, 58165, 505, 12434, 14640, 323, 39725, 11, 8104, 5552, 311, 872, 7901, 449, 1221, 971, 16607, 4953, 2637, 439, 1664, 439, 11774, 505, 10937, 323, 5064, 60732, 13, 578, 2883, 1101, 12580, 15635, 505, 7347, 2680, 311, 6864, 477, 8276, 11, 7100, 323, 5054, 4787, 11, 4442, 304, 7016, 11, 323, 98057, 505, 33788, 477, 87998, 4455, 13, 1221, 13441, 92777, 3153, 834, 49661, 904, 29672, 311, 2713, 4741, 31348, 12518, 7389, 26267, 2631, 11, 323, 904, 9013, 690, 387, 1903, 1555, 586, 75992, 13], [791, 15864, 505, 1221, 13441, 92777, 3153, 5764, 2536, 12279, 84016, 6020, 11193, 311, 28696, 36595, 315, 10565, 5178, 4028, 18852, 323, 449, 26081, 13, 41143, 2536, 12279, 84016, 11193, 527, 32545, 2230, 311, 27438, 2599, 11193, 11, 719, 4741, 31348, 2536, 12279, 84016, 11193, 4250, 387, 32545, 2230, 4245, 311, 69867, 922, 3938, 4455, 13, 578, 15864, 1101, 5764, 28930, 661, 8554, 369, 549, 815, 13, 15167, 9002, 279, 1005, 315, 3738, 3878, 539, 15480, 304, 22370, 68248, 13, 1221, 13441, 92777, 3153, 66159, 1202, 15507, 311, 24944, 16757, 4780, 323, 22020, 1202, 17226, 20136, 13, 578, 15864, 5764, 264, 9676, 315, 5707, 7729, 11, 19392, 264, 5209, 78790, 9293, 3430, 315, 927, 400, 1399, 824, 20929, 13], [1128, 13441, 92777, 3153, 374, 11411, 311, 32145, 264, 4272, 38029, 20748, 45715, 555, 220, 10866, 15, 323, 69741, 1202, 220, 9639, 15, 37647, 6962, 320, 45776, 38, 8, 20748, 21261, 14278, 2218, 13, 578, 2883, 66159, 264, 4780, 52373, 907, 41180, 1555, 264, 330, 83926, 24789, 349, 1, 430, 5398, 82, 449, 2626, 50446, 25, 6574, 7631, 11, 24944, 15022, 4780, 11, 323, 32145, 4272, 38029, 20748, 13, 5422, 30601, 2997, 80184, 5788, 11, 9974, 46980, 6650, 11, 20958, 459, 362, 55985, 8335, 11071, 11, 323, 70166, 22538, 311, 18885, 4780, 13, 4815, 3915, 220, 679, 21, 311, 220, 2366, 17, 11, 1221, 13441, 92777, 3153, 13241, 1202, 471, 389, 6864, 20011, 505, 220, 19, 4, 311, 220, 1544, 4, 323, 7319, 1202, 471, 315, 6864, 824, 4430, 505, 400, 16, 13, 806, 311, 400, 806, 13, 5958, 13, 578, 2883, 11293, 4272, 11897, 505, 400, 1187, 7239, 311, 400, 22, 7239, 323, 7319, 8515, 505, 7677, 12207, 13, 469, 5287, 21261, 25983, 505, 4056, 2137, 311, 4056, 1313, 21647, 7432, 17, 68, 14, 4782, 36, 13, 4815, 23274, 4741, 11, 1221, 13441, 92777, 3153, 706, 264, 29722, 220, 605, 4771, 3197, 320, 2366, 18, 12, 9639, 17, 8, 449, 264, 5357, 389, 14734, 69475, 471, 389, 6864, 20011, 320, 1308, 2152, 705, 1948, 41376, 458, 46980, 6650, 11, 323, 264, 1949, 8515, 6530, 5395, 731, 1055, 520, 4056, 3, 1758, 16675, 9574, 468, 27712, 13, 578, 3197, 5764, 50812, 927, 220, 1954, 4, 315, 3157, 2107, 323, 20958, 264, 70166, 5603, 311, 6864, 24691, 13], [791, 1495, 50729, 1221, 13441, 92777, 3153, 6, 19092, 5357, 389, 24944, 4780, 1555, 264, 70166, 6864, 24691, 12914, 323, 264, 17226, 20136, 13, 578, 2883, 7224, 264, 24549, 9974, 6650, 4478, 320, 34, 82256, 8, 315, 13489, 220, 21, 4, 369, 8515, 505, 7677, 320, 34, 3873, 8, 323, 220, 806, 4, 369, 1949, 8515, 6530, 320, 6897, 37, 8, 505, 220, 2366, 19, 311, 220, 9639, 17, 11, 26619, 264, 400, 1399, 824, 20929, 468, 27712, 5209, 78790, 9293, 3430, 13, 1221, 13441, 92777, 3153, 66159, 264, 15507, 311, 264, 70166, 15601, 94539, 4478, 11, 38178, 369, 264, 220, 1135, 4, 220, 605, 4771, 15601, 94539, 4478, 11, 902, 374, 89328, 369, 32145, 16757, 4780, 323, 22556, 94852, 6650, 13, 578, 8446, 5764, 77582, 264, 3428, 41238, 8312, 5211, 2385, 11, 264, 3831, 2361, 304, 73978, 5070, 11, 323, 264, 5357, 389, 4907, 9320, 28271, 1093, 18189, 48584, 38, 21261, 323, 24919, 3428, 24948, 6098, 2671, 13, 578, 2883, 33095, 264, 8335, 1990, 2875, 78790, 11, 19303, 73978, 12032, 323, 5129, 78790, 11, 3428, 6953, 89034, 21349, 12032, 11, 7396, 555, 264, 3925, 315, 4642, 20136, 6373, 13], [791, 2246, 5825, 459, 24131, 315, 1221, 13441, 92777, 3153, 6, 9341, 8446, 323, 2853, 315, 8312, 6492, 13, 1102, 22020, 279, 12939, 315, 279, 2853, 315, 8312, 439, 264, 51346, 18767, 369, 9341, 11429, 11, 82003, 264, 3428, 2853, 315, 8312, 439, 264, 15022, 9610, 13, 578, 2883, 22262, 369, 264, 24770, 11, 85957, 11, 323, 70166, 5788, 6650, 449, 264, 5357, 389, 264, 6651, 315, 2875, 78790, 73978, 323, 5129, 78790, 21349, 5070, 13, 578, 30199, 5788, 6651, 505, 220, 2366, 18, 311, 220, 9639, 17, 5764, 13489, 220, 2131, 4, 5707, 11, 220, 868, 4, 452, 3910, 11, 323, 220, 966, 4, 6962, 320, 21704, 4892, 3778, 323, 6625, 570, 1221, 13441, 92777, 3153, 38119, 264, 17226, 5788, 2385, 449, 264, 5199, 5211, 20136, 1234, 264, 400, 1272, 16675, 9574, 2853, 315, 8312, 11, 38178, 369, 459, 5578, 2853, 315, 8312, 315, 400, 843, 16675, 9574, 927, 264, 220, 605, 4771, 3197, 13, 578, 2246, 1101, 34945, 279, 2883, 596, 3831, 3839, 3335, 304, 4642, 20136, 6373, 13], [791, 1495, 323, 12920, 3493, 459, 24131, 315, 1221, 13441, 92777, 3153, 6, 19092, 28271, 323, 5178, 505, 220, 679, 21, 311, 220, 2366, 17, 11, 449, 41579, 709, 311, 220, 10866, 15, 13, 5422, 22020, 2997, 1473, 16, 13, 3146, 46067, 323, 6515, 53929, 96618, 578, 2883, 706, 18908, 264, 5788, 2237, 315, 13489, 220, 16, 13, 21, 311, 220, 16, 13, 22, 3610, 42975, 315, 5707, 13890, 824, 1938, 320, 8195, 4782, 1507, 8, 323, 706, 17045, 304, 5199, 63948, 323, 3512, 478, 42204, 82223, 2212, 400, 914, 7239, 2533, 220, 679, 21, 382, 17, 13, 3146, 4888, 9601, 323, 1398, 1220, 96618, 1221, 13441, 92777, 3153, 706, 11838, 1202, 5211, 2324, 311, 927, 220, 966, 1667, 323, 706, 52383, 3892, 13918, 11, 2737, 279, 549, 11606, 2637, 5960, 29604, 11, 323, 24922, 382, 18, 13, 3146, 36, 5287, 323, 11443, 315, 30909, 96618, 578, 2883, 706, 10968, 389, 18189, 1202, 20748, 21261, 11, 449, 264, 33269, 16430, 315, 220, 1313, 21647, 7432, 17, 68, 14, 4782, 36, 304, 220, 2366, 17, 11, 1523, 505, 220, 2137, 21647, 7432, 17, 68, 14, 4782, 36, 13, 1102, 22262, 311, 11322, 264, 220, 1135, 12, 1399, 4, 14278, 304, 48584, 38, 21261, 555, 220, 9639, 15, 323, 4272, 38029, 20748, 555, 220, 10866, 15, 382, 19, 13, 3146, 36, 5287, 59200, 56619, 96618, 32497, 5983, 2997, 18189, 61083, 10594, 287, 323, 1344, 3329, 11, 43906, 2461, 11, 26329, 11, 323, 19092, 36377, 13, 578, 2883, 11811, 7315, 14348, 1344, 3329, 555, 220, 2366, 20, 323, 264, 3221, 38029, 61083, 21261, 382, 20, 13, 3146, 43, 6269, 323, 12634, 38821, 96618, 1221, 13441, 92777, 3153, 22020, 279, 3560, 315, 88930, 304, 279, 4907, 9320, 11, 27401, 264, 6541, 304, 279, 549, 815, 13, 9249, 2410, 10706, 505, 11756, 311, 5933, 6962, 11, 29820, 311, 20748, 47311, 382, 28589, 11, 1221, 13441, 92777, 3153, 374, 11411, 311, 70166, 14463, 11, 20748, 14278, 11, 323, 12899, 279, 4907, 9320, 1555, 19092, 28271, 323, 22538, 13], [791, 1495, 323, 12920, 3493, 26793, 1139, 279, 5536, 315, 549, 815, 13, 88930, 320, 37526, 69, 1142, 5933, 6962, 8, 389, 12782, 21261, 323, 1221, 13441, 92777, 3153, 6, 220, 605, 4771, 6020, 323, 5788, 36721, 13, 15958, 287, 505, 13018, 11756, 311, 25973, 88930, 649, 8108, 48608, 37647, 6962, 20748, 555, 927, 220, 1272, 14697, 578, 36721, 369, 88930, 5039, 5199, 6650, 11, 449, 927, 220, 3101, 3610, 52021, 824, 87757, 320, 44, 4334, 32, 8, 3685, 555, 220, 10866, 15, 11, 7396, 555, 25605, 323, 1234, 15204, 3099, 7224, 382, 1128, 13441, 92777, 3153, 6, 220, 605, 4771, 3197, 66159, 27220, 11, 4780, 52373, 907, 11, 449, 264, 6864, 45426, 315, 13489, 400, 806, 7239, 304, 220, 2366, 18, 13, 578, 2883, 7224, 264, 24549, 9974, 6650, 4478, 320, 34, 82256, 8, 315, 220, 3391, 4, 304, 5788, 11, 19261, 2212, 220, 17, 11, 931, 386, 4782, 1507, 320, 339, 52949, 42975, 315, 5707, 13890, 824, 1938, 8, 555, 220, 2366, 23, 13, 578, 3197, 16961, 988, 24038, 927, 400, 7322, 7239, 304, 1949, 8515, 6530, 320, 6897, 37, 8, 927, 279, 1828, 13515, 520, 264, 400, 1399, 824, 20929, 468, 27712, 320, 24188, 8421, 61748, 8, 3430, 11, 449, 264, 5395, 731, 1055, 1486, 520, 13489, 400, 1758, 824, 20929, 13]], 'model': 'text-embedding-ada-002', 'encoding_format': 'base64'}}\n",
      "2025-02-11 18:47:54,338 - openai._base_client - DEBUG - Sending HTTP Request: POST https://api.openai.com/v1/embeddings\n",
      "2025-02-11 18:47:54,339 - httpcore.connection - DEBUG - connect_tcp.started host='api.openai.com' port=443 local_address=None timeout=None socket_options=None\n",
      "2025-02-11 18:47:54,357 - httpcore.connection - DEBUG - connect_tcp.complete return_value=<httpcore._backends.sync.SyncStream object at 0x35bab61f0>\n",
      "2025-02-11 18:47:54,357 - httpcore.connection - DEBUG - start_tls.started ssl_context=<ssl.SSLContext object at 0x32d932ec0> server_hostname='api.openai.com' timeout=None\n",
      "2025-02-11 18:47:54,378 - httpcore.connection - DEBUG - start_tls.complete return_value=<httpcore._backends.sync.SyncStream object at 0x35bab6940>\n",
      "2025-02-11 18:47:54,379 - httpcore.http11 - DEBUG - send_request_headers.started request=<Request [b'POST']>\n",
      "2025-02-11 18:47:54,380 - httpcore.http11 - DEBUG - send_request_headers.complete\n",
      "2025-02-11 18:47:54,381 - httpcore.http11 - DEBUG - send_request_body.started request=<Request [b'POST']>\n",
      "2025-02-11 18:47:54,381 - httpcore.http11 - DEBUG - send_request_body.complete\n",
      "2025-02-11 18:47:54,381 - httpcore.http11 - DEBUG - receive_response_headers.started request=<Request [b'POST']>\n",
      "2025-02-11 18:47:55,214 - httpcore.http11 - DEBUG - receive_response_headers.complete return_value=(b'HTTP/1.1', 200, b'OK', [(b'Date', b'Tue, 11 Feb 2025 13:17:55 GMT'), (b'Content-Type', b'application/json'), (b'Transfer-Encoding', b'chunked'), (b'Connection', b'keep-alive'), (b'access-control-allow-origin', b'*'), (b'access-control-expose-headers', b'X-Request-ID'), (b'openai-model', b'text-embedding-ada-002-v2'), (b'openai-organization', b'user-gccgvei9eaw4a1hksddpirf5'), (b'openai-processing-ms', b'95'), (b'openai-version', b'2020-10-01'), (b'strict-transport-security', b'max-age=31536000; includeSubDomains; preload'), (b'via', b'envoy-router-5df4bd4c8-cmc6x'), (b'x-envoy-upstream-service-time', b'57'), (b'x-ratelimit-limit-requests', b'3000'), (b'x-ratelimit-limit-tokens', b'1000000'), (b'x-ratelimit-remaining-requests', b'2999'), (b'x-ratelimit-remaining-tokens', b'998322'), (b'x-ratelimit-reset-requests', b'20ms'), (b'x-ratelimit-reset-tokens', b'100ms'), (b'x-request-id', b'req_f4d7a540bd94ad004f7d4a0b48f1138f'), (b'CF-Cache-Status', b'DYNAMIC'), (b'Set-Cookie', b'__cf_bm=GAlKGqQMTrQg0Z2oA.VU10YbmhQ_AbbemtMVQPbyAwA-1739279875-1.0.1.1-Scl8b.Uv9yQko5dMJQkQt2qvA6GQvGNlQDRMW48TZ38Q3v9OX7ogIvBxOi2s6rxZnB8nfhJCVwXg14INbeU_QA; path=/; expires=Tue, 11-Feb-25 13:47:55 GMT; domain=.api.openai.com; HttpOnly; Secure; SameSite=None'), (b'X-Content-Type-Options', b'nosniff'), (b'Set-Cookie', b'_cfuvid=w7z91vppYT4Uv1qutoIVCGHCGQ2U4cXGJM_V_tVbwRs-1739279875845-0.0.1.1-604800000; path=/; domain=.api.openai.com; HttpOnly; Secure; SameSite=None'), (b'Server', b'cloudflare'), (b'CF-RAY', b'91049f335a6e91dc-DEL'), (b'Content-Encoding', b'gzip'), (b'alt-svc', b'h3=\":443\"; ma=86400')])\n",
      "2025-02-11 18:47:55,215 - httpx - INFO - HTTP Request: POST https://api.openai.com/v1/embeddings \"HTTP/1.1 200 OK\"\n",
      "2025-02-11 18:47:55,216 - httpcore.http11 - DEBUG - receive_response_body.started request=<Request [b'POST']>\n",
      "2025-02-11 18:47:55,717 - httpcore.http11 - DEBUG - receive_response_body.complete\n",
      "2025-02-11 18:47:55,719 - httpcore.http11 - DEBUG - response_closed.started\n",
      "2025-02-11 18:47:55,721 - httpcore.http11 - DEBUG - response_closed.complete\n",
      "2025-02-11 18:47:55,722 - openai._base_client - DEBUG - HTTP Response: POST https://api.openai.com/v1/embeddings \"200 OK\" Headers([('date', 'Tue, 11 Feb 2025 13:17:55 GMT'), ('content-type', 'application/json'), ('transfer-encoding', 'chunked'), ('connection', 'keep-alive'), ('access-control-allow-origin', '*'), ('access-control-expose-headers', 'X-Request-ID'), ('openai-model', 'text-embedding-ada-002-v2'), ('openai-organization', 'user-gccgvei9eaw4a1hksddpirf5'), ('openai-processing-ms', '95'), ('openai-version', '2020-10-01'), ('strict-transport-security', 'max-age=31536000; includeSubDomains; preload'), ('via', 'envoy-router-5df4bd4c8-cmc6x'), ('x-envoy-upstream-service-time', '57'), ('x-ratelimit-limit-requests', '3000'), ('x-ratelimit-limit-tokens', '1000000'), ('x-ratelimit-remaining-requests', '2999'), ('x-ratelimit-remaining-tokens', '998322'), ('x-ratelimit-reset-requests', '20ms'), ('x-ratelimit-reset-tokens', '100ms'), ('x-request-id', 'req_f4d7a540bd94ad004f7d4a0b48f1138f'), ('cf-cache-status', 'DYNAMIC'), ('set-cookie', '__cf_bm=GAlKGqQMTrQg0Z2oA.VU10YbmhQ_AbbemtMVQPbyAwA-1739279875-1.0.1.1-Scl8b.Uv9yQko5dMJQkQt2qvA6GQvGNlQDRMW48TZ38Q3v9OX7ogIvBxOi2s6rxZnB8nfhJCVwXg14INbeU_QA; path=/; expires=Tue, 11-Feb-25 13:47:55 GMT; domain=.api.openai.com; HttpOnly; Secure; SameSite=None'), ('x-content-type-options', 'nosniff'), ('set-cookie', '_cfuvid=w7z91vppYT4Uv1qutoIVCGHCGQ2U4cXGJM_V_tVbwRs-1739279875845-0.0.1.1-604800000; path=/; domain=.api.openai.com; HttpOnly; Secure; SameSite=None'), ('server', 'cloudflare'), ('cf-ray', '91049f335a6e91dc-DEL'), ('content-encoding', 'gzip'), ('alt-svc', 'h3=\":443\"; ma=86400')])\n",
      "2025-02-11 18:47:55,723 - openai._base_client - DEBUG - request_id: req_f4d7a540bd94ad004f7d4a0b48f1138f\n",
      "2025-02-11 18:47:55,751 - chromadb.config - DEBUG - Starting component PersistentLocalHnswSegment\n"
     ]
    }
   ],
   "source": [
    "vector_database.store_to_vb(text_summaries, retriever)"
   ]
  },
  {
   "cell_type": "markdown",
   "metadata": {},
   "source": [
    "# Store Image data"
   ]
  },
  {
   "cell_type": "code",
   "execution_count": 18,
   "metadata": {},
   "outputs": [
    {
     "name": "stderr",
     "output_type": "stream",
     "text": [
      "2025-02-11 18:48:01,978 - openai._base_client - DEBUG - Request options: {'method': 'post', 'url': '/embeddings', 'files': None, 'post_parser': <function Embeddings.create.<locals>.parser at 0x35ba74ee0>, 'json_data': {'input': [[791, 2217, 17610, 315, 1403, 1584, 40099, 27393, 18200, 9659, 8336, 323, 7432, 32907, 20748, 505, 220, 1049, 16, 311, 220, 2366, 16, 382, 334, 5530, 12441, 25, 74456, 24367, 12037, 1035, 12, 3146, 56, 6830, 7339, 68063, 64341, 4430, 315, 18200, 9659, 320, 15, 4, 311, 220, 1399, 4, 4390, 12, 3146, 55, 6830, 7339, 68063, 23116, 505, 220, 1049, 16, 311, 220, 2366, 16, 627, 12, 3146, 96773, 320, 14755, 7228, 1680, 334, 720, 220, 482, 48828, 520, 220, 3971, 4, 304, 220, 1049, 16, 627, 220, 482, 65201, 2315, 311, 220, 508, 4, 555, 220, 2366, 16, 627, 12, 3146, 59828, 320, 10544, 7228, 1680, 1035, 220, 482, 48828, 520, 220, 1114, 4, 304, 220, 1049, 16, 627, 220, 482, 68148, 311, 220, 1272, 4, 555, 220, 2366, 16, 382, 334, 6107, 12441, 25, 7432, 32907, 469, 5287, 1035, 12, 3146, 56, 6830, 7339, 68063, 7432, 32907, 20748, 304, 3610, 18767, 20181, 320, 16, 11, 931, 311, 220, 17, 11, 2636, 4390, 12, 3146, 55, 6830, 7339, 68063, 23116, 505, 220, 1049, 16, 311, 220, 2366, 16, 627, 12, 578, 4876, 5039, 264, 45578, 9327, 11, 19392, 264, 14278, 315, 927, 220, 966, 4, 304, 7432, 32907, 20748, 927, 279, 4261, 13], [791, 2217, 374, 264, 3703, 9676, 9204, 28448, 5788, 6650, 927, 2380, 892, 18852, 13, 578, 379, 36421, 11105, 5788, 5990, 11, 24950, 505, 220, 15, 311, 220, 17, 11, 2636, 13, 4815, 12, 578, 1176, 3703, 11, 30929, 330, 2366, 18, 36, 1359, 374, 3177, 6437, 323, 25501, 13489, 220, 16, 11, 2636, 627, 12, 578, 2132, 3703, 11, 30929, 330, 2366, 19, 12, 2366, 23, 24478, 1359, 374, 264, 40130, 6437, 323, 25501, 2212, 220, 17, 11, 931, 627, 12, 578, 4948, 3703, 11, 30929, 330, 2366, 24, 12, 9639, 17, 24478, 1359, 374, 1101, 6453, 6437, 323, 25501, 922, 220, 17, 11, 2636, 382, 59907, 279, 16283, 11, 433, 5415, 264, 220, 605, 71998, 25003, 356, 82256, 320, 44234, 25992, 34871, 20359, 8, 315, 13489, 220, 19, 12, 20, 14697], [791, 2217, 374, 264, 3703, 9676, 449, 2380, 12414, 16283, 14393, 2204, 892, 18852, 323, 5707, 3430, 26350, 13, 5810, 596, 264, 11944, 4096, 1473, 16, 13, 3146, 2366, 18, 36, 334, 512, 256, 482, 578, 3703, 374, 264, 6573, 3177, 6437, 1933, 627, 256, 482, 1102, 25501, 264, 907, 315, 13489, 220, 20, 389, 279, 12414, 8183, 382, 17, 13, 3146, 2366, 19, 12, 2366, 23, 24478, 334, 512, 256, 482, 578, 3703, 374, 18255, 1139, 1403, 14491, 627, 256, 482, 578, 4827, 3857, 374, 264, 6573, 6453, 6437, 11, 14393, 264, 400, 1399, 16675, 9574, 468, 27712, 5209, 78790, 9293, 3430, 627, 256, 482, 578, 8582, 3857, 374, 264, 20779, 505, 6453, 6437, 311, 3177, 6437, 11, 19392, 459, 36941, 27541, 520, 400, 1490, 16675, 9574, 468, 27712, 627, 256, 482, 578, 2860, 2673, 315, 279, 3703, 374, 10284, 3485, 220, 20, 389, 279, 12414, 8183, 382, 18, 13, 3146, 2366, 24, 12, 9639, 17, 24478, 334, 512, 256, 482, 578, 3703, 374, 264, 6573, 6453, 6437, 1933, 627, 256, 482, 1102, 11105, 264, 400, 1399, 16675, 9574, 468, 27712, 5209, 78790, 9293, 3430, 627, 256, 482, 578, 2673, 315, 279, 3703, 374, 10284, 3485, 220, 20, 389, 279, 12414, 8183, 382, 791, 12414, 8183, 374, 30929, 449, 5219, 24950, 505, 220, 15, 311, 220, 20, 11, 719, 279, 3230, 5089, 315, 19179, 374, 539, 3984, 13, 578, 9676, 46480, 2204, 5707, 3430, 26350, 927, 279, 5300, 892, 18852, 13], [791, 2217, 5039, 264, 2579, 8278, 6211, 389, 264, 4251, 4092, 13, 578, 6211, 53291, 264, 49304, 1534, 11, 50264, 22217, 449, 264, 1317, 11, 15376, 9986, 33459, 505, 832, 9309, 13, 2684, 527, 912, 40099, 11, 5219, 11, 477, 5217, 3649, 3118, 304, 279, 2217, 13], [791, 2217, 374, 18255, 1139, 1403, 1925, 14491, 25, 264, 25845, 323, 264, 743, 315, 17150, 382, 14711, 50628, 320, 9577, 997, 12, 3146, 679, 22, 96618, 5960, 29604, 19532, 323, 7008, 356, 268, 869, 355, 18351, 627, 12, 3146, 679, 23, 96618, 468, 2507, 323, 480, 27542, 22938, 25074, 79980, 811, 627, 12, 3146, 679, 24, 96618, 549, 11606, 13, 19532, 627, 12, 3146, 2366, 15, 96618, 9995, 3520, 362, 846, 425, 73471, 627, 12, 3146, 2366, 16, 96618, 22652, 677, 81, 5169, 323, 8494, 61861, 1398, 1220, 627, 12, 3146, 2366, 17, 96618, 1221, 971, 323, 30502, 91821, 1122, 6515, 53929, 11, 362, 2989, 6269, 73471, 11, 323, 24922, 19532, 382, 14711, 55290, 320, 5530, 323, 10291, 54673, 997, 12, 3146, 46067, 334, 512, 220, 482, 220, 679, 22, 25, 220, 16, 13, 21, 22403, 4782, 1507, 198, 220, 482, 220, 2366, 17, 25, 220, 16, 13, 22, 22403, 4782, 1507, 271, 12, 3146, 4888, 334, 512, 220, 482, 220, 679, 22, 25, 4056, 605, 426, 4782, 36, 520, 40255, 1272, 16675, 9574, 468, 27712, 198, 220, 482, 220, 2366, 17, 25, 4056, 508, 426, 4782, 36, 271, 12, 3146, 27388, 11443, 315, 30909, 334, 512, 220, 482, 220, 679, 22, 25, 40255, 1272, 16675, 9574, 468, 27712, 198, 220, 482, 220, 2366, 17, 25, 4056, 3, 843, 16675, 9574, 468, 27712, 271, 12, 3146, 4888, 9601, 334, 512, 220, 482, 220, 679, 22, 25, 871, 972, 1667, 198, 220, 482, 220, 2366, 17, 25, 871, 966, 1667, 271, 12, 3146, 36, 5287, 1357, 8127, 334, 512, 220, 482, 220, 679, 22, 25, 4056, 2137, 21647, 7432, 17, 68, 14, 4782, 36, 198, 220, 482, 220, 2366, 17, 25, 4056, 1313, 21647, 7432, 17, 68, 14, 4782, 36, 271, 791, 25845, 22020, 1401, 2626, 14463, 323, 43186, 11, 1418, 279, 17150, 1501, 18637, 304, 5788, 11, 5211, 1404, 11, 2853, 15374, 11, 5211, 2324, 11, 323, 20748, 21261, 927, 279, 1667, 13], [791, 2217, 374, 264, 3703, 9676, 449, 2380, 12414, 16283, 11, 1855, 14393, 2204, 892, 18852, 13, 4815, 16, 13, 3146, 2366, 18, 36, 96618, 578, 1176, 3703, 374, 3177, 6437, 323, 25501, 264, 907, 315, 220, 24, 389, 279, 12414, 8183, 382, 17, 13, 3146, 2366, 19, 12, 2366, 23, 24478, 96618, 578, 2132, 3703, 374, 6453, 6437, 449, 264, 20779, 520, 279, 1948, 11, 1101, 19261, 264, 907, 315, 220, 24, 382, 18, 13, 3146, 2366, 24, 12, 9639, 17, 24478, 96618, 578, 4948, 3703, 374, 4528, 311, 279, 2132, 11, 6453, 6437, 449, 264, 20779, 11, 323, 1101, 25501, 264, 907, 315, 220, 24, 382, 791, 12414, 8183, 374, 30929, 449, 2819, 220, 15, 11, 220, 18, 11, 220, 21, 11, 323, 220, 24, 13, 578, 16600, 8183, 9382, 279, 892, 18852, 1234, 1855, 3703, 13], [791, 2217, 374, 264, 4876, 9204, 28448, 47311, 304, 37647, 6962, 320, 45776, 38, 8, 21261, 927, 892, 11, 449, 3230, 11811, 369, 220, 9639, 15, 323, 220, 10866, 15, 13, 4815, 14711, 12441, 12589, 512, 12, 3146, 1489, 6906, 96618, 578, 865, 36421, 45395, 505, 220, 679, 21, 311, 220, 10866, 15, 11, 449, 1401, 3585, 520, 220, 2366, 17, 36, 11, 220, 9639, 15, 11, 323, 220, 10866, 15, 627, 12, 3146, 31677, 96618, 720, 220, 482, 3146, 10544, 57206, 96618, 22717, 330, 38, 2177, 7613, 660, 1, 20748, 627, 220, 482, 3146, 29274, 57206, 96618, 22717, 330, 7099, 58588, 1, 20748, 627, 12, 3146, 6161, 2720, 86047, 334, 512, 220, 482, 3296, 220, 9639, 15, 11, 1070, 374, 264, 2218, 311, 8108, 48584, 38, 21261, 555, 220, 1135, 4, 311, 220, 1399, 4, 627, 220, 482, 578, 4876, 5039, 264, 92866, 3158, 19392, 279, 14278, 1853, 505, 220, 2366, 17, 36, 311, 220, 9639, 15, 382, 14711, 2991, 12589, 512, 12, 3146, 53062, 9469, 4289, 320, 2366, 20, 33395, 512, 220, 482, 41047, 25, 18811, 14348, 1344, 3329, 555, 220, 2366, 20, 627, 12, 3146, 42094, 9469, 4289, 320, 9639, 15, 33395, 512, 220, 482, 1561, 2218, 25, 53253, 48584, 38, 21261, 555, 220, 1135, 12, 1399, 4, 320, 12030, 505, 264, 3766, 2218, 315, 220, 1272, 12, 1135, 4, 4390, 220, 482, 31494, 38029, 61083, 21261, 2218, 315, 2753, 1109, 220, 16, 13, 20, 21647, 7432, 32907, 68, 14, 4782, 36, 627, 12, 3146, 6720, 9469, 4289, 320, 10866, 15, 33395, 512, 220, 482, 20423, 684, 369, 4272, 38029, 20748, 382, 791, 4876, 43395, 11105, 279, 15507, 311, 18189, 20748, 927, 892, 11, 449, 3230, 69376, 323, 6177, 11811, 13], [791, 2217, 374, 264, 2007, 27393, 6020, 323, 25605, 17150, 369, 279, 1667, 220, 679, 21, 11, 220, 679, 24, 11, 323, 220, 2366, 17, 11, 449, 89328, 16565, 27463, 389, 279, 1314, 13, 5810, 596, 264, 11944, 31085, 1473, 14711, 55290, 555, 9941, 271, 12, 3146, 5715, 389, 18880, 21445, 291, 25, 1035, 220, 482, 220, 679, 21, 25, 482, 19, 14062, 220, 482, 220, 679, 24, 25, 220, 605, 14062, 220, 482, 220, 2366, 17, 25, 220, 1544, 15804, 12, 3146, 5715, 315, 18880, 25, 1035, 220, 482, 220, 679, 21, 25, 400, 16, 13, 806, 35014, 198, 220, 482, 220, 679, 24, 25, 400, 19, 13, 1774, 35014, 198, 220, 482, 220, 2366, 17, 25, 400, 806, 13, 5958, 35014, 271, 12, 3146, 7099, 58654, 25, 1035, 220, 482, 220, 679, 21, 25, 400, 1187, 33, 198, 220, 482, 220, 679, 24, 25, 400, 22, 33, 198, 220, 482, 220, 2366, 17, 25, 400, 22, 33, 271, 12, 3146, 48541, 5659, 25927, 765, 3658, 23139, 23260, 25, 1035, 220, 482, 220, 679, 21, 25, 400, 20, 33, 765, 400, 15, 33, 198, 220, 482, 220, 679, 24, 25, 400, 717, 33, 765, 400, 20, 33, 198, 220, 482, 220, 2366, 17, 25, 400, 1682, 33, 765, 400, 972, 33, 271, 12, 3146, 4888, 40255, 1272, 16675, 9574, 468, 27712, 25, 1035, 220, 482, 220, 679, 21, 25, 4056, 605, 426, 4782, 36, 198, 220, 482, 220, 679, 24, 25, 4056, 868, 426, 4782, 36, 198, 220, 482, 220, 2366, 17, 25, 4056, 508, 426, 4782, 36, 271, 12, 3146, 46067, 25, 1035, 220, 482, 220, 679, 21, 25, 220, 16, 13, 21, 22403, 4782, 1507, 198, 220, 482, 220, 679, 24, 25, 220, 16, 13, 18, 22403, 4782, 1507, 198, 220, 482, 220, 2366, 17, 25, 220, 16, 13, 22, 22403, 4782, 1507, 271, 12, 3146, 36, 5287, 1357, 8127, 320, 7501, 7432, 32907, 68, 14, 4782, 36, 1680, 1035, 220, 482, 220, 679, 21, 25, 4056, 2137, 198, 220, 482, 220, 679, 24, 25, 4056, 1927, 198, 220, 482, 220, 2366, 17, 25, 4056, 1313, 271, 14711, 12595, 1697, 58014, 271, 12, 3146, 31988, 47268, 2277, 423, 18478, 323, 5295, 1035, 12, 3146, 21880, 28841, 32937, 1035, 12, 3146, 24374, 10567, 1619, 77990, 1035, 12, 3146, 1600, 38, 58240, 57277, 4959, 1060, 374, 5938, 449, 264, 2204, 468, 27712, 3430, 25, 400, 3391, 16675, 9574, 304, 220, 679, 21, 11, 400, 3226, 16675, 9574, 304, 220, 679, 24, 11, 323, 400, 6281, 16675, 9574, 304, 220, 2366, 17, 13, 578, 2007, 5039, 18637, 304, 6020, 5178, 323, 25605, 15374, 927, 279, 1667, 11, 449, 264, 5357, 389, 41329, 323, 70166, 22538, 13], [791, 2217, 374, 264, 4876, 60794, 279, 8312, 315, 264, 5211, 17303, 304, 3610, 52021, 824, 87757, 320, 44, 4334, 32, 8, 505, 220, 2366, 17, 311, 220, 10866, 15, 13, 578, 379, 36421, 11105, 279, 386, 4334, 32, 11, 24950, 505, 220, 15, 311, 220, 5067, 11, 1418, 279, 865, 36421, 45395, 279, 1667, 220, 2366, 17, 311, 220, 10866, 15, 382, 791, 4876, 374, 18255, 1139, 1403, 92866, 5789, 1473, 16, 13, 3146, 26915, 8868, 12299, 320, 5611, 1697, 1680, 334, 1115, 3857, 11105, 279, 25605, 8312, 13, 1102, 8638, 520, 2212, 220, 3443, 386, 4334, 32, 304, 220, 2366, 17, 323, 8625, 12309, 15528, 6957, 279, 25845, 382, 17, 13, 3146, 14235, 8868, 12299, 320, 16648, 24987, 1680, 334, 1115, 3857, 15151, 279, 8312, 430, 374, 1234, 8246, 13, 1102, 12302, 1120, 3485, 279, 25605, 8312, 304, 220, 2366, 17, 323, 27115, 43154, 927, 892, 11, 55035, 287, 1022, 555, 220, 10866, 15, 382, 59907, 1521, 5789, 11, 264, 3776, 1584, 11105, 279, 2860, 8312, 7631, 11, 902, 12992, 43071, 927, 279, 1667, 11, 53120, 287, 220, 5067, 386, 4334, 32, 555, 220, 10866, 15, 13, 578, 4876, 15151, 264, 8312, 13225, 315, 927, 220, 3101, 386, 4334, 32, 555, 220, 10866, 15, 11, 439, 10555, 555, 279, 1495, 30057, 3101, 386, 4334, 32, 30909, 59015, 555, 220, 10866, 15, 1, 3221, 279, 1948, 1314, 315, 279, 4876, 13], [791, 2217, 374, 264, 3703, 4876, 27393, 279, 12782, 40589, 13890, 20748, 320, 42, 70, 7432, 17, 68, 8, 824, 19262, 675, 1617, 21925, 320, 44, 1671, 8, 369, 1403, 4907, 8336, 304, 10057, 13, 4815, 12, 578, 379, 36421, 11105, 279, 20748, 304, 87822, 7432, 17, 68, 824, 386, 1671, 11, 24950, 505, 220, 15, 311, 220, 16, 11, 1049, 627, 12, 578, 865, 36421, 11725, 1403, 11306, 25, 330, 51270, 11, 52849, 25850, 1, 323, 330, 51270, 11, 549, 815, 13, 91821, 1122, 88930, 2266, 791, 3703, 369, 330, 51270, 11, 52849, 25850, 1, 374, 51009, 11, 19261, 13489, 220, 16, 11, 1049, 87822, 7432, 17, 68, 824, 386, 1671, 13, 4815, 791, 3703, 369, 330, 51270, 11, 549, 815, 13, 91821, 1122, 88930, 1, 374, 24210, 11, 19261, 2212, 220, 5067, 87822, 7432, 17, 68, 824, 386, 1671, 382, 32, 6437, 18404, 3585, 45578, 505, 279, 330, 51270, 11, 52849, 25850, 1, 3703, 311, 279, 330, 51270, 11, 549, 815, 13, 91821, 1122, 88930, 1, 3703, 11, 19392, 264, 14278, 304, 20748, 994, 1701, 549, 815, 13, 91821, 1122, 88930, 7863, 311, 13018, 11756, 13]], 'model': 'text-embedding-ada-002', 'encoding_format': 'base64'}}\n"
     ]
    },
    {
     "name": "stderr",
     "output_type": "stream",
     "text": [
      "2025-02-11 18:48:01,981 - openai._base_client - DEBUG - Sending HTTP Request: POST https://api.openai.com/v1/embeddings\n",
      "2025-02-11 18:48:01,983 - httpcore.connection - DEBUG - close.started\n",
      "2025-02-11 18:48:01,984 - httpcore.connection - DEBUG - close.complete\n",
      "2025-02-11 18:48:01,984 - httpcore.connection - DEBUG - connect_tcp.started host='api.openai.com' port=443 local_address=None timeout=None socket_options=None\n",
      "2025-02-11 18:48:01,997 - httpcore.connection - DEBUG - connect_tcp.complete return_value=<httpcore._backends.sync.SyncStream object at 0x35ba69760>\n",
      "2025-02-11 18:48:01,998 - httpcore.connection - DEBUG - start_tls.started ssl_context=<ssl.SSLContext object at 0x32d932ec0> server_hostname='api.openai.com' timeout=None\n",
      "2025-02-11 18:48:02,015 - httpcore.connection - DEBUG - start_tls.complete return_value=<httpcore._backends.sync.SyncStream object at 0x35b982910>\n",
      "2025-02-11 18:48:02,015 - httpcore.http11 - DEBUG - send_request_headers.started request=<Request [b'POST']>\n",
      "2025-02-11 18:48:02,016 - httpcore.http11 - DEBUG - send_request_headers.complete\n",
      "2025-02-11 18:48:02,016 - httpcore.http11 - DEBUG - send_request_body.started request=<Request [b'POST']>\n",
      "2025-02-11 18:48:02,017 - httpcore.http11 - DEBUG - send_request_body.complete\n",
      "2025-02-11 18:48:02,017 - httpcore.http11 - DEBUG - receive_response_headers.started request=<Request [b'POST']>\n",
      "2025-02-11 18:48:02,825 - httpcore.http11 - DEBUG - receive_response_headers.complete return_value=(b'HTTP/1.1', 200, b'OK', [(b'Date', b'Tue, 11 Feb 2025 13:18:03 GMT'), (b'Content-Type', b'application/json'), (b'Transfer-Encoding', b'chunked'), (b'Connection', b'keep-alive'), (b'access-control-allow-origin', b'*'), (b'access-control-expose-headers', b'X-Request-ID'), (b'openai-model', b'text-embedding-ada-002-v2'), (b'openai-organization', b'user-gccgvei9eaw4a1hksddpirf5'), (b'openai-processing-ms', b'233'), (b'openai-version', b'2020-10-01'), (b'strict-transport-security', b'max-age=31536000; includeSubDomains; preload'), (b'via', b'envoy-router-cd8f6755b-hkj2c'), (b'x-envoy-upstream-service-time', b'115'), (b'x-ratelimit-limit-requests', b'3000'), (b'x-ratelimit-limit-tokens', b'1000000'), (b'x-ratelimit-remaining-requests', b'2999'), (b'x-ratelimit-remaining-tokens', b'997759'), (b'x-ratelimit-reset-requests', b'20ms'), (b'x-ratelimit-reset-tokens', b'134ms'), (b'x-request-id', b'req_2d3aaa72d432ea504b4909a642110e1c'), (b'cf-cache-status', b'DYNAMIC'), (b'X-Content-Type-Options', b'nosniff'), (b'Server', b'cloudflare'), (b'CF-RAY', b'91049f630bf954cc-DEL'), (b'Content-Encoding', b'gzip'), (b'alt-svc', b'h3=\":443\"; ma=86400')])\n",
      "2025-02-11 18:48:02,826 - httpx - INFO - HTTP Request: POST https://api.openai.com/v1/embeddings \"HTTP/1.1 200 OK\"\n",
      "2025-02-11 18:48:02,827 - httpcore.http11 - DEBUG - receive_response_body.started request=<Request [b'POST']>\n",
      "2025-02-11 18:48:03,422 - httpcore.http11 - DEBUG - receive_response_body.complete\n",
      "2025-02-11 18:48:03,424 - httpcore.http11 - DEBUG - response_closed.started\n",
      "2025-02-11 18:48:03,425 - httpcore.http11 - DEBUG - response_closed.complete\n",
      "2025-02-11 18:48:03,426 - openai._base_client - DEBUG - HTTP Response: POST https://api.openai.com/v1/embeddings \"200 OK\" Headers({'date': 'Tue, 11 Feb 2025 13:18:03 GMT', 'content-type': 'application/json', 'transfer-encoding': 'chunked', 'connection': 'keep-alive', 'access-control-allow-origin': '*', 'access-control-expose-headers': 'X-Request-ID', 'openai-model': 'text-embedding-ada-002-v2', 'openai-organization': 'user-gccgvei9eaw4a1hksddpirf5', 'openai-processing-ms': '233', 'openai-version': '2020-10-01', 'strict-transport-security': 'max-age=31536000; includeSubDomains; preload', 'via': 'envoy-router-cd8f6755b-hkj2c', 'x-envoy-upstream-service-time': '115', 'x-ratelimit-limit-requests': '3000', 'x-ratelimit-limit-tokens': '1000000', 'x-ratelimit-remaining-requests': '2999', 'x-ratelimit-remaining-tokens': '997759', 'x-ratelimit-reset-requests': '20ms', 'x-ratelimit-reset-tokens': '134ms', 'x-request-id': 'req_2d3aaa72d432ea504b4909a642110e1c', 'cf-cache-status': 'DYNAMIC', 'x-content-type-options': 'nosniff', 'server': 'cloudflare', 'cf-ray': '91049f630bf954cc-DEL', 'content-encoding': 'gzip', 'alt-svc': 'h3=\":443\"; ma=86400'})\n",
      "2025-02-11 18:48:03,427 - openai._base_client - DEBUG - request_id: req_2d3aaa72d432ea504b4909a642110e1c\n"
     ]
    }
   ],
   "source": [
    "vector_database.store_to_vb(image_summaries, retriever)"
   ]
  },
  {
   "cell_type": "code",
   "execution_count": 9,
   "metadata": {},
   "outputs": [],
   "source": [
    "from backend.src.storage.chroma_storage import VectorDatabase\n",
    "from backend.src.config.configuration import ConfigurationManager\n",
    "from backend.src.llm_models import get_openai_embeddings"
   ]
  },
  {
   "cell_type": "code",
   "execution_count": 10,
   "metadata": {},
   "outputs": [
    {
     "name": "stderr",
     "output_type": "stream",
     "text": [
      "2025-02-16 22:30:52,283 - chromadb.telemetry.product.posthog - INFO - Anonymized telemetry enabled. See                     https://docs.trychroma.com/telemetry for more information.\n"
     ]
    },
    {
     "name": "stdout",
     "output_type": "stream",
     "text": [
      "VectorDatabaseConfig(vectorstore_name='test7', persist_directory='vector_database/vc')\n"
     ]
    },
    {
     "name": "stderr",
     "output_type": "stream",
     "text": [
      "2025-02-16 22:30:52,471 - chromadb.config - DEBUG - Starting component System\n",
      "2025-02-16 22:30:52,471 - chromadb.config - DEBUG - Starting component Posthog\n",
      "2025-02-16 22:30:52,472 - chromadb.config - DEBUG - Starting component OpenTelemetryClient\n",
      "2025-02-16 22:30:52,472 - chromadb.config - DEBUG - Starting component SqliteDB\n",
      "2025-02-16 22:30:52,479 - chromadb.config - DEBUG - Starting component SimpleQuotaEnforcer\n",
      "2025-02-16 22:30:52,480 - chromadb.config - DEBUG - Starting component SimpleRateLimitEnforcer\n",
      "2025-02-16 22:30:52,480 - chromadb.config - DEBUG - Starting component LocalSegmentManager\n",
      "2025-02-16 22:30:52,480 - chromadb.config - DEBUG - Starting component LocalExecutor\n",
      "2025-02-16 22:30:52,481 - chromadb.config - DEBUG - Starting component SegmentAPI\n",
      "2025-02-16 22:30:52,488 - chromadb.api.segment - DEBUG - Collection test7 already exists, returning existing collection.\n"
     ]
    }
   ],
   "source": [
    "config_manager = ConfigurationManager(CONFIG_FILE_PATH, PARAMS_FILE_PATH)\n",
    "vb_params = config_manager.get_vectordatabase_config()\n",
    "print(vb_params)\n",
    "vb = VectorDatabase(vb_params)\n",
    "chroma = vb.init_chromadb(get_openai_embeddings())\n",
    "\n",
    "retriever = vb.get_multivector_retriever(chroma, id_key=\"doc_id\")\n"
   ]
  },
  {
   "cell_type": "code",
   "execution_count": 11,
   "metadata": {},
   "outputs": [],
   "source": [
    "from backend.src.queries.handler import QueryHandler\n",
    "qh = QueryHandler(retriever)\n",
    "retriever = vb.get_vectorstore_as_retreiever(retriever.vectorstore)"
   ]
  },
  {
   "cell_type": "code",
   "execution_count": 13,
   "metadata": {},
   "outputs": [
    {
     "name": "stderr",
     "output_type": "stream",
     "text": [
      "2025-02-16 22:31:15,900 - openai._base_client - DEBUG - Request options: {'method': 'post', 'url': '/embeddings', 'files': None, 'post_parser': <function Embeddings.create.<locals>.parser at 0x1263488b0>, 'json_data': {'input': [[15339, 1268, 527, 13835, 220]], 'model': 'text-embedding-ada-002', 'encoding_format': 'base64'}}\n",
      "2025-02-16 22:31:15,904 - openai._base_client - DEBUG - Sending HTTP Request: POST https://api.openai.com/v1/embeddings\n",
      "2025-02-16 22:31:15,906 - httpcore.connection - DEBUG - close.started\n",
      "2025-02-16 22:31:15,909 - httpcore.connection - DEBUG - close.complete\n",
      "2025-02-16 22:31:15,910 - httpcore.connection - DEBUG - connect_tcp.started host='api.openai.com' port=443 local_address=None timeout=None socket_options=None\n",
      "2025-02-16 22:31:15,950 - httpcore.connection - DEBUG - connect_tcp.complete return_value=<httpcore._backends.sync.SyncStream object at 0x32e9aed90>\n",
      "2025-02-16 22:31:15,951 - httpcore.connection - DEBUG - start_tls.started ssl_context=<ssl.SSLContext object at 0x32daeadc0> server_hostname='api.openai.com' timeout=None\n",
      "2025-02-16 22:31:16,001 - httpcore.connection - DEBUG - start_tls.complete return_value=<httpcore._backends.sync.SyncStream object at 0x32e9ae550>\n",
      "2025-02-16 22:31:16,001 - httpcore.http11 - DEBUG - send_request_headers.started request=<Request [b'POST']>\n",
      "2025-02-16 22:31:16,002 - httpcore.http11 - DEBUG - send_request_headers.complete\n",
      "2025-02-16 22:31:16,003 - httpcore.http11 - DEBUG - send_request_body.started request=<Request [b'POST']>\n",
      "2025-02-16 22:31:16,003 - httpcore.http11 - DEBUG - send_request_body.complete\n",
      "2025-02-16 22:31:16,004 - httpcore.http11 - DEBUG - receive_response_headers.started request=<Request [b'POST']>\n",
      "2025-02-16 22:31:16,449 - httpcore.http11 - DEBUG - receive_response_headers.complete return_value=(b'HTTP/1.1', 200, b'OK', [(b'Date', b'Sun, 16 Feb 2025 17:01:17 GMT'), (b'Content-Type', b'application/json'), (b'Transfer-Encoding', b'chunked'), (b'Connection', b'keep-alive'), (b'access-control-allow-origin', b'*'), (b'access-control-expose-headers', b'X-Request-ID'), (b'openai-model', b'text-embedding-ada-002-v2'), (b'openai-organization', b'user-gccgvei9eaw4a1hksddpirf5'), (b'openai-processing-ms', b'79'), (b'openai-version', b'2020-10-01'), (b'strict-transport-security', b'max-age=31536000; includeSubDomains; preload'), (b'via', b'envoy-router-749cdcf4bd-gjcn6'), (b'x-envoy-upstream-service-time', b'55'), (b'x-ratelimit-limit-requests', b'3000'), (b'x-ratelimit-limit-tokens', b'1000000'), (b'x-ratelimit-remaining-requests', b'2999'), (b'x-ratelimit-remaining-tokens', b'999994'), (b'x-ratelimit-reset-requests', b'20ms'), (b'x-ratelimit-reset-tokens', b'0s'), (b'x-request-id', b'req_588de384fca92679fca8efa10675ae42'), (b'cf-cache-status', b'DYNAMIC'), (b'X-Content-Type-Options', b'nosniff'), (b'Server', b'cloudflare'), (b'CF-RAY', b'912f19469a11a79d-DEL'), (b'Content-Encoding', b'gzip'), (b'alt-svc', b'h3=\":443\"; ma=86400')])\n",
      "2025-02-16 22:31:16,450 - httpx - INFO - HTTP Request: POST https://api.openai.com/v1/embeddings \"HTTP/1.1 200 OK\"\n",
      "2025-02-16 22:31:16,451 - httpcore.http11 - DEBUG - receive_response_body.started request=<Request [b'POST']>\n",
      "2025-02-16 22:31:16,453 - httpcore.http11 - DEBUG - receive_response_body.complete\n",
      "2025-02-16 22:31:16,454 - httpcore.http11 - DEBUG - response_closed.started\n",
      "2025-02-16 22:31:16,454 - httpcore.http11 - DEBUG - response_closed.complete\n",
      "2025-02-16 22:31:16,455 - openai._base_client - DEBUG - HTTP Response: POST https://api.openai.com/v1/embeddings \"200 OK\" Headers({'date': 'Sun, 16 Feb 2025 17:01:17 GMT', 'content-type': 'application/json', 'transfer-encoding': 'chunked', 'connection': 'keep-alive', 'access-control-allow-origin': '*', 'access-control-expose-headers': 'X-Request-ID', 'openai-model': 'text-embedding-ada-002-v2', 'openai-organization': 'user-gccgvei9eaw4a1hksddpirf5', 'openai-processing-ms': '79', 'openai-version': '2020-10-01', 'strict-transport-security': 'max-age=31536000; includeSubDomains; preload', 'via': 'envoy-router-749cdcf4bd-gjcn6', 'x-envoy-upstream-service-time': '55', 'x-ratelimit-limit-requests': '3000', 'x-ratelimit-limit-tokens': '1000000', 'x-ratelimit-remaining-requests': '2999', 'x-ratelimit-remaining-tokens': '999994', 'x-ratelimit-reset-requests': '20ms', 'x-ratelimit-reset-tokens': '0s', 'x-request-id': 'req_588de384fca92679fca8efa10675ae42', 'cf-cache-status': 'DYNAMIC', 'x-content-type-options': 'nosniff', 'server': 'cloudflare', 'cf-ray': '912f19469a11a79d-DEL', 'content-encoding': 'gzip', 'alt-svc': 'h3=\":443\"; ma=86400'})\n",
      "2025-02-16 22:31:16,455 - openai._base_client - DEBUG - request_id: req_588de384fca92679fca8efa10675ae42\n"
     ]
    }
   ],
   "source": [
    "x = retriever.invoke(\"hello how are ya \")"
   ]
  },
  {
   "cell_type": "code",
   "execution_count": 15,
   "metadata": {},
   "outputs": [
    {
     "name": "stdout",
     "output_type": "stream",
     "text": [
      "page_content='This is a photograph of an older man with white hair. He is wearing a dark suit, a white shirt, and a red tie. The background is plain white, and he is smiling at the camera. There are no graphs or numbers in the image.' metadata={'doc_id': '1b789dea-0086-4107-a2d9-a10e4a9fd4ef', 'raw_string': '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', 'source': 'backend/data/reports/2024_removed/images/figure-2-2.jpg', 'title': 'figure-2-2.jpg', 'type': 'image'}\n",
      "page_content='I'm unable to identify or provide information about the person in this image. If you need help with something else, feel free to ask!' metadata={'doc_id': 'b61c7e24-aed7-4a8c-8116-cd6805a32fba', 'raw_string': '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', 'source': 'backend/data/reports/2024_removed/images/figure-7-12.jpg', 'title': 'figure-7-12.jpg', 'type': 'image'}\n",
      "page_content='The image is a portrait of a smiling man wearing a dark suit, white shirt, and red tie. The background is plain white, and there are no graphs or numbers present in the image.' metadata={'doc_id': 'cf48b4f4-15bc-4f06-a130-e60274cff6c6', 'raw_string': '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', 'source': 'backend/data/reports/2024_removed/images/figure-8-19.jpg', 'title': 'figure-8-19.jpg', 'type': 'image'}\n",
      "page_content='This image shows a man in a suit with a white background. He is wearing a dark suit jacket, a white dress shirt, and a burgundy tie. The man is smiling. There are no graphs or numbers in this image.' metadata={'doc_id': '63640394-03dd-4293-8d69-e58a47cc7f81', 'raw_string': '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', 'source': 'backend/data/reports/2024_removed/images/figure-8-18.jpg', 'title': 'figure-8-18.jpg', 'type': 'image'}\n"
     ]
    }
   ],
   "source": [
    "for i in x:\n",
    "    print(i)"
   ]
  },
  {
   "cell_type": "code",
   "execution_count": 1,
   "metadata": {},
   "outputs": [
    {
     "data": {
      "text/plain": [
       "(None, '/Users/goldyrana/mess/deep_learning/projects/rag')"
      ]
     },
     "execution_count": 1,
     "metadata": {},
     "output_type": "execute_result"
    }
   ],
   "source": [
    "import os\n",
    "os.chdir('../../'), os.getcwd()"
   ]
  },
  {
   "cell_type": "code",
   "execution_count": 2,
   "metadata": {},
   "outputs": [
    {
     "name": "stderr",
     "output_type": "stream",
     "text": [
      "/Users/goldyrana/miniconda3/envs/bounce/lib/python3.9/site-packages/tqdm/auto.py:21: TqdmWarning: IProgress not found. Please update jupyter and ipywidgets. See https://ipywidgets.readthedocs.io/en/stable/user_install.html\n",
      "  from .autonotebook import tqdm as notebook_tqdm\n"
     ]
    }
   ],
   "source": [
    "from backend.src.extractors.data_ingestion import DataIngestion\n",
    "from backend.src.extractors.image_summarizer import ImageSummarizer\n",
    "from backend.src.extractors.text_summarizer import TextSummarizer\n",
    "from backend.src.constants import *\n",
    "from backend.src.config.configuration import ConfigurationManager\n",
    "from backend.src.storage.chroma_storage import VectorDatabase\n",
    "from backend.src.queries.handler import QueryHandler\n",
    "\n",
    "from backend.src.llm_models import get_openai_model, get_openai_embeddings\n",
    "from backend.src.constants import (CONFIG_FILE_PATH, PARAMS_FILE_PATH, FIREBASE_CREDENTIALS_PATH)\n",
    "\n",
    "import os"
   ]
  },
  {
   "cell_type": "code",
   "execution_count": 3,
   "metadata": {},
   "outputs": [],
   "source": [
    "from dotenv import load_dotenv\n",
    "load_dotenv()\n",
    "\n",
    "model = get_openai_model()\n",
    "embedding = get_openai_embeddings()\n"
   ]
  },
  {
   "cell_type": "code",
   "execution_count": 4,
   "metadata": {},
   "outputs": [
    {
     "name": "stderr",
     "output_type": "stream",
     "text": [
      "2025-02-16 23:09:45,714 - chromadb.telemetry.product.posthog - INFO - Anonymized telemetry enabled. See                     https://docs.trychroma.com/telemetry for more information.\n",
      "2025-02-16 23:09:45,819 - chromadb.config - DEBUG - Starting component System\n",
      "2025-02-16 23:09:45,819 - chromadb.config - DEBUG - Starting component Posthog\n",
      "2025-02-16 23:09:45,820 - chromadb.config - DEBUG - Starting component OpenTelemetryClient\n",
      "2025-02-16 23:09:45,820 - chromadb.config - DEBUG - Starting component SqliteDB\n",
      "2025-02-16 23:09:45,854 - chromadb.config - DEBUG - Starting component SimpleQuotaEnforcer\n",
      "2025-02-16 23:09:45,854 - chromadb.config - DEBUG - Starting component SimpleRateLimitEnforcer\n",
      "2025-02-16 23:09:45,855 - chromadb.config - DEBUG - Starting component LocalSegmentManager\n",
      "2025-02-16 23:09:45,855 - chromadb.config - DEBUG - Starting component LocalExecutor\n",
      "2025-02-16 23:09:45,856 - chromadb.config - DEBUG - Starting component SegmentAPI\n"
     ]
    }
   ],
   "source": [
    "\n",
    "# get config manger\n",
    "config_manager = ConfigurationManager(CONFIG_FILE_PATH, PARAMS_FILE_PATH)\n",
    "data_ingestion_config = config_manager.get_data_ingestion_params()\n",
    "image_summarizer_config = config_manager.get_image_summarizer_params()\n",
    "text_summarizer_config = config_manager.get_text_summarizer_params()\n",
    "vector_database_config = config_manager.get_vectordatabase_config()\n",
    "\n",
    "data_ingestion = DataIngestion(data_ingestion_config)\n",
    "image_summarizer = ImageSummarizer(image_summarizer_config, model)\n",
    "vector_database = VectorDatabase(vector_database_config)\n",
    "chroma = vector_database.init_chromadb(embeddings=get_openai_embeddings())\n",
    "retriever = vector_database.get_multivector_retriever(chroma)\n"
   ]
  },
  {
   "cell_type": "code",
   "execution_count": 5,
   "metadata": {},
   "outputs": [],
   "source": [
    "# pdf file paths\n",
    "raw_pdf_path = \"backend/data/raw_pdfs\"\n",
    "pdfs = os.listdir(raw_pdf_path)\n",
    "pdf_file_paths = [os.path.join(raw_pdf_path, i) for i in pdfs]\n"
   ]
  },
  {
   "cell_type": "code",
   "execution_count": 6,
   "metadata": {},
   "outputs": [
    {
     "data": {
      "text/plain": [
       "['backend/data/raw_pdfs/2023_removed.pdf',\n",
       " 'backend/data/raw_pdfs/2024_removed.pdf']"
      ]
     },
     "execution_count": 6,
     "metadata": {},
     "output_type": "execute_result"
    }
   ],
   "source": [
    "pdf_file_paths"
   ]
  },
  {
   "cell_type": "code",
   "execution_count": null,
   "metadata": {},
   "outputs": [],
   "source": [
    "for pdf_path in pdf_file_paths:\n",
    "        \n",
    "        print(\"processing pdf: \", pdf_path)\n",
    "        raw_pdf_elements, report_dir = data_ingestion.process_pdf(pdf_path,\n",
    "                                                                save=True,\n",
    "                                                                strategy=\"hi_res\", # \n",
    "                                                                split_pdf_page=True,  # to process each page seprately\n",
    "                                                                split_pdf_allow_failed=True, # continue processing even if some pages fail\n",
    "                                                                extract_images_in_pdf=True,\n",
    "                                                                infer_table_structure=True,\n",
    "                                                                chunking_strategy=\"by_title\",\n",
    "                                                                extract_image_block_types = [\"Image\" , \"Table\"],\n",
    "                                                                max_characters=4000,\n",
    "                                                                new_after_n_chars=3800,\n",
    "                                                                combine_text_under_n_chars=2000)\n",
    "        image_path = os.path.join(report_dir, \"images\")\n",
    "        images_path = image_summarizer.get_image_path(image_path)\n",
    "        \n",
    "        print(\"working directory of images\", image_path)\n",
    "        print(\"length of images: \",  len(images_path))\n",
    "        encoded_images = []\n",
    "        image_summaries = []\n",
    "        meta_data = []\n",
    "        \n",
    "        for image in images_path:\n",
    "            encoded_image, image_source_path = image_summarizer.encode_image(image)\n",
    "            image_summaries.append(image_summarizer.image_summarize(encoded_image))\n",
    "            encoded_images.append(encoded_image)\n",
    "            meta_data.append({\"source\": image_source_path,\n",
    "                            \"type\": \"image\",\n",
    "                            \"title\": image.split(\"/\")[-1]})\n",
    "            \n",
    "        image_summaries = image_summarizer.add_metadata(encoded_images, image_summaries,\n",
    "                                                        metadata=meta_data, \n",
    "                                                        automatic_metadata=False)\n",
    "\n",
    "        # # text summaries\n",
    "        text_summarizer = TextSummarizer(text_summarizer_config, model)\n",
    "        text_data = text_summarizer.get_text_data(raw_pdf_elements)     \n",
    "        \n",
    "        # Store text data\n",
    "        raw_text, text_summaries, summary_metadata = text_summarizer.generate_summary(text_data)\n",
    "        text_summaries = text_summarizer.add_metadata(raw_text, text_summaries, summary_metadata)\n",
    "        vector_database.store_to_vb(text_summaries, retriever)\n",
    "        \n",
    "        # Store image data\n",
    "        vector_database.store_to_vb(image_summaries, retriever)\n",
    "        \n",
    "        break"
   ]
  },
  {
   "cell_type": "code",
   "execution_count": null,
   "metadata": {},
   "outputs": [],
   "source": [
    "\n",
    "\n",
    "\n",
    "def main(pdf_file_paths=pdf_file_paths):\n",
    "    for pdf_path in pdf_file_paths:\n",
    "        \n",
    "        print(\"processing pdf: \", pdf_path)\n",
    "        raw_pdf_elements, report_dir = data_ingestion.process_pdf(pdf_path,\n",
    "                                                                save=True,\n",
    "                                                                strategy=\"hi_res\", # \n",
    "                                                                split_pdf_page=True,  # to process each page seprately\n",
    "                                                                split_pdf_allow_failed=True, # continue processing even if some pages fail\n",
    "                                                                extract_images_in_pdf=True,\n",
    "                                                                infer_table_structure=True,\n",
    "                                                                chunking_strategy=\"by_title\",\n",
    "                                                                extract_image_block_types = [\"Image\" , \"Table\"],\n",
    "                                                                max_characters=4000,\n",
    "                                                                new_after_n_chars=3800,\n",
    "                                                                combine_text_under_n_chars=2000)\n",
    "        image_path = os.path.join(report_dir, \"images\")\n",
    "        images_path = image_summarizer.get_image_path(image_path)\n",
    "        \n",
    "        encoded_images = []\n",
    "        image_summaries = []\n",
    "        meta_data = []\n",
    "        \n",
    "        for image in images_path:\n",
    "            encoded_image, image_source_path = image_summarizer.encode_image(image)\n",
    "            image_summaries.append(image_summarizer.image_summarize(encoded_image))\n",
    "            encoded_images.append(encoded_image)\n",
    "            meta_data.append({\"source\": image_source_path,\n",
    "                            \"type\": \"image\",\n",
    "                            \"title\": image.split(\"/\")[-1]})\n",
    "            \n",
    "        image_summaries = image_summarizer.add_metadata(encoded_images, image_summaries,\n",
    "                                                        metadata=meta_data, \n",
    "                                                        automatic_metadata=False)\n",
    "\n",
    "        # # text summaries\n",
    "        text_summarizer = TextSummarizer(text_summarizer_config, model)\n",
    "        text_data = text_summarizer.get_text_data(raw_pdf_elements)     \n",
    "        \n",
    "        # Store text data\n",
    "        raw_text, text_summaries, summary_metadata = text_summarizer.generate_summary(text_data)\n",
    "        text_summaries = text_summarizer.add_metadata(raw_text, text_summaries, summary_metadata)\n",
    "        vector_database.store_to_vb(text_summaries, retriever)\n",
    "        \n",
    "        # Store image data\n",
    "        vector_database.store_to_vb(image_summaries, retriever)\n",
    "        \n",
    "\n",
    "if __name__ == \"__main__\":\n",
    "    main()\n",
    "    \n"
   ]
  },
  {
   "cell_type": "markdown",
   "metadata": {},
   "source": [
    "# ------------------------------Testing image database alone--------------------------"
   ]
  },
  {
   "cell_type": "code",
   "execution_count": 1,
   "metadata": {},
   "outputs": [
    {
     "data": {
      "text/plain": [
       "(None, '/Users/goldyrana/mess/deep_learning/projects/rag')"
      ]
     },
     "execution_count": 1,
     "metadata": {},
     "output_type": "execute_result"
    }
   ],
   "source": [
    "import os\n",
    "os.chdir('../../'), os.getcwd()"
   ]
  },
  {
   "cell_type": "code",
   "execution_count": 3,
   "metadata": {},
   "outputs": [
    {
     "name": "stderr",
     "output_type": "stream",
     "text": [
      "2025-02-17 16:35:20,206 - layoutparser.file_utils - DEBUG - PyTorch version 2.6.0 available.\n",
      "2025-02-17 16:35:20,209 - layoutparser.file_utils - DEBUG - Effdet version 0.4.1 available.\n",
      "2025-02-17 16:35:20,210 - layoutparser.file_utils - DEBUG - Pytesseract version 0.3.13 available.\n",
      "2025-02-17 16:35:20,212 - layoutparser.file_utils - DEBUG - Google Cloud Vision Utils version 3.9.0 available.\n",
      "2025-02-17 16:35:22,269 - pydot - DEBUG - pydot initializing\n",
      "2025-02-17 16:35:22,270 - pydot - DEBUG - pydot 3.0.4\n",
      "2025-02-17 16:35:22,369 - pydot.dot_parser - DEBUG - pydot dot_parser module initializing\n",
      "2025-02-17 16:35:22,371 - pydot.core - DEBUG - pydot core module initializing\n",
      "/Users/goldyrana/miniconda3/envs/bounce/lib/python3.9/site-packages/tqdm/auto.py:21: TqdmWarning: IProgress not found. Please update jupyter and ipywidgets. See https://ipywidgets.readthedocs.io/en/stable/user_install.html\n",
      "  from .autonotebook import tqdm as notebook_tqdm\n",
      "2025-02-17 16:35:23,357 - matplotlib - DEBUG - matplotlib data path: /Users/goldyrana/miniconda3/envs/bounce/lib/python3.9/site-packages/matplotlib/mpl-data\n",
      "2025-02-17 16:35:23,362 - matplotlib - DEBUG - CONFIGDIR=/Users/goldyrana/.matplotlib\n",
      "2025-02-17 16:35:23,377 - matplotlib - DEBUG - interactive is False\n",
      "2025-02-17 16:35:23,377 - matplotlib - DEBUG - platform is darwin\n",
      "2025-02-17 16:35:23,420 - matplotlib - DEBUG - CACHEDIR=/Users/goldyrana/.matplotlib\n",
      "2025-02-17 16:35:23,424 - matplotlib.font_manager - DEBUG - Using fontManager instance from /Users/goldyrana/.matplotlib/fontlist-v390.json\n",
      "2025-02-17 16:35:23,688 - urllib3.connectionpool - DEBUG - Starting new HTTPS connection (1): packages.unstructured.io:443\n",
      "2025-02-17 16:35:25,109 - urllib3.connectionpool - DEBUG - https://packages.unstructured.io:443 \"GET /python-telemetry?version=0.16.11&platform=Darwin&python3.9&arch=arm64&gpu=False&dev=false HTTP/1.1\" 200 596\n"
     ]
    }
   ],
   "source": [
    "from backend.src.storage.chroma_storage import VectorDatabase\n",
    "from backend.src.config.configuration import ConfigurationManager\n",
    "from backend.src.llm_models import get_openai_embeddings\n",
    "\n"
   ]
  },
  {
   "cell_type": "code",
   "execution_count": 4,
   "metadata": {},
   "outputs": [],
   "source": [
    "from backend.src.constants import (CONFIG_FILE_PATH, PARAMS_FILE_PATH, FIREBASE_CREDENTIALS_PATH)"
   ]
  },
  {
   "cell_type": "code",
   "execution_count": 5,
   "metadata": {},
   "outputs": [
    {
     "name": "stdout",
     "output_type": "stream",
     "text": [
      "VectorDatabaseConfig(vectorstore_name='test8', persist_directory='vector_database/vb1')\n"
     ]
    },
    {
     "name": "stderr",
     "output_type": "stream",
     "text": [
      "2025-02-17 16:35:29,764 - chromadb.telemetry.product.posthog - INFO - Anonymized telemetry enabled. See                     https://docs.trychroma.com/telemetry for more information.\n",
      "2025-02-17 16:35:29,874 - chromadb.config - DEBUG - Starting component System\n",
      "2025-02-17 16:35:29,875 - chromadb.config - DEBUG - Starting component Posthog\n",
      "2025-02-17 16:35:29,875 - chromadb.config - DEBUG - Starting component OpenTelemetryClient\n",
      "2025-02-17 16:35:29,876 - chromadb.config - DEBUG - Starting component SqliteDB\n",
      "2025-02-17 16:35:29,881 - chromadb.config - DEBUG - Starting component SimpleQuotaEnforcer\n",
      "2025-02-17 16:35:29,882 - chromadb.config - DEBUG - Starting component SimpleRateLimitEnforcer\n",
      "2025-02-17 16:35:29,883 - chromadb.config - DEBUG - Starting component LocalSegmentManager\n",
      "2025-02-17 16:35:29,883 - chromadb.config - DEBUG - Starting component LocalExecutor\n",
      "2025-02-17 16:35:29,884 - chromadb.config - DEBUG - Starting component SegmentAPI\n",
      "2025-02-17 16:35:29,895 - chromadb.api.segment - DEBUG - Collection test8 already exists, returning existing collection.\n"
     ]
    }
   ],
   "source": [
    "config_manager = ConfigurationManager(CONFIG_FILE_PATH, PARAMS_FILE_PATH)\n",
    "vb_params = config_manager.get_vectordatabase_config()\n",
    "print(vb_params)\n",
    "image_vb = VectorDatabase(vb_params, persist_directory=\"vector_database/image\")\n",
    "image_chroma = image_vb.init_chromadb(get_openai_embeddings())\n",
    "image_retriever = image_vb.get_multivector_retriever(image_chroma, id_key=\"doc_id\")\n"
   ]
  },
  {
   "cell_type": "code",
   "execution_count": 9,
   "metadata": {},
   "outputs": [],
   "source": [
    "from backend.src.queries.handler import QueryHandler\n",
    "# qh = QueryHandler(image_retriever)\n",
    "image_retriever = image_vb.get_vectorstore_as_retreiever(image_retriever.vectorstore)"
   ]
  },
  {
   "cell_type": "code",
   "execution_count": 18,
   "metadata": {},
   "outputs": [
    {
     "name": "stderr",
     "output_type": "stream",
     "text": [
      "2025-02-17 16:38:35,168 - openai._base_client - DEBUG - Request options: {'method': 'post', 'url': '/embeddings', 'files': None, 'post_parser': <function Embeddings.create.<locals>.parser at 0x33b821d30>, 'json_data': {'input': [[35637, 5808, 30109, 7819, 69]], 'model': 'text-embedding-ada-002', 'encoding_format': 'base64'}}\n",
      "2025-02-17 16:38:35,171 - openai._base_client - DEBUG - Sending HTTP Request: POST https://api.openai.com/v1/embeddings\n",
      "2025-02-17 16:38:35,175 - httpcore.connection - DEBUG - close.started\n",
      "2025-02-17 16:38:35,180 - httpcore.connection - DEBUG - close.complete\n",
      "2025-02-17 16:38:35,183 - httpcore.connection - DEBUG - connect_tcp.started host='api.openai.com' port=443 local_address=None timeout=None socket_options=None\n",
      "2025-02-17 16:38:35,233 - httpcore.connection - DEBUG - connect_tcp.complete return_value=<httpcore._backends.sync.SyncStream object at 0x33b8807f0>\n",
      "2025-02-17 16:38:35,234 - httpcore.connection - DEBUG - start_tls.started ssl_context=<ssl.SSLContext object at 0x10757eb40> server_hostname='api.openai.com' timeout=None\n",
      "2025-02-17 16:38:35,289 - httpcore.connection - DEBUG - start_tls.complete return_value=<httpcore._backends.sync.SyncStream object at 0x319c45f10>\n",
      "2025-02-17 16:38:35,290 - httpcore.http11 - DEBUG - send_request_headers.started request=<Request [b'POST']>\n",
      "2025-02-17 16:38:35,291 - httpcore.http11 - DEBUG - send_request_headers.complete\n",
      "2025-02-17 16:38:35,291 - httpcore.http11 - DEBUG - send_request_body.started request=<Request [b'POST']>\n",
      "2025-02-17 16:38:35,292 - httpcore.http11 - DEBUG - send_request_body.complete\n",
      "2025-02-17 16:38:35,292 - httpcore.http11 - DEBUG - receive_response_headers.started request=<Request [b'POST']>\n",
      "2025-02-17 16:38:36,252 - httpcore.http11 - DEBUG - receive_response_headers.complete return_value=(b'HTTP/1.1', 200, b'OK', [(b'Date', b'Mon, 17 Feb 2025 11:08:37 GMT'), (b'Content-Type', b'application/json'), (b'Transfer-Encoding', b'chunked'), (b'Connection', b'keep-alive'), (b'access-control-allow-origin', b'*'), (b'access-control-expose-headers', b'X-Request-ID'), (b'openai-model', b'text-embedding-ada-002-v2'), (b'openai-organization', b'user-gccgvei9eaw4a1hksddpirf5'), (b'openai-processing-ms', b'78'), (b'openai-version', b'2020-10-01'), (b'strict-transport-security', b'max-age=31536000; includeSubDomains; preload'), (b'via', b'envoy-router-65846479bf-bljz7'), (b'x-envoy-upstream-service-time', b'58'), (b'x-ratelimit-limit-requests', b'3000'), (b'x-ratelimit-limit-tokens', b'1000000'), (b'x-ratelimit-remaining-requests', b'2999'), (b'x-ratelimit-remaining-tokens', b'999994'), (b'x-ratelimit-reset-requests', b'20ms'), (b'x-ratelimit-reset-tokens', b'0s'), (b'x-request-id', b'req_0ed85c6d8106b0c158330fd5c8eb7871'), (b'cf-cache-status', b'DYNAMIC'), (b'X-Content-Type-Options', b'nosniff'), (b'Server', b'cloudflare'), (b'CF-RAY', b'91355207fb853c2e-BOM'), (b'Content-Encoding', b'gzip'), (b'alt-svc', b'h3=\":443\"; ma=86400')])\n",
      "2025-02-17 16:38:36,254 - httpx - INFO - HTTP Request: POST https://api.openai.com/v1/embeddings \"HTTP/1.1 200 OK\"\n",
      "2025-02-17 16:38:36,255 - httpcore.http11 - DEBUG - receive_response_body.started request=<Request [b'POST']>\n",
      "2025-02-17 16:38:36,258 - httpcore.http11 - DEBUG - receive_response_body.complete\n",
      "2025-02-17 16:38:36,259 - httpcore.http11 - DEBUG - response_closed.started\n",
      "2025-02-17 16:38:36,260 - httpcore.http11 - DEBUG - response_closed.complete\n",
      "2025-02-17 16:38:36,260 - openai._base_client - DEBUG - HTTP Response: POST https://api.openai.com/v1/embeddings \"200 OK\" Headers({'date': 'Mon, 17 Feb 2025 11:08:37 GMT', 'content-type': 'application/json', 'transfer-encoding': 'chunked', 'connection': 'keep-alive', 'access-control-allow-origin': '*', 'access-control-expose-headers': 'X-Request-ID', 'openai-model': 'text-embedding-ada-002-v2', 'openai-organization': 'user-gccgvei9eaw4a1hksddpirf5', 'openai-processing-ms': '78', 'openai-version': '2020-10-01', 'strict-transport-security': 'max-age=31536000; includeSubDomains; preload', 'via': 'envoy-router-65846479bf-bljz7', 'x-envoy-upstream-service-time': '58', 'x-ratelimit-limit-requests': '3000', 'x-ratelimit-limit-tokens': '1000000', 'x-ratelimit-remaining-requests': '2999', 'x-ratelimit-remaining-tokens': '999994', 'x-ratelimit-reset-requests': '20ms', 'x-ratelimit-reset-tokens': '0s', 'x-request-id': 'req_0ed85c6d8106b0c158330fd5c8eb7871', 'cf-cache-status': 'DYNAMIC', 'x-content-type-options': 'nosniff', 'server': 'cloudflare', 'cf-ray': '91355207fb853c2e-BOM', 'content-encoding': 'gzip', 'alt-svc': 'h3=\":443\"; ma=86400'})\n",
      "2025-02-17 16:38:36,261 - openai._base_client - DEBUG - request_id: req_0ed85c6d8106b0c158330fd5c8eb7871\n"
     ]
    }
   ],
   "source": [
    "x = image_retriever.invoke(\"goldura aaadsf\")"
   ]
  },
  {
   "cell_type": "code",
   "execution_count": 19,
   "metadata": {},
   "outputs": [
    {
     "name": "stdout",
     "output_type": "stream",
     "text": [
      "dict_keys(['doc_id', 'raw_string', 'source', 'title', 'type'])\n",
      "image\n",
      "dict_keys(['doc_id', 'raw_string', 'source', 'title', 'type'])\n",
      "image\n",
      "dict_keys(['doc_id', 'raw_string', 'source', 'title', 'type'])\n",
      "image\n",
      "dict_keys(['doc_id', 'raw_string', 'source', 'title', 'type'])\n",
      "image\n"
     ]
    }
   ],
   "source": [
    "for i in x:\n",
    "    \n",
    "    print(i.metadata.keys())\n",
    "    print(i.metadata[\"type\"])"
   ]
  },
  {
   "cell_type": "markdown",
   "metadata": {},
   "source": [
    "## Testing text database alone\n"
   ]
  },
  {
   "cell_type": "code",
   "execution_count": 20,
   "metadata": {},
   "outputs": [
    {
     "name": "stderr",
     "output_type": "stream",
     "text": [
      "2025-02-17 16:38:38,622 - chromadb.api.segment - DEBUG - Collection test8 already exists, returning existing collection.\n"
     ]
    }
   ],
   "source": [
    "text_vb = VectorDatabase(vb_params, persist_directory=\"vector_database/text\")\n",
    "text_chroma = text_vb.init_chromadb(get_openai_embeddings())\n",
    "text_retriever = text_vb.get_multivector_retriever(text_chroma, id_key=\"doc_id\")"
   ]
  },
  {
   "cell_type": "code",
   "execution_count": 21,
   "metadata": {},
   "outputs": [],
   "source": [
    "from backend.src.queries.handler import QueryHandler\n",
    "qh = QueryHandler(text_retriever)\n",
    "text_retriever = text_vb.get_vectorstore_as_retreiever(text_retriever.vectorstore)"
   ]
  },
  {
   "cell_type": "code",
   "execution_count": 22,
   "metadata": {},
   "outputs": [
    {
     "name": "stderr",
     "output_type": "stream",
     "text": [
      "2025-02-17 16:38:40,241 - openai._base_client - DEBUG - Request options: {'method': 'post', 'url': '/embeddings', 'files': None, 'post_parser': <function Embeddings.create.<locals>.parser at 0x3309f0ee0>, 'json_data': {'input': [[15339, 1268, 527, 13835]], 'model': 'text-embedding-ada-002', 'encoding_format': 'base64'}}\n",
      "2025-02-17 16:38:40,242 - openai._base_client - DEBUG - Sending HTTP Request: POST https://api.openai.com/v1/embeddings\n",
      "2025-02-17 16:38:40,243 - httpcore.connection - DEBUG - connect_tcp.started host='api.openai.com' port=443 local_address=None timeout=None socket_options=None\n",
      "2025-02-17 16:38:40,316 - httpcore.connection - DEBUG - connect_tcp.complete return_value=<httpcore._backends.sync.SyncStream object at 0x32f888250>\n",
      "2025-02-17 16:38:40,316 - httpcore.connection - DEBUG - start_tls.started ssl_context=<ssl.SSLContext object at 0x33b878bc0> server_hostname='api.openai.com' timeout=None\n",
      "2025-02-17 16:38:40,403 - httpcore.connection - DEBUG - start_tls.complete return_value=<httpcore._backends.sync.SyncStream object at 0x32f8877c0>\n",
      "2025-02-17 16:38:40,404 - httpcore.http11 - DEBUG - send_request_headers.started request=<Request [b'POST']>\n",
      "2025-02-17 16:38:40,404 - httpcore.http11 - DEBUG - send_request_headers.complete\n",
      "2025-02-17 16:38:40,405 - httpcore.http11 - DEBUG - send_request_body.started request=<Request [b'POST']>\n",
      "2025-02-17 16:38:40,405 - httpcore.http11 - DEBUG - send_request_body.complete\n",
      "2025-02-17 16:38:40,406 - httpcore.http11 - DEBUG - receive_response_headers.started request=<Request [b'POST']>\n",
      "2025-02-17 16:38:40,814 - httpcore.http11 - DEBUG - receive_response_headers.complete return_value=(b'HTTP/1.1', 200, b'OK', [(b'Date', b'Mon, 17 Feb 2025 11:08:41 GMT'), (b'Content-Type', b'application/json'), (b'Transfer-Encoding', b'chunked'), (b'Connection', b'keep-alive'), (b'access-control-allow-origin', b'*'), (b'access-control-expose-headers', b'X-Request-ID'), (b'openai-model', b'text-embedding-ada-002-v2'), (b'openai-organization', b'user-gccgvei9eaw4a1hksddpirf5'), (b'openai-processing-ms', b'48'), (b'openai-version', b'2020-10-01'), (b'strict-transport-security', b'max-age=31536000; includeSubDomains; preload'), (b'via', b'envoy-router-65bc697f7b-bvpn2'), (b'x-envoy-upstream-service-time', b'32'), (b'x-ratelimit-limit-requests', b'3000'), (b'x-ratelimit-limit-tokens', b'1000000'), (b'x-ratelimit-remaining-requests', b'2999'), (b'x-ratelimit-remaining-tokens', b'999996'), (b'x-ratelimit-reset-requests', b'20ms'), (b'x-ratelimit-reset-tokens', b'0s'), (b'x-request-id', b'req_be28683fab6dbd659d775ef4327eb733'), (b'cf-cache-status', b'DYNAMIC'), (b'Set-Cookie', b'__cf_bm=6TpyTbey_8xa5WsDM0_8iThypGboVqwDJ1eSg18KwvE-1739790521-1.0.1.1-_YX8KWGBAQuxmsmtL4ppyZY4KDDa9uVhhLskSwdnci6NxAdZ8.fiVzJEh97EFiHPoy1egDZAowo5OcF1DQncCA; path=/; expires=Mon, 17-Feb-25 11:38:41 GMT; domain=.api.openai.com; HttpOnly; Secure; SameSite=None'), (b'X-Content-Type-Options', b'nosniff'), (b'Set-Cookie', b'_cfuvid=PSWivzbxa3ByNXJfjJjn6D8JHw6oQC4W_SO5VcX9MfI-1739790521947-0.0.1.1-604800000; path=/; domain=.api.openai.com; HttpOnly; Secure; SameSite=None'), (b'Server', b'cloudflare'), (b'CF-RAY', b'913552281f693e1c-BOM'), (b'Content-Encoding', b'gzip'), (b'alt-svc', b'h3=\":443\"; ma=86400')])\n",
      "2025-02-17 16:38:40,815 - httpx - INFO - HTTP Request: POST https://api.openai.com/v1/embeddings \"HTTP/1.1 200 OK\"\n",
      "2025-02-17 16:38:40,816 - httpcore.http11 - DEBUG - receive_response_body.started request=<Request [b'POST']>\n",
      "2025-02-17 16:38:40,817 - httpcore.http11 - DEBUG - receive_response_body.complete\n",
      "2025-02-17 16:38:40,818 - httpcore.http11 - DEBUG - response_closed.started\n",
      "2025-02-17 16:38:40,819 - httpcore.http11 - DEBUG - response_closed.complete\n",
      "2025-02-17 16:38:40,819 - openai._base_client - DEBUG - HTTP Response: POST https://api.openai.com/v1/embeddings \"200 OK\" Headers([('date', 'Mon, 17 Feb 2025 11:08:41 GMT'), ('content-type', 'application/json'), ('transfer-encoding', 'chunked'), ('connection', 'keep-alive'), ('access-control-allow-origin', '*'), ('access-control-expose-headers', 'X-Request-ID'), ('openai-model', 'text-embedding-ada-002-v2'), ('openai-organization', 'user-gccgvei9eaw4a1hksddpirf5'), ('openai-processing-ms', '48'), ('openai-version', '2020-10-01'), ('strict-transport-security', 'max-age=31536000; includeSubDomains; preload'), ('via', 'envoy-router-65bc697f7b-bvpn2'), ('x-envoy-upstream-service-time', '32'), ('x-ratelimit-limit-requests', '3000'), ('x-ratelimit-limit-tokens', '1000000'), ('x-ratelimit-remaining-requests', '2999'), ('x-ratelimit-remaining-tokens', '999996'), ('x-ratelimit-reset-requests', '20ms'), ('x-ratelimit-reset-tokens', '0s'), ('x-request-id', 'req_be28683fab6dbd659d775ef4327eb733'), ('cf-cache-status', 'DYNAMIC'), ('set-cookie', '__cf_bm=6TpyTbey_8xa5WsDM0_8iThypGboVqwDJ1eSg18KwvE-1739790521-1.0.1.1-_YX8KWGBAQuxmsmtL4ppyZY4KDDa9uVhhLskSwdnci6NxAdZ8.fiVzJEh97EFiHPoy1egDZAowo5OcF1DQncCA; path=/; expires=Mon, 17-Feb-25 11:38:41 GMT; domain=.api.openai.com; HttpOnly; Secure; SameSite=None'), ('x-content-type-options', 'nosniff'), ('set-cookie', '_cfuvid=PSWivzbxa3ByNXJfjJjn6D8JHw6oQC4W_SO5VcX9MfI-1739790521947-0.0.1.1-604800000; path=/; domain=.api.openai.com; HttpOnly; Secure; SameSite=None'), ('server', 'cloudflare'), ('cf-ray', '913552281f693e1c-BOM'), ('content-encoding', 'gzip'), ('alt-svc', 'h3=\":443\"; ma=86400')])\n",
      "2025-02-17 16:38:40,819 - openai._base_client - DEBUG - request_id: req_be28683fab6dbd659d775ef4327eb733\n"
     ]
    }
   ],
   "source": [
    "x = text_retriever.invoke(\"hello how are ya\")"
   ]
  },
  {
   "cell_type": "code",
   "execution_count": 23,
   "metadata": {},
   "outputs": [
    {
     "name": "stdout",
     "output_type": "stream",
     "text": [
      "dict_keys(['doc_id', 'file_directory', 'filename', 'filetype', 'languages', 'last_modified', 'orig_elements', 'page_number', 'raw_string', 'type'])\n",
      "text\n",
      "dict_keys(['doc_id', 'file_directory', 'filename', 'filetype', 'languages', 'last_modified', 'orig_elements', 'page_number', 'raw_string', 'type'])\n",
      "text\n",
      "dict_keys(['doc_id', 'file_directory', 'filename', 'filetype', 'languages', 'last_modified', 'orig_elements', 'page_number', 'raw_string', 'type'])\n",
      "text\n",
      "dict_keys(['doc_id', 'file_directory', 'filename', 'filetype', 'languages', 'last_modified', 'orig_elements', 'page_number', 'raw_string', 'type'])\n",
      "text\n"
     ]
    }
   ],
   "source": [
    "for i in x:\n",
    "    \n",
    "    print(i.metadata.keys())\n",
    "    print(i.metadata[\"type\"])"
   ]
  },
  {
   "cell_type": "markdown",
   "metadata": {},
   "source": [
    "# Sucess text is store in image and text vector database"
   ]
  },
  {
   "cell_type": "markdown",
   "metadata": {},
   "source": [
    "# Testing logs"
   ]
  },
  {
   "cell_type": "code",
   "execution_count": 28,
   "metadata": {},
   "outputs": [],
   "source": [
    "def log_error(exception, sucess_message=None, failure_message=None):\n",
    "    \"\"\"\n",
    "    A decorator that logs a success message if the decorated function executes without exceptions,\n",
    "    and logs an error message along with the exception details if an exception is raised.\n",
    "    Args:\n",
    "        sucess_message (str, optional): The message to log if the function executes successfully.\n",
    "        failure_message (str, optional): The message to log if the function raises an exception.\n",
    "    Returns:\n",
    "        function: The decorated function with added logging functionality.\n",
    "    \"\"\"\n",
    "    def decorator(func):  # This is the actual decorator\n",
    "        def wrapper(*args, **kwargs):\n",
    "            try:\n",
    "                result = func(*args, **kwargs)\n",
    "                if sucess_message is not None:\n",
    "                    logger.name = os.path.__file__\n",
    "                    logger.info(sucess_message)\n",
    "                return result\n",
    "            except exception as e:\n",
    "                print(f\"ERROR: {failure_message}\\nException in {func.__name__}: {e}\")\n",
    "                raise\n",
    "        return wrapper\n",
    "    return decorator \n",
    "\n",
    "from backend.logger import logger\n",
    "\n",
    "class BackendException(Exception):\n",
    "    \"\"\"Base exception class for all backend exceptions\"\"\"\n",
    "    pass\n",
    "\n",
    "class DataIngestionError(BackendException):\n",
    "    \"\"\"Exception raised for errors during data ingestion\"\"\"\n",
    "    def __init__(self, message=\"Error occurred during data ingestion\"):\n",
    "        self.message = message\n",
    "        super().__init__(self.message)\n",
    "        \n",
    "        \n",
    "@log_error(DataIngestionError, sucess_message=\"Function executed successfully\", \n",
    "           failure_message=\"Function failed to execute\")\n",
    "def foo():\n",
    "    print(\"hello\")\n",
    "    raise DataIngestionError(message=\"Function failed to execute\")"
   ]
  },
  {
   "cell_type": "code",
   "execution_count": 29,
   "metadata": {},
   "outputs": [
    {
     "name": "stdout",
     "output_type": "stream",
     "text": [
      "hello\n",
      "ERROR: Function failed to execute\n",
      "Exception in foo: Function failed to execute\n"
     ]
    },
    {
     "ename": "DataIngestionError",
     "evalue": "Function failed to execute",
     "output_type": "error",
     "traceback": [
      "\u001b[0;31m---------------------------------------------------------------------------\u001b[0m",
      "\u001b[0;31mDataIngestionError\u001b[0m                        Traceback (most recent call last)",
      "Cell \u001b[0;32mIn[29], line 1\u001b[0m\n\u001b[0;32m----> 1\u001b[0m \u001b[43mfoo\u001b[49m\u001b[43m(\u001b[49m\u001b[43m)\u001b[49m\n",
      "Cell \u001b[0;32mIn[28], line 14\u001b[0m, in \u001b[0;36mlog_error.<locals>.decorator.<locals>.wrapper\u001b[0;34m(*args, **kwargs)\u001b[0m\n\u001b[1;32m     12\u001b[0m \u001b[38;5;28;01mdef\u001b[39;00m\u001b[38;5;250m \u001b[39m\u001b[38;5;21mwrapper\u001b[39m(\u001b[38;5;241m*\u001b[39margs, \u001b[38;5;241m*\u001b[39m\u001b[38;5;241m*\u001b[39mkwargs):\n\u001b[1;32m     13\u001b[0m     \u001b[38;5;28;01mtry\u001b[39;00m:\n\u001b[0;32m---> 14\u001b[0m         result \u001b[38;5;241m=\u001b[39m \u001b[43mfunc\u001b[49m\u001b[43m(\u001b[49m\u001b[38;5;241;43m*\u001b[39;49m\u001b[43margs\u001b[49m\u001b[43m,\u001b[49m\u001b[43m \u001b[49m\u001b[38;5;241;43m*\u001b[39;49m\u001b[38;5;241;43m*\u001b[39;49m\u001b[43mkwargs\u001b[49m\u001b[43m)\u001b[49m\n\u001b[1;32m     15\u001b[0m         \u001b[38;5;28;01mif\u001b[39;00m sucess_message \u001b[38;5;129;01mis\u001b[39;00m \u001b[38;5;129;01mnot\u001b[39;00m \u001b[38;5;28;01mNone\u001b[39;00m:\n\u001b[1;32m     16\u001b[0m             logger\u001b[38;5;241m.\u001b[39mname \u001b[38;5;241m=\u001b[39m os\u001b[38;5;241m.\u001b[39mpath\u001b[38;5;241m.\u001b[39m\u001b[38;5;18m__file__\u001b[39m\n",
      "Cell \u001b[0;32mIn[28], line 42\u001b[0m, in \u001b[0;36mfoo\u001b[0;34m()\u001b[0m\n\u001b[1;32m     38\u001b[0m \u001b[38;5;129m@log_error\u001b[39m(DataIngestionError, sucess_message\u001b[38;5;241m=\u001b[39m\u001b[38;5;124m\"\u001b[39m\u001b[38;5;124mFunction executed successfully\u001b[39m\u001b[38;5;124m\"\u001b[39m, \n\u001b[1;32m     39\u001b[0m            faliure_message\u001b[38;5;241m=\u001b[39m\u001b[38;5;124m\"\u001b[39m\u001b[38;5;124mFunction failed to execute\u001b[39m\u001b[38;5;124m\"\u001b[39m)\n\u001b[1;32m     40\u001b[0m \u001b[38;5;28;01mdef\u001b[39;00m\u001b[38;5;250m \u001b[39m\u001b[38;5;21mfoo\u001b[39m():\n\u001b[1;32m     41\u001b[0m     \u001b[38;5;28mprint\u001b[39m(\u001b[38;5;124m\"\u001b[39m\u001b[38;5;124mhello\u001b[39m\u001b[38;5;124m\"\u001b[39m)\n\u001b[0;32m---> 42\u001b[0m     \u001b[38;5;28;01mraise\u001b[39;00m DataIngestionError(message\u001b[38;5;241m=\u001b[39m\u001b[38;5;124m\"\u001b[39m\u001b[38;5;124mFunction failed to execute\u001b[39m\u001b[38;5;124m\"\u001b[39m)\n",
      "\u001b[0;31mDataIngestionError\u001b[0m: Function failed to execute"
     ]
    }
   ],
   "source": [
    "foo()"
   ]
  },
  {
   "cell_type": "code",
   "execution_count": 30,
   "metadata": {},
   "outputs": [],
   "source": [
    "from backend.logger import logger\n",
    "\n",
    "logger.name =\"test\"\n",
    "\n"
   ]
  },
  {
   "cell_type": "code",
   "execution_count": 33,
   "metadata": {},
   "outputs": [
    {
     "data": {
      "text/plain": [
       "'/Users/goldyrana/miniconda3/envs/bounce/lib/python3.9/posixpath.py'"
      ]
     },
     "execution_count": 33,
     "metadata": {},
     "output_type": "execute_result"
    }
   ],
   "source": [
    "import os\n",
    "os.path.__file__"
   ]
  },
  {
   "cell_type": "code",
   "execution_count": 35,
   "metadata": {},
   "outputs": [
    {
     "ename": "NameError",
     "evalue": "name '__file__' is not defined",
     "output_type": "error",
     "traceback": [
      "\u001b[0;31m---------------------------------------------------------------------------\u001b[0m",
      "\u001b[0;31mNameError\u001b[0m                                 Traceback (most recent call last)",
      "Cell \u001b[0;32mIn[35], line 3\u001b[0m\n\u001b[1;32m      1\u001b[0m \u001b[38;5;28;01mimport\u001b[39;00m\u001b[38;5;250m \u001b[39m\u001b[38;5;21;01mos\u001b[39;00m\n\u001b[0;32m----> 3\u001b[0m current_file_name \u001b[38;5;241m=\u001b[39m os\u001b[38;5;241m.\u001b[39mpath\u001b[38;5;241m.\u001b[39mbasename(\u001b[38;5;18;43m__file__\u001b[39;49m)\n\u001b[1;32m      4\u001b[0m \u001b[38;5;28mprint\u001b[39m(current_file_name)\n",
      "\u001b[0;31mNameError\u001b[0m: name '__file__' is not defined"
     ]
    }
   ],
   "source": [
    "import os\n",
    "\n",
    "current_file_name = os.path.basename(__file__)\n",
    "print(current_file_name)"
   ]
  },
  {
   "cell_type": "code",
   "execution_count": null,
   "metadata": {},
   "outputs": [],
   "source": []
  },
  {
   "cell_type": "code",
   "execution_count": 31,
   "metadata": {},
   "outputs": [
    {
     "name": "stdout",
     "output_type": "stream",
     "text": [
      "hello\n",
      "ERROR: Function failed to execute\n",
      "Exception in foo: Function failed to execute\n"
     ]
    },
    {
     "ename": "DataIngestionError",
     "evalue": "Function failed to execute",
     "output_type": "error",
     "traceback": [
      "\u001b[0;31m---------------------------------------------------------------------------\u001b[0m",
      "\u001b[0;31mDataIngestionError\u001b[0m                        Traceback (most recent call last)",
      "Cell \u001b[0;32mIn[31], line 1\u001b[0m\n\u001b[0;32m----> 1\u001b[0m \u001b[43mfoo\u001b[49m\u001b[43m(\u001b[49m\u001b[43m)\u001b[49m\n",
      "Cell \u001b[0;32mIn[28], line 14\u001b[0m, in \u001b[0;36mlog_error.<locals>.decorator.<locals>.wrapper\u001b[0;34m(*args, **kwargs)\u001b[0m\n\u001b[1;32m     12\u001b[0m \u001b[38;5;28;01mdef\u001b[39;00m\u001b[38;5;250m \u001b[39m\u001b[38;5;21mwrapper\u001b[39m(\u001b[38;5;241m*\u001b[39margs, \u001b[38;5;241m*\u001b[39m\u001b[38;5;241m*\u001b[39mkwargs):\n\u001b[1;32m     13\u001b[0m     \u001b[38;5;28;01mtry\u001b[39;00m:\n\u001b[0;32m---> 14\u001b[0m         result \u001b[38;5;241m=\u001b[39m \u001b[43mfunc\u001b[49m\u001b[43m(\u001b[49m\u001b[38;5;241;43m*\u001b[39;49m\u001b[43margs\u001b[49m\u001b[43m,\u001b[49m\u001b[43m \u001b[49m\u001b[38;5;241;43m*\u001b[39;49m\u001b[38;5;241;43m*\u001b[39;49m\u001b[43mkwargs\u001b[49m\u001b[43m)\u001b[49m\n\u001b[1;32m     15\u001b[0m         \u001b[38;5;28;01mif\u001b[39;00m sucess_message \u001b[38;5;129;01mis\u001b[39;00m \u001b[38;5;129;01mnot\u001b[39;00m \u001b[38;5;28;01mNone\u001b[39;00m:\n\u001b[1;32m     16\u001b[0m             logger\u001b[38;5;241m.\u001b[39mname \u001b[38;5;241m=\u001b[39m os\u001b[38;5;241m.\u001b[39mpath\u001b[38;5;241m.\u001b[39m\u001b[38;5;18m__file__\u001b[39m\n",
      "Cell \u001b[0;32mIn[28], line 42\u001b[0m, in \u001b[0;36mfoo\u001b[0;34m()\u001b[0m\n\u001b[1;32m     38\u001b[0m \u001b[38;5;129m@log_error\u001b[39m(DataIngestionError, sucess_message\u001b[38;5;241m=\u001b[39m\u001b[38;5;124m\"\u001b[39m\u001b[38;5;124mFunction executed successfully\u001b[39m\u001b[38;5;124m\"\u001b[39m, \n\u001b[1;32m     39\u001b[0m            faliure_message\u001b[38;5;241m=\u001b[39m\u001b[38;5;124m\"\u001b[39m\u001b[38;5;124mFunction failed to execute\u001b[39m\u001b[38;5;124m\"\u001b[39m)\n\u001b[1;32m     40\u001b[0m \u001b[38;5;28;01mdef\u001b[39;00m\u001b[38;5;250m \u001b[39m\u001b[38;5;21mfoo\u001b[39m():\n\u001b[1;32m     41\u001b[0m     \u001b[38;5;28mprint\u001b[39m(\u001b[38;5;124m\"\u001b[39m\u001b[38;5;124mhello\u001b[39m\u001b[38;5;124m\"\u001b[39m)\n\u001b[0;32m---> 42\u001b[0m     \u001b[38;5;28;01mraise\u001b[39;00m DataIngestionError(message\u001b[38;5;241m=\u001b[39m\u001b[38;5;124m\"\u001b[39m\u001b[38;5;124mFunction failed to execute\u001b[39m\u001b[38;5;124m\"\u001b[39m)\n",
      "\u001b[0;31mDataIngestionError\u001b[0m: Function failed to execute"
     ]
    }
   ],
   "source": [
    "foo()"
   ]
  },
  {
   "cell_type": "code",
   "execution_count": 32,
   "metadata": {},
   "outputs": [
    {
     "data": {
      "text/plain": [
       "'test'"
      ]
     },
     "execution_count": 32,
     "metadata": {},
     "output_type": "execute_result"
    }
   ],
   "source": [
    "logger.name"
   ]
  },
  {
   "cell_type": "code",
   "execution_count": null,
   "metadata": {},
   "outputs": [],
   "source": []
  }
 ],
 "metadata": {
  "kernelspec": {
   "display_name": "bounce",
   "language": "python",
   "name": "python3"
  },
  "language_info": {
   "codemirror_mode": {
    "name": "ipython",
    "version": 3
   },
   "file_extension": ".py",
   "mimetype": "text/x-python",
   "name": "python",
   "nbconvert_exporter": "python",
   "pygments_lexer": "ipython3",
   "version": "3.9.21"
  }
 },
 "nbformat": 4,
 "nbformat_minor": 2
}
